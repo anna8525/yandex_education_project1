{
 "cells": [
  {
   "cell_type": "markdown",
   "metadata": {
    "toc": true
   },
   "source": [
    "<h1>Содержание<span class=\"tocSkip\"></span></h1>\n",
    "<div class=\"toc\"><ul class=\"toc-item\"><li><span><a href=\"#Подготовка-данных\" data-toc-modified-id=\"Подготовка-данных-1\"><span class=\"toc-item-num\">1&nbsp;&nbsp;</span>Подготовка данных</a></span></li><li><span><a href=\"#Исследование-задачи\" data-toc-modified-id=\"Исследование-задачи-2\"><span class=\"toc-item-num\">2&nbsp;&nbsp;</span>Исследование задачи</a></span></li><li><span><a href=\"#Борьба-с-дисбалансом\" data-toc-modified-id=\"Борьба-с-дисбалансом-3\"><span class=\"toc-item-num\">3&nbsp;&nbsp;</span>Борьба с дисбалансом</a></span></li><li><span><a href=\"#Тестирование-модели\" data-toc-modified-id=\"Тестирование-модели-4\"><span class=\"toc-item-num\">4&nbsp;&nbsp;</span>Тестирование модели</a></span></li><li><span><a href=\"#Чек-лист-готовности-проекта\" data-toc-modified-id=\"Чек-лист-готовности-проекта-5\"><span class=\"toc-item-num\">5&nbsp;&nbsp;</span>Чек-лист готовности проекта</a></span></li></ul></div>"
   ]
  },
  {
   "cell_type": "markdown",
   "metadata": {},
   "source": [
    "# Отток клиентов"
   ]
  },
  {
   "cell_type": "markdown",
   "metadata": {},
   "source": [
    "Из «Бета-Банка» стали уходить клиенты. Каждый месяц. Немного, но заметно. Банковские маркетологи посчитали: сохранять текущих клиентов дешевле, чем привлекать новых.\n",
    "\n",
    "Нужно спрогнозировать, уйдёт клиент из банка в ближайшее время или нет. Вам предоставлены исторические данные о поведении клиентов и расторжении договоров с банком. \n",
    "\n",
    "Постройте модель с предельно большим значением *F1*-меры. Чтобы сдать проект успешно, нужно довести метрику до 0.59. Проверьте *F1*-меру на тестовой выборке самостоятельно.\n",
    "\n",
    "Дополнительно измеряйте *AUC-ROC*, сравнивайте её значение с *F1*-мерой.\n",
    "\n",
    "Источник данных: [https://www.kaggle.com/barelydedicated/bank-customer-churn-modeling](https://www.kaggle.com/barelydedicated/bank-customer-churn-modeling)"
   ]
  },
  {
   "cell_type": "markdown",
   "metadata": {},
   "source": [
    "<div class=\"alert alert-info\" role=\"alert\">\n",
    "   \n",
    "<p>Введение:< Отток клиентов>\n",
    "   <p>Есть банк «Бета-Банка» из него стали уходить клиенты. Каждый месяц. Немного, но заметно. Банковские маркетологи посчитали: сохранять текущих клиентов дешевле, чем привлекать новых.\n",
    "<p>Нам нужно спрогнозировать, уйдёт клиент из банка в ближайшее время или нет. Нам предоставлены исторические данные о поведении клиентов и расторжении договоров с банком. \n",
    "<p>Дополнительно измерим AUC-ROC, сравнивним её значение с F1-мерой.\n",
    "<p>Нужно довести метрику до 0.59"
   ]
  },
  {
   "cell_type": "code",
   "execution_count": 6,
   "metadata": {},
   "outputs": [
    {
     "name": "stdout",
     "output_type": "stream",
     "text": [
      "Requirement already satisfied: scikit-learn in /home/anna/.local/lib/python3.9/site-packages (1.3.1)\n",
      "Collecting scikit-learn\n",
      "  Using cached scikit_learn-1.3.1-cp39-cp39-manylinux_2_17_x86_64.manylinux2014_x86_64.whl (10.9 MB)\n",
      "  Using cached scikit_learn-1.3.0-cp39-cp39-manylinux_2_17_x86_64.manylinux2014_x86_64.whl (10.9 MB)\n",
      "Requirement already satisfied: threadpoolctl>=2.0.0 in /home/anna/.local/lib/python3.9/site-packages (from scikit-learn) (3.2.0)\n",
      "Requirement already satisfied: scipy>=1.5.0 in /home/anna/.local/lib/python3.9/site-packages (from scikit-learn) (1.11.2)\n",
      "Requirement already satisfied: joblib>=1.1.1 in /home/anna/.local/lib/python3.9/site-packages (from scikit-learn) (1.3.2)\n",
      "Requirement already satisfied: numpy<2.0,>=1.17.3 in /home/anna/.local/lib/python3.9/site-packages (from scikit-learn) (1.23.5)\n",
      "Note: you may need to restart the kernel to use updated packages.\n"
     ]
    }
   ],
   "source": [
    "pip install --upgrade scikit-learn"
   ]
  },
  {
   "cell_type": "code",
   "execution_count": 7,
   "metadata": {},
   "outputs": [
    {
     "name": "stdout",
     "output_type": "stream",
     "text": [
      "Requirement already satisfied: scikit-learn in /home/anna/.local/lib/python3.9/site-packages (1.3.1)\n",
      "Requirement already satisfied: threadpoolctl>=2.0.0 in /home/anna/.local/lib/python3.9/site-packages (from scikit-learn) (3.2.0)\n",
      "Requirement already satisfied: joblib>=1.1.1 in /home/anna/.local/lib/python3.9/site-packages (from scikit-learn) (1.3.2)\n",
      "Requirement already satisfied: numpy<2.0,>=1.17.3 in /home/anna/.local/lib/python3.9/site-packages (from scikit-learn) (1.23.5)\n",
      "Requirement already satisfied: scipy>=1.5.0 in /home/anna/.local/lib/python3.9/site-packages (from scikit-learn) (1.11.2)\n",
      "Note: you may need to restart the kernel to use updated packages.\n"
     ]
    }
   ],
   "source": [
    "pip install scikit-learn"
   ]
  },
  {
   "cell_type": "code",
   "execution_count": 8,
   "metadata": {},
   "outputs": [],
   "source": [
    "import pandas as pd\n",
    "\n",
    "from sklearn.model_selection import train_test_split\n",
    "from sklearn.linear_model import LogisticRegression\n",
    "from sklearn.tree import DecisionTreeClassifier\n",
    "from sklearn.ensemble import RandomForestClassifier\n",
    "from sklearn.metrics import mean_absolute_error\n",
    "from sklearn.metrics import accuracy_score\n",
    "from sklearn.dummy import DummyClassifier\n",
    "import numpy as np\n",
    "from sklearn.metrics import confusion_matrix\n",
    "from sklearn.preprocessing import StandardScaler\n",
    "from sklearn.metrics import recall_score\n",
    "from sklearn.metrics import precision_score\n",
    "from sklearn.metrics import f1_score\n",
    "from sklearn.metrics import roc_auc_score\n",
    "from sklearn.utils import shuffle\n",
    "import matplotlib.pyplot as plt\n",
    "from sklearn.metrics import roc_curve"
   ]
  },
  {
   "cell_type": "markdown",
   "metadata": {},
   "source": [
    "Загрузили все нужные библиотеки"
   ]
  },
  {
   "cell_type": "code",
   "execution_count": 9,
   "metadata": {},
   "outputs": [],
   "source": [
    "bank = pd.read_csv('/home/anna/datasets/Churn.csv')"
   ]
  },
  {
   "cell_type": "code",
   "execution_count": 10,
   "metadata": {},
   "outputs": [
    {
     "name": "stdout",
     "output_type": "stream",
     "text": [
      "<class 'pandas.core.frame.DataFrame'>\n",
      "RangeIndex: 10000 entries, 0 to 9999\n",
      "Data columns (total 14 columns):\n",
      " #   Column           Non-Null Count  Dtype  \n",
      "---  ------           --------------  -----  \n",
      " 0   RowNumber        10000 non-null  int64  \n",
      " 1   CustomerId       10000 non-null  int64  \n",
      " 2   Surname          10000 non-null  object \n",
      " 3   CreditScore      10000 non-null  int64  \n",
      " 4   Geography        10000 non-null  object \n",
      " 5   Gender           10000 non-null  object \n",
      " 6   Age              10000 non-null  int64  \n",
      " 7   Tenure           9091 non-null   float64\n",
      " 8   Balance          10000 non-null  float64\n",
      " 9   NumOfProducts    10000 non-null  int64  \n",
      " 10  HasCrCard        10000 non-null  int64  \n",
      " 11  IsActiveMember   10000 non-null  int64  \n",
      " 12  EstimatedSalary  10000 non-null  float64\n",
      " 13  Exited           10000 non-null  int64  \n",
      "dtypes: float64(3), int64(8), object(3)\n",
      "memory usage: 1.1+ MB\n"
     ]
    }
   ],
   "source": [
    "bank.info()"
   ]
  },
  {
   "cell_type": "code",
   "execution_count": 11,
   "metadata": {},
   "outputs": [
    {
     "data": {
      "text/plain": [
       "RowNumber            0\n",
       "CustomerId           0\n",
       "Surname              0\n",
       "CreditScore          0\n",
       "Geography            0\n",
       "Gender               0\n",
       "Age                  0\n",
       "Tenure             909\n",
       "Balance              0\n",
       "NumOfProducts        0\n",
       "HasCrCard            0\n",
       "IsActiveMember       0\n",
       "EstimatedSalary      0\n",
       "Exited               0\n",
       "dtype: int64"
      ]
     },
     "execution_count": 11,
     "metadata": {},
     "output_type": "execute_result"
    }
   ],
   "source": [
    "bank.isna().sum()"
   ]
  },
  {
   "cell_type": "code",
   "execution_count": 12,
   "metadata": {},
   "outputs": [
    {
     "data": {
      "text/plain": [
       "9091"
      ]
     },
     "execution_count": 12,
     "metadata": {},
     "output_type": "execute_result"
    }
   ],
   "source": [
    "bank['Tenure'].value_counts().sum()"
   ]
  },
  {
   "cell_type": "code",
   "execution_count": 13,
   "metadata": {},
   "outputs": [
    {
     "data": {
      "text/plain": [
       "1.0     952\n",
       "2.0     950\n",
       "8.0     933\n",
       "3.0     928\n",
       "5.0     927\n",
       "7.0     925\n",
       "4.0     885\n",
       "9.0     882\n",
       "6.0     881\n",
       "10.0    446\n",
       "0.0     382\n",
       "Name: Tenure, dtype: int64"
      ]
     },
     "execution_count": 13,
     "metadata": {},
     "output_type": "execute_result"
    }
   ],
   "source": [
    "bank['Tenure'].value_counts()"
   ]
  },
  {
   "cell_type": "code",
   "execution_count": 14,
   "metadata": {
    "scrolled": true
   },
   "outputs": [],
   "source": [
    "bank['Tenure'] =bank['Tenure'].fillna(0)"
   ]
  },
  {
   "attachments": {},
   "cell_type": "markdown",
   "metadata": {},
   "source": [
    "<div class=\"alert alert-block alert-info\">\n",
    "<b>Медиана и радномное заполнение - не повлияет на распределение и по минимуму исказит природу данных, которая нам не до конца известна\n",
    "</div>"
   ]
  },
  {
   "cell_type": "code",
   "execution_count": 15,
   "metadata": {
    "scrolled": true
   },
   "outputs": [
    {
     "data": {
      "text/plain": [
       "0.0     1291\n",
       "1.0      952\n",
       "2.0      950\n",
       "8.0      933\n",
       "3.0      928\n",
       "5.0      927\n",
       "7.0      925\n",
       "4.0      885\n",
       "9.0      882\n",
       "6.0      881\n",
       "10.0     446\n",
       "Name: Tenure, dtype: int64"
      ]
     },
     "execution_count": 15,
     "metadata": {},
     "output_type": "execute_result"
    }
   ],
   "source": [
    "bank['Tenure'].value_counts()"
   ]
  },
  {
   "cell_type": "code",
   "execution_count": 16,
   "metadata": {},
   "outputs": [],
   "source": [
    "bank['Tenure'] = bank['Tenure'].astype (int)"
   ]
  },
  {
   "cell_type": "code",
   "execution_count": 17,
   "metadata": {
    "scrolled": true
   },
   "outputs": [
    {
     "name": "stdout",
     "output_type": "stream",
     "text": [
      "<class 'pandas.core.frame.DataFrame'>\n",
      "RangeIndex: 10000 entries, 0 to 9999\n",
      "Data columns (total 14 columns):\n",
      " #   Column           Non-Null Count  Dtype  \n",
      "---  ------           --------------  -----  \n",
      " 0   RowNumber        10000 non-null  int64  \n",
      " 1   CustomerId       10000 non-null  int64  \n",
      " 2   Surname          10000 non-null  object \n",
      " 3   CreditScore      10000 non-null  int64  \n",
      " 4   Geography        10000 non-null  object \n",
      " 5   Gender           10000 non-null  object \n",
      " 6   Age              10000 non-null  int64  \n",
      " 7   Tenure           10000 non-null  int64  \n",
      " 8   Balance          10000 non-null  float64\n",
      " 9   NumOfProducts    10000 non-null  int64  \n",
      " 10  HasCrCard        10000 non-null  int64  \n",
      " 11  IsActiveMember   10000 non-null  int64  \n",
      " 12  EstimatedSalary  10000 non-null  float64\n",
      " 13  Exited           10000 non-null  int64  \n",
      "dtypes: float64(2), int64(9), object(3)\n",
      "memory usage: 1.1+ MB\n"
     ]
    }
   ],
   "source": [
    "bank.info()"
   ]
  },
  {
   "cell_type": "markdown",
   "metadata": {},
   "source": [
    "<div class=\"alert alert-info\" role=\"alert\">\n",
    "<p>Мы видим проблему с одни из столбцов : Tenure — сколько лет человек является клиентом банка.\n",
    "<p>1) не правильно определен тип данных, мы его изменили на int64. Важная поправка, мы можем поменять тип , только после того, как избавимся от пропусков. \n",
    "<p>2) у нас в этом столбце есть пропуски, которые составляют 10 % от общего числа столбца. Сделать замену методами (средним и медианой) не является правильным решением, так как другие ячейки не могут сделать прогноз на пропуски. Мной было принято решение заменить пропуски на 0 ( на сурагатное значение).\n"
   ]
  },
  {
   "cell_type": "code",
   "execution_count": 18,
   "metadata": {
    "scrolled": false
   },
   "outputs": [
    {
     "data": {
      "text/html": [
       "<div>\n",
       "<style scoped>\n",
       "    .dataframe tbody tr th:only-of-type {\n",
       "        vertical-align: middle;\n",
       "    }\n",
       "\n",
       "    .dataframe tbody tr th {\n",
       "        vertical-align: top;\n",
       "    }\n",
       "\n",
       "    .dataframe thead th {\n",
       "        text-align: right;\n",
       "    }\n",
       "</style>\n",
       "<table border=\"1\" class=\"dataframe\">\n",
       "  <thead>\n",
       "    <tr style=\"text-align: right;\">\n",
       "      <th></th>\n",
       "      <th>RowNumber</th>\n",
       "      <th>CustomerId</th>\n",
       "      <th>CreditScore</th>\n",
       "      <th>Age</th>\n",
       "      <th>Tenure</th>\n",
       "      <th>Balance</th>\n",
       "      <th>NumOfProducts</th>\n",
       "      <th>HasCrCard</th>\n",
       "      <th>IsActiveMember</th>\n",
       "      <th>EstimatedSalary</th>\n",
       "      <th>Exited</th>\n",
       "    </tr>\n",
       "  </thead>\n",
       "  <tbody>\n",
       "    <tr>\n",
       "      <th>count</th>\n",
       "      <td>10000.0</td>\n",
       "      <td>10000.0</td>\n",
       "      <td>10000.0</td>\n",
       "      <td>10000.0</td>\n",
       "      <td>10000.0</td>\n",
       "      <td>10000.0</td>\n",
       "      <td>10000.0</td>\n",
       "      <td>10000.0</td>\n",
       "      <td>10000.0</td>\n",
       "      <td>10000.0</td>\n",
       "      <td>10000.0</td>\n",
       "    </tr>\n",
       "    <tr>\n",
       "      <th>mean</th>\n",
       "      <td>5000.0</td>\n",
       "      <td>15690941.0</td>\n",
       "      <td>651.0</td>\n",
       "      <td>39.0</td>\n",
       "      <td>5.0</td>\n",
       "      <td>76486.0</td>\n",
       "      <td>2.0</td>\n",
       "      <td>1.0</td>\n",
       "      <td>1.0</td>\n",
       "      <td>100090.0</td>\n",
       "      <td>0.0</td>\n",
       "    </tr>\n",
       "    <tr>\n",
       "      <th>std</th>\n",
       "      <td>2887.0</td>\n",
       "      <td>71936.0</td>\n",
       "      <td>97.0</td>\n",
       "      <td>10.0</td>\n",
       "      <td>3.0</td>\n",
       "      <td>62397.0</td>\n",
       "      <td>1.0</td>\n",
       "      <td>0.0</td>\n",
       "      <td>0.0</td>\n",
       "      <td>57510.0</td>\n",
       "      <td>0.0</td>\n",
       "    </tr>\n",
       "    <tr>\n",
       "      <th>min</th>\n",
       "      <td>1.0</td>\n",
       "      <td>15565701.0</td>\n",
       "      <td>350.0</td>\n",
       "      <td>18.0</td>\n",
       "      <td>0.0</td>\n",
       "      <td>0.0</td>\n",
       "      <td>1.0</td>\n",
       "      <td>0.0</td>\n",
       "      <td>0.0</td>\n",
       "      <td>12.0</td>\n",
       "      <td>0.0</td>\n",
       "    </tr>\n",
       "    <tr>\n",
       "      <th>25%</th>\n",
       "      <td>2501.0</td>\n",
       "      <td>15628528.0</td>\n",
       "      <td>584.0</td>\n",
       "      <td>32.0</td>\n",
       "      <td>2.0</td>\n",
       "      <td>0.0</td>\n",
       "      <td>1.0</td>\n",
       "      <td>0.0</td>\n",
       "      <td>0.0</td>\n",
       "      <td>51002.0</td>\n",
       "      <td>0.0</td>\n",
       "    </tr>\n",
       "    <tr>\n",
       "      <th>50%</th>\n",
       "      <td>5000.0</td>\n",
       "      <td>15690738.0</td>\n",
       "      <td>652.0</td>\n",
       "      <td>37.0</td>\n",
       "      <td>4.0</td>\n",
       "      <td>97199.0</td>\n",
       "      <td>1.0</td>\n",
       "      <td>1.0</td>\n",
       "      <td>1.0</td>\n",
       "      <td>100194.0</td>\n",
       "      <td>0.0</td>\n",
       "    </tr>\n",
       "    <tr>\n",
       "      <th>75%</th>\n",
       "      <td>7500.0</td>\n",
       "      <td>15753234.0</td>\n",
       "      <td>718.0</td>\n",
       "      <td>44.0</td>\n",
       "      <td>7.0</td>\n",
       "      <td>127644.0</td>\n",
       "      <td>2.0</td>\n",
       "      <td>1.0</td>\n",
       "      <td>1.0</td>\n",
       "      <td>149388.0</td>\n",
       "      <td>0.0</td>\n",
       "    </tr>\n",
       "    <tr>\n",
       "      <th>max</th>\n",
       "      <td>10000.0</td>\n",
       "      <td>15815690.0</td>\n",
       "      <td>850.0</td>\n",
       "      <td>92.0</td>\n",
       "      <td>10.0</td>\n",
       "      <td>250898.0</td>\n",
       "      <td>4.0</td>\n",
       "      <td>1.0</td>\n",
       "      <td>1.0</td>\n",
       "      <td>199992.0</td>\n",
       "      <td>1.0</td>\n",
       "    </tr>\n",
       "  </tbody>\n",
       "</table>\n",
       "</div>"
      ],
      "text/plain": [
       "       RowNumber  CustomerId  CreditScore      Age   Tenure   Balance  \\\n",
       "count    10000.0     10000.0      10000.0  10000.0  10000.0   10000.0   \n",
       "mean      5000.0  15690941.0        651.0     39.0      5.0   76486.0   \n",
       "std       2887.0     71936.0         97.0     10.0      3.0   62397.0   \n",
       "min          1.0  15565701.0        350.0     18.0      0.0       0.0   \n",
       "25%       2501.0  15628528.0        584.0     32.0      2.0       0.0   \n",
       "50%       5000.0  15690738.0        652.0     37.0      4.0   97199.0   \n",
       "75%       7500.0  15753234.0        718.0     44.0      7.0  127644.0   \n",
       "max      10000.0  15815690.0        850.0     92.0     10.0  250898.0   \n",
       "\n",
       "       NumOfProducts  HasCrCard  IsActiveMember  EstimatedSalary   Exited  \n",
       "count        10000.0    10000.0         10000.0          10000.0  10000.0  \n",
       "mean             2.0        1.0             1.0         100090.0      0.0  \n",
       "std              1.0        0.0             0.0          57510.0      0.0  \n",
       "min              1.0        0.0             0.0             12.0      0.0  \n",
       "25%              1.0        0.0             0.0          51002.0      0.0  \n",
       "50%              1.0        1.0             1.0         100194.0      0.0  \n",
       "75%              2.0        1.0             1.0         149388.0      0.0  \n",
       "max              4.0        1.0             1.0         199992.0      1.0  "
      ]
     },
     "execution_count": 18,
     "metadata": {},
     "output_type": "execute_result"
    }
   ],
   "source": [
    "bank.describe().round(0)"
   ]
  },
  {
   "cell_type": "markdown",
   "metadata": {},
   "source": [
    "<div class=\"alert alert-info\" role=\"alert\">\n",
    "Есть некие странности в столбцах :\n",
    "    1)EstimatedSalary — предполагаемая зарплата - минимальная зарплата 12.0 . Это или ошибка программы, или человеческий фактор ошибки. "
   ]
  },
  {
   "cell_type": "code",
   "execution_count": 19,
   "metadata": {},
   "outputs": [
    {
     "data": {
      "text/html": [
       "<div>\n",
       "<style scoped>\n",
       "    .dataframe tbody tr th:only-of-type {\n",
       "        vertical-align: middle;\n",
       "    }\n",
       "\n",
       "    .dataframe tbody tr th {\n",
       "        vertical-align: top;\n",
       "    }\n",
       "\n",
       "    .dataframe thead th {\n",
       "        text-align: right;\n",
       "    }\n",
       "</style>\n",
       "<table border=\"1\" class=\"dataframe\">\n",
       "  <thead>\n",
       "    <tr style=\"text-align: right;\">\n",
       "      <th></th>\n",
       "      <th>RowNumber</th>\n",
       "      <th>CustomerId</th>\n",
       "      <th>Surname</th>\n",
       "      <th>CreditScore</th>\n",
       "      <th>Geography</th>\n",
       "      <th>Gender</th>\n",
       "      <th>Age</th>\n",
       "      <th>Tenure</th>\n",
       "      <th>Balance</th>\n",
       "      <th>NumOfProducts</th>\n",
       "      <th>HasCrCard</th>\n",
       "      <th>IsActiveMember</th>\n",
       "      <th>EstimatedSalary</th>\n",
       "      <th>Exited</th>\n",
       "    </tr>\n",
       "  </thead>\n",
       "  <tbody>\n",
       "    <tr>\n",
       "      <th>0</th>\n",
       "      <td>1</td>\n",
       "      <td>15634602</td>\n",
       "      <td>Hargrave</td>\n",
       "      <td>619</td>\n",
       "      <td>France</td>\n",
       "      <td>Female</td>\n",
       "      <td>42</td>\n",
       "      <td>2</td>\n",
       "      <td>0.00</td>\n",
       "      <td>1</td>\n",
       "      <td>1</td>\n",
       "      <td>1</td>\n",
       "      <td>101348.88</td>\n",
       "      <td>1</td>\n",
       "    </tr>\n",
       "    <tr>\n",
       "      <th>1</th>\n",
       "      <td>2</td>\n",
       "      <td>15647311</td>\n",
       "      <td>Hill</td>\n",
       "      <td>608</td>\n",
       "      <td>Spain</td>\n",
       "      <td>Female</td>\n",
       "      <td>41</td>\n",
       "      <td>1</td>\n",
       "      <td>83807.86</td>\n",
       "      <td>1</td>\n",
       "      <td>0</td>\n",
       "      <td>1</td>\n",
       "      <td>112542.58</td>\n",
       "      <td>0</td>\n",
       "    </tr>\n",
       "    <tr>\n",
       "      <th>2</th>\n",
       "      <td>3</td>\n",
       "      <td>15619304</td>\n",
       "      <td>Onio</td>\n",
       "      <td>502</td>\n",
       "      <td>France</td>\n",
       "      <td>Female</td>\n",
       "      <td>42</td>\n",
       "      <td>8</td>\n",
       "      <td>159660.80</td>\n",
       "      <td>3</td>\n",
       "      <td>1</td>\n",
       "      <td>0</td>\n",
       "      <td>113931.57</td>\n",
       "      <td>1</td>\n",
       "    </tr>\n",
       "    <tr>\n",
       "      <th>3</th>\n",
       "      <td>4</td>\n",
       "      <td>15701354</td>\n",
       "      <td>Boni</td>\n",
       "      <td>699</td>\n",
       "      <td>France</td>\n",
       "      <td>Female</td>\n",
       "      <td>39</td>\n",
       "      <td>1</td>\n",
       "      <td>0.00</td>\n",
       "      <td>2</td>\n",
       "      <td>0</td>\n",
       "      <td>0</td>\n",
       "      <td>93826.63</td>\n",
       "      <td>0</td>\n",
       "    </tr>\n",
       "    <tr>\n",
       "      <th>4</th>\n",
       "      <td>5</td>\n",
       "      <td>15737888</td>\n",
       "      <td>Mitchell</td>\n",
       "      <td>850</td>\n",
       "      <td>Spain</td>\n",
       "      <td>Female</td>\n",
       "      <td>43</td>\n",
       "      <td>2</td>\n",
       "      <td>125510.82</td>\n",
       "      <td>1</td>\n",
       "      <td>1</td>\n",
       "      <td>1</td>\n",
       "      <td>79084.10</td>\n",
       "      <td>0</td>\n",
       "    </tr>\n",
       "  </tbody>\n",
       "</table>\n",
       "</div>"
      ],
      "text/plain": [
       "   RowNumber  CustomerId   Surname  CreditScore Geography  Gender  Age  \\\n",
       "0          1    15634602  Hargrave          619    France  Female   42   \n",
       "1          2    15647311      Hill          608     Spain  Female   41   \n",
       "2          3    15619304      Onio          502    France  Female   42   \n",
       "3          4    15701354      Boni          699    France  Female   39   \n",
       "4          5    15737888  Mitchell          850     Spain  Female   43   \n",
       "\n",
       "   Tenure    Balance  NumOfProducts  HasCrCard  IsActiveMember  \\\n",
       "0       2       0.00              1          1               1   \n",
       "1       1   83807.86              1          0               1   \n",
       "2       8  159660.80              3          1               0   \n",
       "3       1       0.00              2          0               0   \n",
       "4       2  125510.82              1          1               1   \n",
       "\n",
       "   EstimatedSalary  Exited  \n",
       "0        101348.88       1  \n",
       "1        112542.58       0  \n",
       "2        113931.57       1  \n",
       "3         93826.63       0  \n",
       "4         79084.10       0  "
      ]
     },
     "execution_count": 19,
     "metadata": {},
     "output_type": "execute_result"
    }
   ],
   "source": [
    "bank.head()"
   ]
  },
  {
   "cell_type": "markdown",
   "metadata": {},
   "source": [
    "Вывод\n",
    "\n",
    "Отлично, все три региона потенциально прибыльные, для определения наиболее выгодного с точки зрения окупаемости вложений и рисков убытка проведём расчёт вероятности в следующей главе.\n",
    "\n",
    "Загрузили и подготовили данные.\n",
    "В столбце ['Tenure'] убрали пропуски и привели к типу int64.\n",
    "Столбец ['EstimatedSalary'] минимальная предполагаемая зп под вопросом, поработаем дальше и решим, что с ним делать.\n",
    "    <p> Нам нунжо привести 2 столбца Geography \tGender к OHE"
   ]
  },
  {
   "cell_type": "markdown",
   "metadata": {},
   "source": [
    "## Исследование задачи"
   ]
  },
  {
   "cell_type": "code",
   "execution_count": 20,
   "metadata": {},
   "outputs": [
    {
     "data": {
      "text/html": [
       "<div>\n",
       "<style scoped>\n",
       "    .dataframe tbody tr th:only-of-type {\n",
       "        vertical-align: middle;\n",
       "    }\n",
       "\n",
       "    .dataframe tbody tr th {\n",
       "        vertical-align: top;\n",
       "    }\n",
       "\n",
       "    .dataframe thead th {\n",
       "        text-align: right;\n",
       "    }\n",
       "</style>\n",
       "<table border=\"1\" class=\"dataframe\">\n",
       "  <thead>\n",
       "    <tr style=\"text-align: right;\">\n",
       "      <th></th>\n",
       "      <th>CreditScore</th>\n",
       "      <th>Geography</th>\n",
       "      <th>Gender</th>\n",
       "      <th>Age</th>\n",
       "      <th>Tenure</th>\n",
       "      <th>Balance</th>\n",
       "      <th>NumOfProducts</th>\n",
       "      <th>HasCrCard</th>\n",
       "      <th>IsActiveMember</th>\n",
       "      <th>EstimatedSalary</th>\n",
       "      <th>Exited</th>\n",
       "    </tr>\n",
       "  </thead>\n",
       "  <tbody>\n",
       "    <tr>\n",
       "      <th>0</th>\n",
       "      <td>619</td>\n",
       "      <td>France</td>\n",
       "      <td>Female</td>\n",
       "      <td>42</td>\n",
       "      <td>2</td>\n",
       "      <td>0.00</td>\n",
       "      <td>1</td>\n",
       "      <td>1</td>\n",
       "      <td>1</td>\n",
       "      <td>101348.88</td>\n",
       "      <td>1</td>\n",
       "    </tr>\n",
       "    <tr>\n",
       "      <th>1</th>\n",
       "      <td>608</td>\n",
       "      <td>Spain</td>\n",
       "      <td>Female</td>\n",
       "      <td>41</td>\n",
       "      <td>1</td>\n",
       "      <td>83807.86</td>\n",
       "      <td>1</td>\n",
       "      <td>0</td>\n",
       "      <td>1</td>\n",
       "      <td>112542.58</td>\n",
       "      <td>0</td>\n",
       "    </tr>\n",
       "    <tr>\n",
       "      <th>2</th>\n",
       "      <td>502</td>\n",
       "      <td>France</td>\n",
       "      <td>Female</td>\n",
       "      <td>42</td>\n",
       "      <td>8</td>\n",
       "      <td>159660.80</td>\n",
       "      <td>3</td>\n",
       "      <td>1</td>\n",
       "      <td>0</td>\n",
       "      <td>113931.57</td>\n",
       "      <td>1</td>\n",
       "    </tr>\n",
       "    <tr>\n",
       "      <th>3</th>\n",
       "      <td>699</td>\n",
       "      <td>France</td>\n",
       "      <td>Female</td>\n",
       "      <td>39</td>\n",
       "      <td>1</td>\n",
       "      <td>0.00</td>\n",
       "      <td>2</td>\n",
       "      <td>0</td>\n",
       "      <td>0</td>\n",
       "      <td>93826.63</td>\n",
       "      <td>0</td>\n",
       "    </tr>\n",
       "    <tr>\n",
       "      <th>4</th>\n",
       "      <td>850</td>\n",
       "      <td>Spain</td>\n",
       "      <td>Female</td>\n",
       "      <td>43</td>\n",
       "      <td>2</td>\n",
       "      <td>125510.82</td>\n",
       "      <td>1</td>\n",
       "      <td>1</td>\n",
       "      <td>1</td>\n",
       "      <td>79084.10</td>\n",
       "      <td>0</td>\n",
       "    </tr>\n",
       "  </tbody>\n",
       "</table>\n",
       "</div>"
      ],
      "text/plain": [
       "   CreditScore Geography  Gender  Age  Tenure    Balance  NumOfProducts  \\\n",
       "0          619    France  Female   42       2       0.00              1   \n",
       "1          608     Spain  Female   41       1   83807.86              1   \n",
       "2          502    France  Female   42       8  159660.80              3   \n",
       "3          699    France  Female   39       1       0.00              2   \n",
       "4          850     Spain  Female   43       2  125510.82              1   \n",
       "\n",
       "   HasCrCard  IsActiveMember  EstimatedSalary  Exited  \n",
       "0          1               1        101348.88       1  \n",
       "1          0               1        112542.58       0  \n",
       "2          1               0        113931.57       1  \n",
       "3          0               0         93826.63       0  \n",
       "4          1               1         79084.10       0  "
      ]
     },
     "execution_count": 20,
     "metadata": {},
     "output_type": "execute_result"
    }
   ],
   "source": [
    "#Удалим столбцы не нужные, не имеют для нас существенного интереса\n",
    "drop = ['RowNumber','CustomerId', 'Surname']\n",
    "bank = bank.drop(drop, axis=1)\n",
    "bank.head()\n"
   ]
  },
  {
   "cell_type": "code",
   "execution_count": 21,
   "metadata": {},
   "outputs": [],
   "source": [
    "bank = pd.get_dummies(bank, drop_first=True, columns=['Gender', 'Geography'])"
   ]
  },
  {
   "cell_type": "code",
   "execution_count": 22,
   "metadata": {},
   "outputs": [
    {
     "data": {
      "text/html": [
       "<div>\n",
       "<style scoped>\n",
       "    .dataframe tbody tr th:only-of-type {\n",
       "        vertical-align: middle;\n",
       "    }\n",
       "\n",
       "    .dataframe tbody tr th {\n",
       "        vertical-align: top;\n",
       "    }\n",
       "\n",
       "    .dataframe thead th {\n",
       "        text-align: right;\n",
       "    }\n",
       "</style>\n",
       "<table border=\"1\" class=\"dataframe\">\n",
       "  <thead>\n",
       "    <tr style=\"text-align: right;\">\n",
       "      <th></th>\n",
       "      <th>CreditScore</th>\n",
       "      <th>Age</th>\n",
       "      <th>Tenure</th>\n",
       "      <th>Balance</th>\n",
       "      <th>NumOfProducts</th>\n",
       "      <th>HasCrCard</th>\n",
       "      <th>IsActiveMember</th>\n",
       "      <th>EstimatedSalary</th>\n",
       "      <th>Exited</th>\n",
       "      <th>Gender_Male</th>\n",
       "      <th>Geography_Germany</th>\n",
       "      <th>Geography_Spain</th>\n",
       "    </tr>\n",
       "  </thead>\n",
       "  <tbody>\n",
       "    <tr>\n",
       "      <th>0</th>\n",
       "      <td>619</td>\n",
       "      <td>42</td>\n",
       "      <td>2</td>\n",
       "      <td>0.00</td>\n",
       "      <td>1</td>\n",
       "      <td>1</td>\n",
       "      <td>1</td>\n",
       "      <td>101348.88</td>\n",
       "      <td>1</td>\n",
       "      <td>0</td>\n",
       "      <td>0</td>\n",
       "      <td>0</td>\n",
       "    </tr>\n",
       "    <tr>\n",
       "      <th>1</th>\n",
       "      <td>608</td>\n",
       "      <td>41</td>\n",
       "      <td>1</td>\n",
       "      <td>83807.86</td>\n",
       "      <td>1</td>\n",
       "      <td>0</td>\n",
       "      <td>1</td>\n",
       "      <td>112542.58</td>\n",
       "      <td>0</td>\n",
       "      <td>0</td>\n",
       "      <td>0</td>\n",
       "      <td>1</td>\n",
       "    </tr>\n",
       "    <tr>\n",
       "      <th>2</th>\n",
       "      <td>502</td>\n",
       "      <td>42</td>\n",
       "      <td>8</td>\n",
       "      <td>159660.80</td>\n",
       "      <td>3</td>\n",
       "      <td>1</td>\n",
       "      <td>0</td>\n",
       "      <td>113931.57</td>\n",
       "      <td>1</td>\n",
       "      <td>0</td>\n",
       "      <td>0</td>\n",
       "      <td>0</td>\n",
       "    </tr>\n",
       "    <tr>\n",
       "      <th>3</th>\n",
       "      <td>699</td>\n",
       "      <td>39</td>\n",
       "      <td>1</td>\n",
       "      <td>0.00</td>\n",
       "      <td>2</td>\n",
       "      <td>0</td>\n",
       "      <td>0</td>\n",
       "      <td>93826.63</td>\n",
       "      <td>0</td>\n",
       "      <td>0</td>\n",
       "      <td>0</td>\n",
       "      <td>0</td>\n",
       "    </tr>\n",
       "    <tr>\n",
       "      <th>4</th>\n",
       "      <td>850</td>\n",
       "      <td>43</td>\n",
       "      <td>2</td>\n",
       "      <td>125510.82</td>\n",
       "      <td>1</td>\n",
       "      <td>1</td>\n",
       "      <td>1</td>\n",
       "      <td>79084.10</td>\n",
       "      <td>0</td>\n",
       "      <td>0</td>\n",
       "      <td>0</td>\n",
       "      <td>1</td>\n",
       "    </tr>\n",
       "  </tbody>\n",
       "</table>\n",
       "</div>"
      ],
      "text/plain": [
       "   CreditScore  Age  Tenure    Balance  NumOfProducts  HasCrCard  \\\n",
       "0          619   42       2       0.00              1          1   \n",
       "1          608   41       1   83807.86              1          0   \n",
       "2          502   42       8  159660.80              3          1   \n",
       "3          699   39       1       0.00              2          0   \n",
       "4          850   43       2  125510.82              1          1   \n",
       "\n",
       "   IsActiveMember  EstimatedSalary  Exited  Gender_Male  Geography_Germany  \\\n",
       "0               1        101348.88       1            0                  0   \n",
       "1               1        112542.58       0            0                  0   \n",
       "2               0        113931.57       1            0                  0   \n",
       "3               0         93826.63       0            0                  0   \n",
       "4               1         79084.10       0            0                  0   \n",
       "\n",
       "   Geography_Spain  \n",
       "0                0  \n",
       "1                1  \n",
       "2                0  \n",
       "3                0  \n",
       "4                1  "
      ]
     },
     "execution_count": 22,
     "metadata": {},
     "output_type": "execute_result"
    }
   ],
   "source": [
    "bank.head()"
   ]
  },
  {
   "cell_type": "code",
   "execution_count": 23,
   "metadata": {},
   "outputs": [],
   "source": [
    "target = bank['Exited'] #целевой признак\n",
    "features = bank.drop(['Exited'],axis = 1) #признаки"
   ]
  },
  {
   "cell_type": "markdown",
   "metadata": {},
   "source": [
    "Выделили целевой и признаки"
   ]
  },
  {
   "cell_type": "code",
   "execution_count": 24,
   "metadata": {},
   "outputs": [],
   "source": [
    "features_train,features_test, target_train,target_test = train_test_split(\n",
    "    features,target,\n",
    "    test_size=0.4,\n",
    "    random_state=12345)"
   ]
  },
  {
   "cell_type": "code",
   "execution_count": 25,
   "metadata": {
    "scrolled": true
   },
   "outputs": [
    {
     "name": "stdout",
     "output_type": "stream",
     "text": [
      "(6000, 11)\n",
      "(6000,)\n"
     ]
    }
   ],
   "source": [
    "print(features_train.shape)\n",
    "print(target_train.shape)"
   ]
  },
  {
   "cell_type": "markdown",
   "metadata": {},
   "source": [
    "<div class=\"alert alert-info\" role=\"alert\">\n",
    "Разбили данные на выборку обучающую и тестовую\n",
    "Вывели размеры обучающей"
   ]
  },
  {
   "cell_type": "code",
   "execution_count": 26,
   "metadata": {},
   "outputs": [],
   "source": [
    "features_valid,features_test,target_valid,target_test = train_test_split(\n",
    "    features_test,target_test,\n",
    "    test_size=0.5,\n",
    "    random_state=12345)"
   ]
  },
  {
   "cell_type": "code",
   "execution_count": 27,
   "metadata": {
    "scrolled": true
   },
   "outputs": [
    {
     "name": "stdout",
     "output_type": "stream",
     "text": [
      "(2000, 11)\n",
      "(2000,)\n"
     ]
    }
   ],
   "source": [
    "print(features_valid.shape)\n",
    "print(target_valid.shape)"
   ]
  },
  {
   "cell_type": "markdown",
   "metadata": {},
   "source": [
    "<div class=\"alert alert-info\" role=\"alert\">\n",
    " Разбили данные на валидационную и тестовую выборку в соотношении 1 к 1."
   ]
  },
  {
   "cell_type": "code",
   "execution_count": 28,
   "metadata": {},
   "outputs": [],
   "source": [
    "#список численных признаков\n",
    "numeric = ['CreditScore', 'Age', 'Tenure', 'Balance', 'NumOfProducts', 'EstimatedSalary']"
   ]
  },
  {
   "cell_type": "code",
   "execution_count": 29,
   "metadata": {},
   "outputs": [
    {
     "data": {
      "text/html": [
       "<style>#sk-container-id-1 {color: black;}#sk-container-id-1 pre{padding: 0;}#sk-container-id-1 div.sk-toggleable {background-color: white;}#sk-container-id-1 label.sk-toggleable__label {cursor: pointer;display: block;width: 100%;margin-bottom: 0;padding: 0.3em;box-sizing: border-box;text-align: center;}#sk-container-id-1 label.sk-toggleable__label-arrow:before {content: \"▸\";float: left;margin-right: 0.25em;color: #696969;}#sk-container-id-1 label.sk-toggleable__label-arrow:hover:before {color: black;}#sk-container-id-1 div.sk-estimator:hover label.sk-toggleable__label-arrow:before {color: black;}#sk-container-id-1 div.sk-toggleable__content {max-height: 0;max-width: 0;overflow: hidden;text-align: left;background-color: #f0f8ff;}#sk-container-id-1 div.sk-toggleable__content pre {margin: 0.2em;color: black;border-radius: 0.25em;background-color: #f0f8ff;}#sk-container-id-1 input.sk-toggleable__control:checked~div.sk-toggleable__content {max-height: 200px;max-width: 100%;overflow: auto;}#sk-container-id-1 input.sk-toggleable__control:checked~label.sk-toggleable__label-arrow:before {content: \"▾\";}#sk-container-id-1 div.sk-estimator input.sk-toggleable__control:checked~label.sk-toggleable__label {background-color: #d4ebff;}#sk-container-id-1 div.sk-label input.sk-toggleable__control:checked~label.sk-toggleable__label {background-color: #d4ebff;}#sk-container-id-1 input.sk-hidden--visually {border: 0;clip: rect(1px 1px 1px 1px);clip: rect(1px, 1px, 1px, 1px);height: 1px;margin: -1px;overflow: hidden;padding: 0;position: absolute;width: 1px;}#sk-container-id-1 div.sk-estimator {font-family: monospace;background-color: #f0f8ff;border: 1px dotted black;border-radius: 0.25em;box-sizing: border-box;margin-bottom: 0.5em;}#sk-container-id-1 div.sk-estimator:hover {background-color: #d4ebff;}#sk-container-id-1 div.sk-parallel-item::after {content: \"\";width: 100%;border-bottom: 1px solid gray;flex-grow: 1;}#sk-container-id-1 div.sk-label:hover label.sk-toggleable__label {background-color: #d4ebff;}#sk-container-id-1 div.sk-serial::before {content: \"\";position: absolute;border-left: 1px solid gray;box-sizing: border-box;top: 0;bottom: 0;left: 50%;z-index: 0;}#sk-container-id-1 div.sk-serial {display: flex;flex-direction: column;align-items: center;background-color: white;padding-right: 0.2em;padding-left: 0.2em;position: relative;}#sk-container-id-1 div.sk-item {position: relative;z-index: 1;}#sk-container-id-1 div.sk-parallel {display: flex;align-items: stretch;justify-content: center;background-color: white;position: relative;}#sk-container-id-1 div.sk-item::before, #sk-container-id-1 div.sk-parallel-item::before {content: \"\";position: absolute;border-left: 1px solid gray;box-sizing: border-box;top: 0;bottom: 0;left: 50%;z-index: -1;}#sk-container-id-1 div.sk-parallel-item {display: flex;flex-direction: column;z-index: 1;position: relative;background-color: white;}#sk-container-id-1 div.sk-parallel-item:first-child::after {align-self: flex-end;width: 50%;}#sk-container-id-1 div.sk-parallel-item:last-child::after {align-self: flex-start;width: 50%;}#sk-container-id-1 div.sk-parallel-item:only-child::after {width: 0;}#sk-container-id-1 div.sk-dashed-wrapped {border: 1px dashed gray;margin: 0 0.4em 0.5em 0.4em;box-sizing: border-box;padding-bottom: 0.4em;background-color: white;}#sk-container-id-1 div.sk-label label {font-family: monospace;font-weight: bold;display: inline-block;line-height: 1.2em;}#sk-container-id-1 div.sk-label-container {text-align: center;}#sk-container-id-1 div.sk-container {/* jupyter's `normalize.less` sets `[hidden] { display: none; }` but bootstrap.min.css set `[hidden] { display: none !important; }` so we also need the `!important` here to be able to override the default hidden behavior on the sphinx rendered scikit-learn.org. See: https://github.com/scikit-learn/scikit-learn/issues/21755 */display: inline-block !important;position: relative;}#sk-container-id-1 div.sk-text-repr-fallback {display: none;}</style><div id=\"sk-container-id-1\" class=\"sk-top-container\"><div class=\"sk-text-repr-fallback\"><pre>StandardScaler()</pre><b>In a Jupyter environment, please rerun this cell to show the HTML representation or trust the notebook. <br />On GitHub, the HTML representation is unable to render, please try loading this page with nbviewer.org.</b></div><div class=\"sk-container\" hidden><div class=\"sk-item\"><div class=\"sk-estimator sk-toggleable\"><input class=\"sk-toggleable__control sk-hidden--visually\" id=\"sk-estimator-id-1\" type=\"checkbox\" checked><label for=\"sk-estimator-id-1\" class=\"sk-toggleable__label sk-toggleable__label-arrow\">StandardScaler</label><div class=\"sk-toggleable__content\"><pre>StandardScaler()</pre></div></div></div></div></div>"
      ],
      "text/plain": [
       "StandardScaler()"
      ]
     },
     "execution_count": 29,
     "metadata": {},
     "output_type": "execute_result"
    }
   ],
   "source": [
    "scaler = StandardScaler()\n",
    "scaler.fit(features_train[numeric])"
   ]
  },
  {
   "cell_type": "code",
   "execution_count": 30,
   "metadata": {},
   "outputs": [
    {
     "data": {
      "text/html": [
       "<div>\n",
       "<style scoped>\n",
       "    .dataframe tbody tr th:only-of-type {\n",
       "        vertical-align: middle;\n",
       "    }\n",
       "\n",
       "    .dataframe tbody tr th {\n",
       "        vertical-align: top;\n",
       "    }\n",
       "\n",
       "    .dataframe thead th {\n",
       "        text-align: right;\n",
       "    }\n",
       "</style>\n",
       "<table border=\"1\" class=\"dataframe\">\n",
       "  <thead>\n",
       "    <tr style=\"text-align: right;\">\n",
       "      <th></th>\n",
       "      <th>CreditScore</th>\n",
       "      <th>Age</th>\n",
       "      <th>Tenure</th>\n",
       "      <th>Balance</th>\n",
       "      <th>NumOfProducts</th>\n",
       "      <th>HasCrCard</th>\n",
       "      <th>IsActiveMember</th>\n",
       "      <th>EstimatedSalary</th>\n",
       "      <th>Gender_Male</th>\n",
       "      <th>Geography_Germany</th>\n",
       "      <th>Geography_Spain</th>\n",
       "    </tr>\n",
       "  </thead>\n",
       "  <tbody>\n",
       "    <tr>\n",
       "      <th>7479</th>\n",
       "      <td>-0.886751</td>\n",
       "      <td>-0.373192</td>\n",
       "      <td>1.104696</td>\n",
       "      <td>1.232271</td>\n",
       "      <td>-0.891560</td>\n",
       "      <td>1</td>\n",
       "      <td>0</td>\n",
       "      <td>-0.187705</td>\n",
       "      <td>1</td>\n",
       "      <td>0</td>\n",
       "      <td>1</td>\n",
       "    </tr>\n",
       "    <tr>\n",
       "      <th>3411</th>\n",
       "      <td>0.608663</td>\n",
       "      <td>-0.183385</td>\n",
       "      <td>1.104696</td>\n",
       "      <td>0.600563</td>\n",
       "      <td>-0.891560</td>\n",
       "      <td>0</td>\n",
       "      <td>0</td>\n",
       "      <td>-0.333945</td>\n",
       "      <td>0</td>\n",
       "      <td>0</td>\n",
       "      <td>0</td>\n",
       "    </tr>\n",
       "    <tr>\n",
       "      <th>6027</th>\n",
       "      <td>2.052152</td>\n",
       "      <td>0.480939</td>\n",
       "      <td>-0.503694</td>\n",
       "      <td>1.027098</td>\n",
       "      <td>0.830152</td>\n",
       "      <td>0</td>\n",
       "      <td>1</td>\n",
       "      <td>1.503095</td>\n",
       "      <td>1</td>\n",
       "      <td>1</td>\n",
       "      <td>0</td>\n",
       "    </tr>\n",
       "    <tr>\n",
       "      <th>1247</th>\n",
       "      <td>-1.457915</td>\n",
       "      <td>-1.417129</td>\n",
       "      <td>0.461340</td>\n",
       "      <td>-1.233163</td>\n",
       "      <td>0.830152</td>\n",
       "      <td>1</td>\n",
       "      <td>0</td>\n",
       "      <td>-1.071061</td>\n",
       "      <td>1</td>\n",
       "      <td>0</td>\n",
       "      <td>0</td>\n",
       "    </tr>\n",
       "    <tr>\n",
       "      <th>3716</th>\n",
       "      <td>0.130961</td>\n",
       "      <td>-1.132419</td>\n",
       "      <td>-0.825373</td>\n",
       "      <td>1.140475</td>\n",
       "      <td>-0.891560</td>\n",
       "      <td>0</td>\n",
       "      <td>0</td>\n",
       "      <td>1.524268</td>\n",
       "      <td>0</td>\n",
       "      <td>1</td>\n",
       "      <td>0</td>\n",
       "    </tr>\n",
       "  </tbody>\n",
       "</table>\n",
       "</div>"
      ],
      "text/plain": [
       "      CreditScore       Age    Tenure   Balance  NumOfProducts  HasCrCard  \\\n",
       "7479    -0.886751 -0.373192  1.104696  1.232271      -0.891560          1   \n",
       "3411     0.608663 -0.183385  1.104696  0.600563      -0.891560          0   \n",
       "6027     2.052152  0.480939 -0.503694  1.027098       0.830152          0   \n",
       "1247    -1.457915 -1.417129  0.461340 -1.233163       0.830152          1   \n",
       "3716     0.130961 -1.132419 -0.825373  1.140475      -0.891560          0   \n",
       "\n",
       "      IsActiveMember  EstimatedSalary  Gender_Male  Geography_Germany  \\\n",
       "7479               0        -0.187705            1                  0   \n",
       "3411               0        -0.333945            0                  0   \n",
       "6027               1         1.503095            1                  1   \n",
       "1247               0        -1.071061            1                  0   \n",
       "3716               0         1.524268            0                  1   \n",
       "\n",
       "      Geography_Spain  \n",
       "7479                1  \n",
       "3411                0  \n",
       "6027                0  \n",
       "1247                0  \n",
       "3716                0  "
      ]
     },
     "execution_count": 30,
     "metadata": {},
     "output_type": "execute_result"
    }
   ],
   "source": [
    "#Масштабирование для обучабщей выборке\n",
    "pd.options.mode.chained_assignment = None\n",
    "features_train[numeric] = scaler.transform(features_train[numeric])\n",
    "features_train.head()\n"
   ]
  },
  {
   "cell_type": "code",
   "execution_count": 31,
   "metadata": {},
   "outputs": [
    {
     "data": {
      "text/html": [
       "<div>\n",
       "<style scoped>\n",
       "    .dataframe tbody tr th:only-of-type {\n",
       "        vertical-align: middle;\n",
       "    }\n",
       "\n",
       "    .dataframe tbody tr th {\n",
       "        vertical-align: top;\n",
       "    }\n",
       "\n",
       "    .dataframe thead th {\n",
       "        text-align: right;\n",
       "    }\n",
       "</style>\n",
       "<table border=\"1\" class=\"dataframe\">\n",
       "  <thead>\n",
       "    <tr style=\"text-align: right;\">\n",
       "      <th></th>\n",
       "      <th>CreditScore</th>\n",
       "      <th>Age</th>\n",
       "      <th>Tenure</th>\n",
       "      <th>Balance</th>\n",
       "      <th>NumOfProducts</th>\n",
       "      <th>HasCrCard</th>\n",
       "      <th>IsActiveMember</th>\n",
       "      <th>EstimatedSalary</th>\n",
       "      <th>Gender_Male</th>\n",
       "      <th>Geography_Germany</th>\n",
       "      <th>Geography_Spain</th>\n",
       "    </tr>\n",
       "  </thead>\n",
       "  <tbody>\n",
       "    <tr>\n",
       "      <th>7041</th>\n",
       "      <td>-2.226392</td>\n",
       "      <td>-0.088482</td>\n",
       "      <td>-0.825373</td>\n",
       "      <td>-1.233163</td>\n",
       "      <td>0.830152</td>\n",
       "      <td>1</td>\n",
       "      <td>0</td>\n",
       "      <td>0.647083</td>\n",
       "      <td>1</td>\n",
       "      <td>0</td>\n",
       "      <td>0</td>\n",
       "    </tr>\n",
       "    <tr>\n",
       "      <th>5709</th>\n",
       "      <td>-0.087120</td>\n",
       "      <td>0.006422</td>\n",
       "      <td>1.426375</td>\n",
       "      <td>-1.233163</td>\n",
       "      <td>-0.891560</td>\n",
       "      <td>1</td>\n",
       "      <td>0</td>\n",
       "      <td>-1.658410</td>\n",
       "      <td>0</td>\n",
       "      <td>0</td>\n",
       "      <td>0</td>\n",
       "    </tr>\n",
       "    <tr>\n",
       "      <th>7117</th>\n",
       "      <td>-0.917905</td>\n",
       "      <td>-0.752805</td>\n",
       "      <td>0.139662</td>\n",
       "      <td>0.722307</td>\n",
       "      <td>-0.891560</td>\n",
       "      <td>1</td>\n",
       "      <td>1</td>\n",
       "      <td>-1.369334</td>\n",
       "      <td>1</td>\n",
       "      <td>0</td>\n",
       "      <td>1</td>\n",
       "    </tr>\n",
       "    <tr>\n",
       "      <th>7775</th>\n",
       "      <td>-0.253277</td>\n",
       "      <td>0.101325</td>\n",
       "      <td>1.748053</td>\n",
       "      <td>-1.233163</td>\n",
       "      <td>0.830152</td>\n",
       "      <td>1</td>\n",
       "      <td>0</td>\n",
       "      <td>0.075086</td>\n",
       "      <td>1</td>\n",
       "      <td>0</td>\n",
       "      <td>1</td>\n",
       "    </tr>\n",
       "    <tr>\n",
       "      <th>8735</th>\n",
       "      <td>0.785204</td>\n",
       "      <td>-0.847708</td>\n",
       "      <td>1.748053</td>\n",
       "      <td>0.615625</td>\n",
       "      <td>-0.891560</td>\n",
       "      <td>0</td>\n",
       "      <td>1</td>\n",
       "      <td>-1.070919</td>\n",
       "      <td>1</td>\n",
       "      <td>0</td>\n",
       "      <td>0</td>\n",
       "    </tr>\n",
       "  </tbody>\n",
       "</table>\n",
       "</div>"
      ],
      "text/plain": [
       "      CreditScore       Age    Tenure   Balance  NumOfProducts  HasCrCard  \\\n",
       "7041    -2.226392 -0.088482 -0.825373 -1.233163       0.830152          1   \n",
       "5709    -0.087120  0.006422  1.426375 -1.233163      -0.891560          1   \n",
       "7117    -0.917905 -0.752805  0.139662  0.722307      -0.891560          1   \n",
       "7775    -0.253277  0.101325  1.748053 -1.233163       0.830152          1   \n",
       "8735     0.785204 -0.847708  1.748053  0.615625      -0.891560          0   \n",
       "\n",
       "      IsActiveMember  EstimatedSalary  Gender_Male  Geography_Germany  \\\n",
       "7041               0         0.647083            1                  0   \n",
       "5709               0        -1.658410            0                  0   \n",
       "7117               1        -1.369334            1                  0   \n",
       "7775               0         0.075086            1                  0   \n",
       "8735               1        -1.070919            1                  0   \n",
       "\n",
       "      Geography_Spain  \n",
       "7041                0  \n",
       "5709                0  \n",
       "7117                1  \n",
       "7775                1  \n",
       "8735                0  "
      ]
     },
     "execution_count": 31,
     "metadata": {},
     "output_type": "execute_result"
    }
   ],
   "source": [
    "#Масштабирование для тестовой выборки\n",
    "pd.options.mode.chained_assignment = None\n",
    "features_test[numeric] = scaler.transform(features_test[numeric])\n",
    "features_test.head()"
   ]
  },
  {
   "cell_type": "code",
   "execution_count": 32,
   "metadata": {
    "scrolled": false
   },
   "outputs": [
    {
     "data": {
      "text/html": [
       "<div>\n",
       "<style scoped>\n",
       "    .dataframe tbody tr th:only-of-type {\n",
       "        vertical-align: middle;\n",
       "    }\n",
       "\n",
       "    .dataframe tbody tr th {\n",
       "        vertical-align: top;\n",
       "    }\n",
       "\n",
       "    .dataframe thead th {\n",
       "        text-align: right;\n",
       "    }\n",
       "</style>\n",
       "<table border=\"1\" class=\"dataframe\">\n",
       "  <thead>\n",
       "    <tr style=\"text-align: right;\">\n",
       "      <th></th>\n",
       "      <th>CreditScore</th>\n",
       "      <th>Age</th>\n",
       "      <th>Tenure</th>\n",
       "      <th>Balance</th>\n",
       "      <th>NumOfProducts</th>\n",
       "      <th>HasCrCard</th>\n",
       "      <th>IsActiveMember</th>\n",
       "      <th>EstimatedSalary</th>\n",
       "      <th>Gender_Male</th>\n",
       "      <th>Geography_Germany</th>\n",
       "      <th>Geography_Spain</th>\n",
       "    </tr>\n",
       "  </thead>\n",
       "  <tbody>\n",
       "    <tr>\n",
       "      <th>8532</th>\n",
       "      <td>-0.699824</td>\n",
       "      <td>-0.373192</td>\n",
       "      <td>-0.825373</td>\n",
       "      <td>-1.233163</td>\n",
       "      <td>0.830152</td>\n",
       "      <td>1</td>\n",
       "      <td>0</td>\n",
       "      <td>-0.015173</td>\n",
       "      <td>0</td>\n",
       "      <td>0</td>\n",
       "      <td>0</td>\n",
       "    </tr>\n",
       "    <tr>\n",
       "      <th>5799</th>\n",
       "      <td>-0.284431</td>\n",
       "      <td>0.575842</td>\n",
       "      <td>-0.503694</td>\n",
       "      <td>-1.233163</td>\n",
       "      <td>-0.891560</td>\n",
       "      <td>1</td>\n",
       "      <td>1</td>\n",
       "      <td>1.471724</td>\n",
       "      <td>0</td>\n",
       "      <td>0</td>\n",
       "      <td>0</td>\n",
       "    </tr>\n",
       "    <tr>\n",
       "      <th>5511</th>\n",
       "      <td>0.151731</td>\n",
       "      <td>-0.657902</td>\n",
       "      <td>-1.468729</td>\n",
       "      <td>0.438711</td>\n",
       "      <td>-0.891560</td>\n",
       "      <td>1</td>\n",
       "      <td>0</td>\n",
       "      <td>-1.367107</td>\n",
       "      <td>1</td>\n",
       "      <td>1</td>\n",
       "      <td>0</td>\n",
       "    </tr>\n",
       "    <tr>\n",
       "      <th>7365</th>\n",
       "      <td>-0.876366</td>\n",
       "      <td>-0.278288</td>\n",
       "      <td>1.748053</td>\n",
       "      <td>1.239884</td>\n",
       "      <td>-0.891560</td>\n",
       "      <td>1</td>\n",
       "      <td>1</td>\n",
       "      <td>-0.786517</td>\n",
       "      <td>0</td>\n",
       "      <td>0</td>\n",
       "      <td>1</td>\n",
       "    </tr>\n",
       "    <tr>\n",
       "      <th>7367</th>\n",
       "      <td>-0.481743</td>\n",
       "      <td>0.291132</td>\n",
       "      <td>1.748053</td>\n",
       "      <td>-1.233163</td>\n",
       "      <td>0.830152</td>\n",
       "      <td>1</td>\n",
       "      <td>0</td>\n",
       "      <td>1.358533</td>\n",
       "      <td>1</td>\n",
       "      <td>0</td>\n",
       "      <td>1</td>\n",
       "    </tr>\n",
       "  </tbody>\n",
       "</table>\n",
       "</div>"
      ],
      "text/plain": [
       "      CreditScore       Age    Tenure   Balance  NumOfProducts  HasCrCard  \\\n",
       "8532    -0.699824 -0.373192 -0.825373 -1.233163       0.830152          1   \n",
       "5799    -0.284431  0.575842 -0.503694 -1.233163      -0.891560          1   \n",
       "5511     0.151731 -0.657902 -1.468729  0.438711      -0.891560          1   \n",
       "7365    -0.876366 -0.278288  1.748053  1.239884      -0.891560          1   \n",
       "7367    -0.481743  0.291132  1.748053 -1.233163       0.830152          1   \n",
       "\n",
       "      IsActiveMember  EstimatedSalary  Gender_Male  Geography_Germany  \\\n",
       "8532               0        -0.015173            0                  0   \n",
       "5799               1         1.471724            0                  0   \n",
       "5511               0        -1.367107            1                  1   \n",
       "7365               1        -0.786517            0                  0   \n",
       "7367               0         1.358533            1                  0   \n",
       "\n",
       "      Geography_Spain  \n",
       "8532                0  \n",
       "5799                0  \n",
       "5511                0  \n",
       "7365                1  \n",
       "7367                1  "
      ]
     },
     "execution_count": 32,
     "metadata": {},
     "output_type": "execute_result"
    }
   ],
   "source": [
    "#Масштабирование для валидационной выборки\n",
    "pd.options.mode.chained_assignment = None\n",
    "features_valid[numeric] = scaler.transform(features_valid[numeric])\n",
    "features_valid.head()"
   ]
  },
  {
   "cell_type": "code",
   "execution_count": 33,
   "metadata": {},
   "outputs": [],
   "source": [
    "best_model_forest = None\n",
    "best_depth_forest = 0\n",
    "best_est_forest = 0\n",
    "best_result_forest = 0\n",
    "for est in range(1, 11):\n",
    "    for depth in range(1, 6):\n",
    "        model_forest = RandomForestClassifier(\n",
    "            random_state=12345, n_estimators=est,max_depth = depth) # заданная глубина дерева от 1 до 5\n",
    "        model_forest.fit(features_train, target_train) # обучаем модель\n",
    "        predictions_valid_forest = model_forest.predict(features_valid) # предсказания \n",
    "        result_forest = accuracy_score(predictions_valid_forest, target_valid)\n",
    "        if best_result_forest < result_forest:\n",
    "            best_model_forest = model_forest\n",
    "            best_depth_forest = depth\n",
    "            best_est_forest = est\n",
    "            best_result_forest = result_forest"
   ]
  },
  {
   "cell_type": "code",
   "execution_count": 34,
   "metadata": {},
   "outputs": [
    {
     "name": "stdout",
     "output_type": "stream",
     "text": [
      "Accuracy лучшей модели ЛЕСА: 0.859\n",
      "n_estimators= 5;max_depth= 5"
     ]
    }
   ],
   "source": [
    "print(\"Accuracy лучшей модели ЛЕСА:\",best_result_forest)\n",
    "print('n_estimators=', best_est_forest, end = \";\")\n",
    "print('max_depth=', best_depth_forest, end = \"\")"
   ]
  },
  {
   "cell_type": "code",
   "execution_count": 35,
   "metadata": {},
   "outputs": [],
   "source": [
    "best_model_tree = None\n",
    "best_depth_tree = 0\n",
    "best_result_tree = 0\n",
    "for depth in range(1, 6):\n",
    "    model_tree = DecisionTreeClassifier(random_state=12345, max_depth = depth) # заданная глубина дерева от 1 до 5\n",
    "    model_tree.fit(features_train, target_train) # обучаем модель\n",
    "    predictions_valid_tree = model_tree.predict(features_valid) # предсказания \n",
    "    result_tree = accuracy_score(predictions_valid_tree, target_valid)\n",
    "    if best_result_tree < result_tree:\n",
    "        best_model_tree = model_tree\n",
    "        best_depth_tree = depth\n",
    "        best_result_tree = result_tree"
   ]
  },
  {
   "cell_type": "code",
   "execution_count": 36,
   "metadata": {
    "scrolled": true
   },
   "outputs": [
    {
     "name": "stdout",
     "output_type": "stream",
     "text": [
      "Accuracy лучшей модели деревьев: 0.853\n",
      "max_depth= 5"
     ]
    }
   ],
   "source": [
    "print(\"Accuracy лучшей модели деревьев:\",best_result_tree)\n",
    "print('max_depth=', best_depth_tree, end = \"\")"
   ]
  },
  {
   "cell_type": "code",
   "execution_count": 37,
   "metadata": {},
   "outputs": [],
   "source": [
    "model_log = LogisticRegression(random_state=123456, max_iter=100)\n",
    "model_log.fit(features_train, target_train) \n",
    "predictions_valid_log = model_log.predict(features_valid)\n",
    "accuracy_log = model_log.score(features_train, target_train)"
   ]
  },
  {
   "cell_type": "code",
   "execution_count": 38,
   "metadata": {
    "scrolled": true
   },
   "outputs": [
    {
     "name": "stdout",
     "output_type": "stream",
     "text": [
      "Accuracy лучшей модели ЛЕСА: 0.859\n",
      "n_estimators= 5;max_depth= 5\n",
      "Accuracy лучшей модели деревьев: 0.853\n",
      "max_depth= 5Accuracy Логистической регресии: 0.8185\n"
     ]
    }
   ],
   "source": [
    "print(\"Accuracy лучшей модели ЛЕСА:\",best_result_forest)\n",
    "print('n_estimators=', best_est_forest, end = \";\")\n",
    "print('max_depth=', best_depth_forest, end = \"\")\n",
    "print()\n",
    "print(\"Accuracy лучшей модели деревьев:\",best_result_tree)\n",
    "print('max_depth=', best_depth_tree, end = \"\")\n",
    "print('Accuracy Логистической регресии:', accuracy_log )"
   ]
  },
  {
   "cell_type": "markdown",
   "metadata": {},
   "source": [
    "<div class=\"alert alert-info\" role=\"alert\">\n",
    "Модель случайного леса, показала себя лучше всего"
   ]
  },
  {
   "cell_type": "code",
   "execution_count": 39,
   "metadata": {
    "scrolled": true
   },
   "outputs": [
    {
     "name": "stdout",
     "output_type": "stream",
     "text": [
      "0    0.7963\n",
      "1    0.2037\n",
      "Name: Exited, dtype: float64\n"
     ]
    },
    {
     "data": {
      "image/png": "[encoded data removed]",
      "text/plain": [
       "<Figure size 640x480 with 1 Axes>"
      ]
     },
     "metadata": {},
     "output_type": "display_data"
    }
   ],
   "source": [
    "#Чтобы оценить адекватность модели, проверим, \n",
    "#как часто в целевом признаке встречается класс «1» или «0».\n",
    "class_frequency = bank['Exited'].value_counts(normalize = True)\n",
    "print(class_frequency)\n",
    "class_frequency.plot(kind='bar');"
   ]
  },
  {
   "cell_type": "code",
   "execution_count": 40,
   "metadata": {},
   "outputs": [
    {
     "name": "stdout",
     "output_type": "stream",
     "text": [
      "0.7963\n"
     ]
    }
   ],
   "source": [
    "#создадим константную модель\n",
    "#Кроме того, сравним качество предсказаний с константной моделью.\n",
    "#За константу примем пример 0, так как это значение встречается почти в 80% случаев.\n",
    "target_pred_constant= pd.Series(0,index=target.index)\n",
    "print(accuracy_score(target,target_pred_constant))"
   ]
  },
  {
   "cell_type": "markdown",
   "metadata": {},
   "source": [
    "<div class=\"alert alert-info\" role=\"alert\">\n",
    "Данные указыват 80% (остаются) против 20(ухлоядт) о дисбалансе."
   ]
  },
  {
   "cell_type": "markdown",
   "metadata": {},
   "source": [
    "# Проверка моделей без учета дисбаланса"
   ]
  },
  {
   "cell_type": "markdown",
   "metadata": {},
   "source": [
    "Посмотрим на каждую модель метрики :\n",
    "1)Полнота\n",
    "2)Точность\n",
    "3)F1-мера\n",
    "4)Матрицу ошибок\n",
    "5)Соотношение ответов моделей (сколько 0, сколько 1)"
   ]
  },
  {
   "cell_type": "code",
   "execution_count": 41,
   "metadata": {
    "scrolled": true
   },
   "outputs": [
    {
     "name": "stdout",
     "output_type": "stream",
     "text": [
      "Полнота лес 0.4138755980861244\n",
      "Точность лес 0.8238095238095238\n",
      "F1-мера лес 0.5509554140127388\n",
      "Матрицa ошибок лес [[1545   37]\n",
      " [ 245  173]]\n",
      "Accuracy_лес: 0.859\n",
      "\n",
      "Полнота дерево 0.4138755980861244\n",
      "Точность дерево 0.7792792792792793\n",
      "F1-мера дерево 0.5406249999999999\n",
      "Матрицa ошибок дерево [[1533   49]\n",
      " [ 245  173]]\n",
      "Accuracy_дерево: 0.853\n",
      "\n",
      "Полнота логистическая 0.23684210526315788\n",
      "Точность логичстическая 0.5657142857142857\n",
      "F1-мера логистическая 0.33389544688026984\n",
      "Матрицa ошибок логистическая [[1506   76]\n",
      " [ 319   99]]\n",
      "Accuracy_log: 0.8025\n",
      "\n",
      "Доли ответов:Дерево решений 0    0.889\n",
      "1    0.111\n",
      "dtype: float64 Случайный лес  0    0.895\n",
      "1    0.105\n",
      "dtype: float64 Логистческая регрессия 0    0.9125\n",
      "1    0.0875\n",
      "dtype: float64"
     ]
    }
   ],
   "source": [
    "model_forest = RandomForestClassifier(\n",
    "            random_state=12345, n_estimators=5,max_depth = 5) # заданная глубина дерева 5\n",
    "model_forest.fit(features_train, target_train) # обучаем модель\n",
    "prediction_valid_forest = model_forest.predict(features_valid)\n",
    "forest_share = pd.Series(model_forest.predict(features_valid)).value_counts(normalize = True)\n",
    "print(\"Полнота лес\" , recall_score(target_valid, prediction_valid_forest))\n",
    "print(\"Точность лес\", precision_score(target_valid, prediction_valid_forest))\n",
    "print(\"F1-мера лес\", f1_score(target_valid, prediction_valid_forest))\n",
    "print(\"Матрицa ошибок лес\", confusion_matrix(target_valid, prediction_valid_forest))\n",
    "print(\"Accuracy_лес:\", accuracy_score(target_valid, prediction_valid_forest))\n",
    "\n",
    "print()\n",
    "\n",
    "model_tree = DecisionTreeClassifier(random_state=12345, max_depth = 5) # заданная глубина дерева 5\n",
    "model_tree.fit(features_train, target_train) # обучаем модель\n",
    "prediction_valid_tree = model_tree.predict(features_valid)\n",
    "tree_share = pd.Series(model_tree.predict(features_valid)).value_counts(normalize = True)\n",
    "print(\"Полнота дерево\" , recall_score(target_valid, prediction_valid_tree))\n",
    "print(\"Точность дерево\", precision_score(target_valid, prediction_valid_tree))\n",
    "print(\"F1-мера дерево\", f1_score(target_valid, prediction_valid_tree))\n",
    "print(\"Матрицa ошибок дерево\", confusion_matrix(target_valid, prediction_valid_tree))\n",
    "print(\"Accuracy_дерево:\", accuracy_score(target_valid, prediction_valid_tree))\n",
    "\n",
    "print()\n",
    "\n",
    "\n",
    "model_log = LogisticRegression(random_state=123456, max_iter=100)\n",
    "model_log.fit(features_train, target_train)\n",
    "prediction_valid_log = model_log.predict(features_valid)\n",
    "log_share = pd.Series(model_log.predict(features_valid)).value_counts(normalize = True)\n",
    "print(\"Полнота логистическая\" , recall_score(target_valid, prediction_valid_log))\n",
    "print(\"Точность логичстическая\", precision_score(target_valid, prediction_valid_log))\n",
    "print(\"F1-мера логистическая\", f1_score(target_valid, prediction_valid_log))\n",
    "print(\"Матрицa ошибок логистическая\", confusion_matrix(target_valid, prediction_valid_log))\n",
    "print(\"Accuracy_log:\", accuracy_score(target_valid, prediction_valid_log))\n",
    "\n",
    "print()\n",
    "\n",
    "print(\"Доли ответов:\" \"Дерево решений\",tree_share,\n",
    "      \"Случайный лес \", forest_share,\n",
    "      \"Логистческая регрессия\", log_share , end='')"
   ]
  },
  {
   "cell_type": "code",
   "execution_count": 42,
   "metadata": {},
   "outputs": [],
   "source": [
    "#Матрицы ошибок наглядно демонстрируют то, что несмотря на то, что значение accuracy достаточно высокое, для всех трех моделей наблюдается остаточно сильный дисбаланс классов.\n",
    "#К примеру, для моделей Дерево решений и Случайный лес ситуация схожая - факт того, что клиент не ушел (0), модели определяют правильно примерно в 95% случаев,\n",
    "#в то время как результат предсказаний по факту ухода (1) в среднем всего 45%."
   ]
  },
  {
   "cell_type": "markdown",
   "metadata": {},
   "source": [
    "<div class=\"alert alert-info\" role=\"alert\">\n",
    "<p>Таким образом, обучив модели без учета дисбаланса классов, наилучшее значение метрики F1-score демонстрирует модель \"Случайный лес \", в то время как наибольшее значение метрики accuracy наблюдается так же у  Random Forest.\n",
    "<p>\"Логистческая регрессия\": Видим низкое значение F1, следовательно низкое качество модели, проблема в точности.\n",
    "<p>Матрица показала, что дерево решений склонно выдавать позитивные предсказания, очень высокое количество ложных позитивных предсказания (FP).\n",
    "<p>Случайный лес примерно равную пропорцию позитивных и негативных предсказаний, выдает заметно больше качественных предсказаний, но также сильно склоняется к ложно позитивным предсказаниям (FP).\n"
   ]
  },
  {
   "cell_type": "markdown",
   "metadata": {},
   "source": [
    "## Борьба с дисбалансом"
   ]
  },
  {
   "cell_type": "markdown",
   "metadata": {},
   "source": [
    "Нам понадобяться:\n",
    "    1) Взвешивание влассов\n",
    "    2) Увеличение выборки\n",
    "    3) Уменьшение выборки"
   ]
  },
  {
   "cell_type": "markdown",
   "metadata": {},
   "source": [
    "1) Взвешивание влассов"
   ]
  },
  {
   "cell_type": "code",
   "execution_count": 43,
   "metadata": {},
   "outputs": [],
   "source": [
    "#Начнем с леса подберем подходящие гиперпараметры и обучим модель "
   ]
  },
  {
   "cell_type": "code",
   "execution_count": 44,
   "metadata": {},
   "outputs": [
    {
     "name": "stdout",
     "output_type": "stream",
     "text": [
      "Оптимальное количество оценок = 110\n",
      "Оптимальная глубина дерева = 9\n",
      "Качество модели:  0.6182237600922723\n",
      "CPU times: user 48.1 s, sys: 89.3 ms, total: 48.2 s\n",
      "Wall time: 48.2 s\n"
     ]
    }
   ],
   "source": [
    "%%time\n",
    "\n",
    "best_model = None\n",
    "best_f1 = 0\n",
    "for est in range(10,115,10):\n",
    "    for depth in range(1,10):\n",
    "        model_forest = RandomForestClassifier(\n",
    "            random_state=12345,\n",
    "            n_estimators=est,\n",
    "            max_depth = depth,\n",
    "            class_weight='balanced')\n",
    "        model_forest.fit(features_train, target_train) # обучаем модель\n",
    "        prediction_valid_forest = model_forest.predict(features_valid)\n",
    "        f1_forest = f1_score(target_valid, prediction_valid_forest)\n",
    "        if f1_forest > best_f1:\n",
    "            best_model = model_forest \n",
    "            best_est = est\n",
    "            best_depth = depth\n",
    "            \n",
    "        \n",
    "print('Оптимальное количество оценок =', best_est)\n",
    "print('Оптимальная глубина дерева =', best_depth)\n",
    "print('Качество модели: ', f1_forest)"
   ]
  },
  {
   "cell_type": "code",
   "execution_count": 45,
   "metadata": {},
   "outputs": [],
   "source": [
    "# обучаем модель с оптимальными значениями гиперпараметров\n",
    "\n",
    "model_forest = RandomForestClassifier(\n",
    "            random_state=12345,\n",
    "            n_estimators=50,\n",
    "            max_depth = 3,\n",
    "            class_weight='balanced') \n",
    "model_forest.fit(features_train, target_train) # обучаем модель\n",
    "prediction_valid_forest = model_forest.predict(features_valid)"
   ]
  },
  {
   "cell_type": "code",
   "execution_count": 46,
   "metadata": {
    "scrolled": false
   },
   "outputs": [
    {
     "name": "stdout",
     "output_type": "stream",
     "text": [
      "Recall_forest: 0.34210526315789475\n",
      "Precision_forest: 0.8362573099415205\n",
      "F1_forest: 0.4855687606112054\n",
      "ROC-AUC_forest: 0.8285625064269686\n"
     ]
    }
   ],
   "source": [
    "print(\"Recall_forest:\", recall_score(target_valid, predictions_valid_forest))\n",
    "print(\"Precision_forest:\", precision_score(target_valid, predictions_valid_forest))\n",
    "print(\"F1_forest:\", f1_score(target_valid, predictions_valid_forest))\n",
    "\n",
    "#Вероятность классов:\n",
    "probabilities_valid = model_forest.predict_proba(features_valid)\n",
    "probabilities_one_valid = probabilities_valid[:, 1]\n",
    "print(\"ROC-AUC_forest:\", roc_auc_score(target_valid, probabilities_one_valid))\n"
   ]
  },
  {
   "cell_type": "markdown",
   "metadata": {},
   "source": [
    "<div class=\"alert alert-info\" role=\"alert\">\n",
    "Полнота выше , чем точнось. Их лучше смотреть в совокупе.\n",
    "F1-оценка представляет собой гармоническое среднее точности и полноты: и здесь она 62% \n",
    "ROC-AUC на высоте и показатель хороший в 85% . Модель сможет различать тех кто уходит и тех, кто нет, в 85% случаев"
   ]
  },
  {
   "cell_type": "code",
   "execution_count": 47,
   "metadata": {},
   "outputs": [],
   "source": [
    "#Подходящие гиперпараметры для дерева"
   ]
  },
  {
   "cell_type": "code",
   "execution_count": 48,
   "metadata": {},
   "outputs": [
    {
     "name": "stdout",
     "output_type": "stream",
     "text": [
      "Оптимальная глубина дерева = 9\n",
      "Качество модели: 0.5320197044334976\n",
      "CPU times: user 440 ms, sys: 0 ns, total: 440 ms\n",
      "Wall time: 456 ms\n"
     ]
    }
   ],
   "source": [
    "%%time\n",
    "\n",
    "best_model = None\n",
    "best_f1 = 0\n",
    "for depth in range(1,10):\n",
    "    model_tree = DecisionTreeClassifier(\n",
    "        random_state=12345,\n",
    "        max_depth = depth,\n",
    "        class_weight='balanced')\n",
    "    model_tree.fit(features_train, target_train) # обучаем модель\n",
    "    prediction_valid_tree = model_tree.predict(features_valid)\n",
    "    f1_tree = f1_score(target_valid, prediction_valid_tree)\n",
    "    if f1_tree > best_f1:\n",
    "        best_model = model_tree \n",
    "        best_depth = depth\n",
    "        \n",
    "print('Оптимальная глубина дерева =', best_depth)\n",
    "print('Качество модели:', f1_tree)"
   ]
  },
  {
   "cell_type": "code",
   "execution_count": 49,
   "metadata": {
    "scrolled": true
   },
   "outputs": [],
   "source": [
    "# обучаем модель с оптимальными значениями гиперпараметров\n",
    "\n",
    "model_tree = DecisionTreeClassifier(\n",
    "        random_state=12345,\n",
    "        max_depth = 9,\n",
    "        class_weight='balanced') \n",
    "model_tree.fit(features_train, target_train) # обучаем модель\n",
    "prediction_valid_tree = model_tree.predict(features_valid)\n",
    "\n"
   ]
  },
  {
   "cell_type": "code",
   "execution_count": 50,
   "metadata": {
    "scrolled": true
   },
   "outputs": [
    {
     "name": "stdout",
     "output_type": "stream",
     "text": [
      "Recall_tree: 0.4138755980861244\n",
      "Precision_tree: 0.7792792792792793\n",
      "F1_tree: 0.5406249999999999\n",
      "ROC-AUC_tree: 0.7620275044005831\n"
     ]
    }
   ],
   "source": [
    "print(\"Recall_tree:\", recall_score(target_valid, predictions_valid_tree))\n",
    "print(\"Precision_tree:\", precision_score(target_valid, predictions_valid_tree))\n",
    "print(\"F1_tree:\", f1_score(target_valid, predictions_valid_tree))\n",
    "\n",
    "#Вероятность классов:\n",
    "probabilities_valid = model_tree.predict_proba(features_valid)\n",
    "probabilities_one_valid = probabilities_valid[:, 1]\n",
    "print(\"ROC-AUC_tree:\", roc_auc_score(target_valid, probabilities_one_valid))\n"
   ]
  },
  {
   "cell_type": "markdown",
   "metadata": {},
   "source": [
    "<div class=\"alert alert-info\" role=\"alert\">\n",
    "Здесь так же видим тенденцию: полнота выше чем точность, но нас больше интересует метрика F1- 54% ( меньше в численном эквиваленте, чем в лесу)\n",
    "ROC-AUC - 76 % ( так же показатель меньше леса)   "
   ]
  },
  {
   "cell_type": "code",
   "execution_count": 51,
   "metadata": {
    "scrolled": true
   },
   "outputs": [],
   "source": [
    "#Логитическая модель \n",
    "\n",
    "model_log = LogisticRegression(\n",
    "    random_state=12345, \n",
    "    max_iter=100,\n",
    "    solver='liblinear',\n",
    "    class_weight='balanced')\n",
    "model_log.fit(features_train, target_train)\n",
    "prediction_valid_log = model_log.predict(features_valid)\n"
   ]
  },
  {
   "cell_type": "code",
   "execution_count": 52,
   "metadata": {
    "scrolled": true
   },
   "outputs": [
    {
     "name": "stdout",
     "output_type": "stream",
     "text": [
      "Recall_log: 0.23684210526315788\n",
      "Precision_log: 0.5657142857142857\n",
      "F1_log: 0.33389544688026984\n",
      "ROC-AUC_log: 0.7635798063138539\n"
     ]
    }
   ],
   "source": [
    "\n",
    "print(\"Recall_log:\", recall_score(target_valid, predictions_valid_log))\n",
    "print(\"Precision_log:\", precision_score(target_valid, predictions_valid_log))\n",
    "print(\"F1_log:\", f1_score(target_valid, predictions_valid_log))\n",
    "\n",
    "probabilities_valid = model_log.predict_proba(features_valid)\n",
    "probabilities_one_valid = probabilities_valid[:, 1]\n",
    "print(\"ROC-AUC_log:\", roc_auc_score(target_valid, probabilities_one_valid))"
   ]
  },
  {
   "cell_type": "markdown",
   "metadata": {},
   "source": [
    "<div class=\"alert alert-info\" role=\"alert\">\n",
    "Полнота выше точности.\n",
    "F1 мера показывает себя не лучшим образом.\n",
    "ROC-AUC 76% показатель схож с деревом "
   ]
  },
  {
   "cell_type": "markdown",
   "metadata": {},
   "source": [
    "<div class=\"alert alert-info\" role=\"alert\">\n",
    "##Увеличивыем выборку\n"
   ]
  },
  {
   "cell_type": "code",
   "execution_count": 53,
   "metadata": {},
   "outputs": [
    {
     "name": "stdout",
     "output_type": "stream",
     "text": [
      "(9588, 11)\n",
      "(9588,)\n"
     ]
    }
   ],
   "source": [
    "def upsample(features, target, repeat):\n",
    "    features_zeros = features[target == 0]\n",
    "    features_ones = features[target == 1]\n",
    "    target_zeros = target[target == 0]\n",
    "    target_ones = target[target == 1]\n",
    "    \n",
    "    repeat=4\n",
    "    \n",
    "    # сцепляем выборки\n",
    "    features_upsampled = pd.concat([features_zeros] + [features_ones] * repeat)\n",
    "    target_upsampled = pd.concat([target_zeros] + [target_ones] * repeat)\n",
    "    \n",
    "    # перемешиваем значения, чтобы они не шли друг за другом \n",
    "    features_upsampled = shuffle(features_upsampled, random_state=12345)\n",
    "    target_upsampled = shuffle(target_upsampled, random_state=12345)\n",
    "    return features_upsampled, target_upsampled\n",
    "\n",
    "features_upsampled, target_upsampled = upsample(features_train, target_train, 4)\n",
    "\n",
    "print(features_upsampled.shape)\n",
    "print(target_upsampled.shape)"
   ]
  },
  {
   "cell_type": "code",
   "execution_count": 54,
   "metadata": {},
   "outputs": [
    {
     "name": "stdout",
     "output_type": "stream",
     "text": [
      "Оптимальное количество оценок = 70\n",
      "Оптимальная глубина дерева = 9\n"
     ]
    }
   ],
   "source": [
    "# случайный лес - подберем лучшие гиперпараметры\n",
    "best_model = None\n",
    "for est in range(10, 80, 10):\n",
    "    for depth in range(1, 10):\n",
    "        model_forest = RandomForestClassifier(random_state=12345,\n",
    "                                              n_estimators=est, \n",
    "                                              max_depth=depth)\n",
    "        model_forest.fit(features_upsampled, target_upsampled)\n",
    "        predictions_valid_forest = model_forest.predict(features_valid)\n",
    "        f1_forest = f1_score(target_valid, predictions_valid_forest)\n",
    "        if f1_forest > best_f1:\n",
    "            best_model = model_forest\n",
    "            best_est = est\n",
    "            best_depth = depth\n",
    "\n",
    "print('Оптимальное количество оценок =', best_est)\n",
    "print('Оптимальная глубина дерева =', best_depth)\n",
    "\n"
   ]
  },
  {
   "cell_type": "code",
   "execution_count": 55,
   "metadata": {},
   "outputs": [],
   "source": [
    "model_forest = RandomForestClassifier(random_state=12345, \n",
    "                                      n_estimators=70, \n",
    "                                      max_depth=9)\n",
    "model_forest.fit(features_upsampled, target_upsampled)\n",
    "predictions_valid_forest = model_forest.predict(features_valid)\n",
    "\n"
   ]
  },
  {
   "cell_type": "code",
   "execution_count": 56,
   "metadata": {
    "scrolled": true
   },
   "outputs": [
    {
     "name": "stdout",
     "output_type": "stream",
     "text": [
      "Recall_forest: 0.69377990430622\n",
      "Precision_forest: 0.5675146771037182\n",
      "F1_forest: 0.6243272335844994\n",
      "ROC-AUC_forest: 0.8517290813518108\n"
     ]
    }
   ],
   "source": [
    "print(\"Recall_forest:\", recall_score(target_valid, predictions_valid_forest))\n",
    "print(\"Precision_forest:\", precision_score(target_valid, predictions_valid_forest))\n",
    "print(\"F1_forest:\", f1_score(target_valid, predictions_valid_forest))\n",
    "\n",
    "probabilities_valid = model_forest.predict_proba(features_valid)\n",
    "probabilities_one_valid = probabilities_valid[:, 1]\n",
    "print(\"ROC-AUC_forest:\", roc_auc_score(target_valid, probabilities_one_valid))"
   ]
  },
  {
   "cell_type": "markdown",
   "metadata": {},
   "source": [
    "<div class=\"alert alert-info\" role=\"alert\">\n",
    "Полнота и точность практически равны. \n",
    "Показатели метрики F1 как и в взвешивание классов очень близки друг к другу\n",
    "ROC-AUC как и в взвешивание классов составляет 85%"
   ]
  },
  {
   "cell_type": "code",
   "execution_count": 57,
   "metadata": {},
   "outputs": [
    {
     "name": "stdout",
     "output_type": "stream",
     "text": [
      "Оптимальная глубина дерева = 9\n",
      "Качество модели -  0.5314960629921259\n"
     ]
    }
   ],
   "source": [
    "# дерево решений - подберем лучшие гиперпараметры\n",
    "best_model = None\n",
    "best_f1 = 0\n",
    "for depth in range(1, 10):\n",
    "    model_tree = DecisionTreeClassifier(random_state=12345,\n",
    "                                        max_depth=depth)\n",
    "    model_tree.fit(features_upsampled, target_upsampled)\n",
    "    predictions_valid_tree = model_tree.predict(features_valid)\n",
    "    f1_tree = f1_score(target_valid, predictions_valid_tree)\n",
    "    if f1_tree > best_f1:\n",
    "        best_model = model_tree\n",
    "        best_depth = depth\n",
    "\n",
    "print('Оптимальная глубина дерева =', best_depth) \n",
    "print('Качество модели - ', f1_tree)\n"
   ]
  },
  {
   "cell_type": "code",
   "execution_count": 58,
   "metadata": {
    "scrolled": true
   },
   "outputs": [],
   "source": [
    "model_tree = DecisionTreeClassifier(random_state=12345,\n",
    "                                    max_depth=9)\n",
    "model_tree.fit(features_upsampled, target_upsampled)\n",
    "predictions_valid_tree = model_tree.predict(features_valid)\n"
   ]
  },
  {
   "cell_type": "code",
   "execution_count": 59,
   "metadata": {
    "scrolled": true
   },
   "outputs": [
    {
     "name": "stdout",
     "output_type": "stream",
     "text": [
      "Recall_tree: 0.645933014354067\n",
      "Precision_tree: 0.451505016722408\n",
      "F1_tree: 0.5314960629921259\n",
      "ROC-AUC_tree: 0.7605258621211113\n"
     ]
    }
   ],
   "source": [
    "print(\"Recall_tree:\", recall_score(target_valid, predictions_valid_tree))\n",
    "print(\"Precision_tree:\", precision_score(target_valid, predictions_valid_tree))\n",
    "print(\"F1_tree:\", f1_score(target_valid, predictions_valid_tree))\n",
    "\n",
    "probabilities_valid = model_tree.predict_proba(features_valid)\n",
    "probabilities_one_valid = probabilities_valid[:, 1]\n",
    "print(\"ROC-AUC_tree:\", roc_auc_score(target_valid, probabilities_one_valid))\n"
   ]
  },
  {
   "cell_type": "markdown",
   "metadata": {},
   "source": [
    "<div class=\"alert alert-info\" role=\"alert\">\n",
    "Полнота выше чем точность.\n",
    "F1 метрика не лучшем образом себя показывет \n",
    "ROC-AUC среднее значение"
   ]
  },
  {
   "cell_type": "code",
   "execution_count": 60,
   "metadata": {
    "scrolled": true
   },
   "outputs": [],
   "source": [
    "# Логистическая регрессия \n",
    "model_log = LogisticRegression(random_state=12345,\n",
    "                               solver='liblinear')\n",
    "model_log.fit(features_upsampled, target_upsampled)\n",
    "predictions_valid_log = model_log.predict(features_valid)\n"
   ]
  },
  {
   "cell_type": "code",
   "execution_count": 61,
   "metadata": {
    "scrolled": true
   },
   "outputs": [
    {
     "name": "stdout",
     "output_type": "stream",
     "text": [
      "Recall_log: 0.6842105263157895\n",
      "Precision_log: 0.3803191489361702\n",
      "F1_log: 0.4888888888888888\n",
      "ROC-AUC_log: 0.7634769748183815\n"
     ]
    }
   ],
   "source": [
    "print(\"Recall_log:\", recall_score(target_valid, predictions_valid_log))\n",
    "print(\"Precision_log:\", precision_score(target_valid, predictions_valid_log))\n",
    "print(\"F1_log:\", f1_score(target_valid, predictions_valid_log))\n",
    "\n",
    "probabilities_valid = model_log.predict_proba(features_valid)\n",
    "probabilities_one_valid = probabilities_valid[:, 1]\n",
    "print(\"ROC-AUC_log:\", roc_auc_score(target_valid, probabilities_one_valid))"
   ]
  },
  {
   "cell_type": "markdown",
   "metadata": {},
   "source": [
    "<div class=\"alert alert-info\" role=\"alert\">\n",
    "Эта модель показала себя хуже всех по метрике F1, но незначительно лучше по метрике ROC-AUC"
   ]
  },
  {
   "cell_type": "markdown",
   "metadata": {},
   "source": [
    "<div class=\"alert alert-info\" role=\"alert\">\n",
    "# Уменьшаем выборку и смотрим результаты сравнивая с предыдущими тестами\n"
   ]
  },
  {
   "cell_type": "code",
   "execution_count": 62,
   "metadata": {},
   "outputs": [
    {
     "name": "stdout",
     "output_type": "stream",
     "text": [
      "(2397, 11)\n",
      "(2397,)\n"
     ]
    }
   ],
   "source": [
    "def downsample(features, target, fraction):\n",
    "    features_zeros = features[target == 0]\n",
    "    features_ones = features[target == 1]\n",
    "    target_zeros = target[target == 0]\n",
    "    target_ones = target[target == 1]\n",
    "\n",
    "    # fractioning samples\n",
    "    features_downsampled = pd.concat([features_zeros.sample(frac=fraction, random_state=12345)] +\n",
    "                                     [features_ones])\n",
    "    target_downsampled = pd.concat([target_zeros.sample(frac=fraction, random_state=12345)] +\n",
    "                                   [target_ones])\n",
    "    \n",
    "    features_downsampled = shuffle(features_downsampled, random_state=12345)\n",
    "    target_downsampled = shuffle(target_downsampled, random_state=12345)\n",
    "\n",
    "    return features_downsampled, target_downsampled\n",
    "\n",
    "features_downsampled, target_downsampled = downsample(features_train, target_train, 0.25)\n",
    "\n",
    "print(features_downsampled.shape)\n",
    "print(target_downsampled.shape)"
   ]
  },
  {
   "cell_type": "code",
   "execution_count": 63,
   "metadata": {
    "scrolled": true
   },
   "outputs": [
    {
     "name": "stdout",
     "output_type": "stream",
     "text": [
      "Оптимальное количество оценок = 110\n",
      "Оптимальная глубина дерева = 9\n"
     ]
    }
   ],
   "source": [
    "# случайный лес - подберем лучшие гиперпараметры\n",
    "\n",
    "best_model = None\n",
    "for est in range(10, 111, 10):\n",
    "    for depth in range(1, 10):\n",
    "        model_forest = RandomForestClassifier(random_state=12345,\n",
    "                                              n_estimators=est, \n",
    "                                              max_depth=depth)\n",
    "        model_forest.fit(features_downsampled, target_downsampled)\n",
    "        predictions_valid_forest = model_forest.predict(features_valid)\n",
    "        f1_forest = f1_score(target_valid, predictions_valid_forest)\n",
    "        if f1_forest > best_f1:\n",
    "            best_model = model_forest\n",
    "            best_est = est\n",
    "            best_depth = depth\n",
    "\n",
    "print('Оптимальное количество оценок =', best_est)\n",
    "print('Оптимальная глубина дерева =', best_depth)\n"
   ]
  },
  {
   "cell_type": "code",
   "execution_count": 64,
   "metadata": {},
   "outputs": [],
   "source": [
    "# Нашли гиперпараметры оптимальные, на них и будет строить модель\n",
    "\n",
    "model_forest = RandomForestClassifier(random_state=12345, \n",
    "                                      n_estimators=110, \n",
    "                                      max_depth=9)\n",
    "model_forest.fit(features_downsampled, target_downsampled)\n",
    "predictions_valid_forest = model_forest.predict(features_valid)\n"
   ]
  },
  {
   "cell_type": "code",
   "execution_count": 65,
   "metadata": {},
   "outputs": [
    {
     "name": "stdout",
     "output_type": "stream",
     "text": [
      "Recall_forest: 0.7488038277511961\n",
      "Precision_forest: 0.49682539682539684\n",
      "F1_forest: 0.5973282442748092\n",
      "ROC-AUC_forest: 0.8468143407593802\n"
     ]
    }
   ],
   "source": [
    "print(\"Recall_forest:\", recall_score(target_valid, predictions_valid_forest))\n",
    "print(\"Precision_forest:\", precision_score(target_valid, predictions_valid_forest))\n",
    "print(\"F1_forest:\", f1_score(target_valid, predictions_valid_forest))\n",
    "\n",
    "probabilities_valid = model_forest.predict_proba(features_valid)\n",
    "probabilities_one_valid = probabilities_valid[:, 1]\n",
    "print(\"ROC-AUC_forest:\", roc_auc_score(target_valid, probabilities_one_valid))"
   ]
  },
  {
   "cell_type": "markdown",
   "metadata": {},
   "source": [
    "<div class=\"alert alert-info\" role=\"alert\">\n",
    "Полнота у нас лучшей показатель. Тогда как метрика F1 не самая лучшая.\n",
    "ROC-AUC хуже чем в предудыщих способах"
   ]
  },
  {
   "cell_type": "code",
   "execution_count": 66,
   "metadata": {},
   "outputs": [
    {
     "name": "stdout",
     "output_type": "stream",
     "text": [
      "Оптимальная глубина дерева = 5\n",
      "Качество модели -  0.5380333951762523\n"
     ]
    }
   ],
   "source": [
    "# дерево решений - подберем лучшие гиперпараметры\n",
    "best_model = None\n",
    "best_f1 = 0\n",
    "for depth in range(1, 10):\n",
    "    model_tree = DecisionTreeClassifier(random_state=12345,\n",
    "                                        max_depth=depth)\n",
    "    model_tree.fit(features_downsampled, target_downsampled)\n",
    "    predictions_valid_tree = model_tree.predict(features_valid)\n",
    "    f1_tree = f1_score(target_valid, predictions_valid_tree)\n",
    "    if f1_tree > best_f1:\n",
    "        best_model = model_tree\n",
    "        best_depth = depth\n",
    "        best_f1 = f1_tree\n",
    "\n",
    "print('Оптимальная глубина дерева =', best_depth) \n",
    "print('Качество модели - ', f1_tree)\n"
   ]
  },
  {
   "cell_type": "code",
   "execution_count": 67,
   "metadata": {
    "scrolled": false
   },
   "outputs": [],
   "source": [
    "model_tree = DecisionTreeClassifier(random_state=12345,\n",
    "                                    max_depth=5)\n",
    "model_tree.fit(features_downsampled, target_downsampled)\n",
    "predictions_valid_tree = model_tree.predict(features_valid)\n"
   ]
  },
  {
   "cell_type": "code",
   "execution_count": 68,
   "metadata": {
    "scrolled": true
   },
   "outputs": [
    {
     "name": "stdout",
     "output_type": "stream",
     "text": [
      "Recall_tree: 0.6985645933014354\n",
      "Precision_tree: 0.5186500888099467\n",
      "F1_tree: 0.5953109072375127\n",
      "ROC-AUC_tree: 0.8240212861195628\n"
     ]
    }
   ],
   "source": [
    "print(\"Recall_tree:\", recall_score(target_valid, predictions_valid_tree))\n",
    "print(\"Precision_tree:\", precision_score(target_valid, predictions_valid_tree))\n",
    "print(\"F1_tree:\", f1_score(target_valid, predictions_valid_tree))\n",
    "\n",
    "probabilities_valid = model_tree.predict_proba(features_valid)\n",
    "probabilities_one_valid = probabilities_valid[:, 1]\n",
    "print(\"ROC-AUC_tree:\", roc_auc_score(target_valid, probabilities_one_valid))"
   ]
  },
  {
   "cell_type": "markdown",
   "metadata": {},
   "source": [
    "<div class=\"alert alert-info\" role=\"alert\">\n",
    "Здесь же на оборот все показатели выше чем во взвешивании и в увеличение модели. Но они не дотягиваются до Случайного леса."
   ]
  },
  {
   "cell_type": "code",
   "execution_count": 69,
   "metadata": {},
   "outputs": [],
   "source": [
    "# Логистическая регрессия \n",
    "model_log = LogisticRegression(random_state=12345,\n",
    "                               solver='liblinear')\n",
    "model_log.fit(features_downsampled, target_downsampled)\n",
    "predictions_valid_log = model_log.predict(features_valid)\n"
   ]
  },
  {
   "cell_type": "code",
   "execution_count": 70,
   "metadata": {},
   "outputs": [
    {
     "name": "stdout",
     "output_type": "stream",
     "text": [
      "Recall_log: 0.6818181818181818\n",
      "Precision_log: 0.3815261044176707\n",
      "F1_log: 0.4892703862660944\n",
      "ROC-AUC_log: 0.762673981816972\n"
     ]
    }
   ],
   "source": [
    "print(\"Recall_log:\", recall_score(target_valid, predictions_valid_log))\n",
    "print(\"Precision_log:\", precision_score(target_valid, predictions_valid_log))\n",
    "print(\"F1_log:\", f1_score(target_valid, predictions_valid_log))\n",
    "\n",
    "probabilities_valid = model_log.predict_proba(features_valid)\n",
    "probabilities_one_valid = probabilities_valid[:, 1]\n",
    "print(\"ROC-AUC_log:\", roc_auc_score(target_valid, probabilities_one_valid))"
   ]
  },
  {
   "cell_type": "markdown",
   "metadata": {},
   "source": [
    "\"ROC-AUC\" во всех моделях на одном уровне 80%\n",
    "F1 метрика самая удачная у Случайного леса"
   ]
  },
  {
   "cell_type": "markdown",
   "metadata": {},
   "source": [
    "<div class=\"alert alert-info\" role=\"alert\">\n",
    "    <p>Вывод:\n",
    "<p>Мы проработали 3 способа баланса классов. Подитожим общий вывод по главе.\n",
    "<p>1) во всех 3х способах \"ROC-AUC\" примерно находится на 1 уровне - 80%.\n",
    "Лучшее \"ROC-AUC\" во \"взвешивание классов-Случайный лес\", совсем рядом показатель, при увеличении выборки.\n",
    "<p>2)Полнота во всех классах и моделях выше, чем точность. Это субьективный признак. Нам гараздо важнее метрика F1\n",
    "Данная метрика лучше всего себя показала так же во \"взвешивание классов-Случайный лес\".\n",
    "Хуже всего она ведет себя в \"логистической регресии\".\n",
    "<p>3)Остановимся на \"взвешивание классов-Случайный лес\" на ней будем обучать тестовую "
   ]
  },
  {
   "cell_type": "markdown",
   "metadata": {},
   "source": [
    "## Тестирование модели"
   ]
  },
  {
   "cell_type": "code",
   "execution_count": 71,
   "metadata": {},
   "outputs": [],
   "source": [
    "model_forest_the_end = RandomForestClassifier(\n",
    "            random_state=12345,\n",
    "            n_estimators=110,\n",
    "            max_depth = 9,\n",
    "            class_weight='balanced') \n",
    "model_forest_the_end.fit(features_upsampled, target_upsampled) # обучаем модель\n",
    "prediction_test_forest_the_end = model_forest_the_end.predict(features_test)"
   ]
  },
  {
   "cell_type": "code",
   "execution_count": 72,
   "metadata": {},
   "outputs": [
    {
     "name": "stdout",
     "output_type": "stream",
     "text": [
      "Recall_forest_the_end: 0.6879432624113475\n",
      "Precision_forest_the_end: 0.5418994413407822\n",
      "F1_forest_the_end: 0.6062500000000001\n",
      "CPU times: user 23.9 ms, sys: 0 ns, total: 23.9 ms\n",
      "Wall time: 24.1 ms\n"
     ]
    }
   ],
   "source": [
    "%%time\n",
    "print(\"Recall_forest_the_end:\", recall_score(\n",
    "    target_test, prediction_test_forest_the_end))\n",
    "print(\"Precision_forest_the_end:\", precision_score(\n",
    "    target_test, prediction_test_forest_the_end))\n",
    "print(\"F1_forest_the_end:\", f1_score(\n",
    "    target_test, prediction_test_forest_the_end))"
   ]
  },
  {
   "cell_type": "code",
   "execution_count": 73,
   "metadata": {},
   "outputs": [
    {
     "name": "stdout",
     "output_type": "stream",
     "text": [
      "ROC-AUC_forest: 0.8582834510869157\n"
     ]
    }
   ],
   "source": [
    "# ROC-AUC найдем \n",
    "probabilities_test = model_forest_the_end.predict_proba(features_test)\n",
    "probabilities_one_test = probabilities_test[:, 1]\n",
    "print(\"ROC-AUC_forest:\", roc_auc_score(target_test, probabilities_one_test))"
   ]
  },
  {
   "cell_type": "code",
   "execution_count": 74,
   "metadata": {
    "scrolled": true
   },
   "outputs": [
    {
     "data": {
      "image/png": "[encoded data removed]",
      "text/plain": [
       "<Figure size 600x600 with 1 Axes>"
      ]
     },
     "metadata": {},
     "output_type": "display_data"
    }
   ],
   "source": [
    "fpr, tpr, thresholds =roc_curve(target_test, probabilities_one_test)\n",
    "\n",
    "\n",
    "plt.figure(figsize=(6, 6))\n",
    "plt.plot(fpr, tpr)\n",
    "# ROC-кривая случайной модели (выглядит как прямая)\n",
    "plt.plot([0, 1], [0, 1], linestyle='--')\n",
    "plt.ylim([0.0, 1.0])\n",
    "plt.xlim([0.0, 1.0])\n",
    "plt.xlabel(\"False Positive Rate\")\n",
    "plt.ylabel(\"True Positive Rate\")\n",
    "\n",
    "plt.title(\"ROC-кривая\")# < добавьте к графику заголовок \"ROC-кривая\" функцией plt.title() >\n",
    "\n",
    "plt.show()"
   ]
  },
  {
   "cell_type": "markdown",
   "metadata": {},
   "source": [
    "Кривая помогает выбрать самое лучшее соотношение TPR с FPR"
   ]
  },
  {
   "cell_type": "markdown",
   "metadata": {},
   "source": [
    "<div class=\"alert alert-info\" role=\"alert\">\n",
    "Вывод:\n",
    "    1) F1 в нашей тестовой модели больше 59% \n",
    "    2) ROC-AUC показал очень хороший результат в 86% "
   ]
  },
  {
   "cell_type": "markdown",
   "metadata": {},
   "source": [
    "<div class=\"alert alert-info\" role=\"alert\">\n",
    "   <p> Итоговый вывод:\n",
    "<p>1) Изучили задание и выгрузили все нужные нам библиотеки.\n",
    "<p>2) При изучения датафрейма столкнулись с пропусками в столбце \"Tenure\" . Удалить , заменить на среднее или медиану являлось бы ошибкой . Я приняла решиние заменить на 0.\n",
    "<p>3) Так же мы заменили тип данных в этом столбце на (int). Нам не нужны были данные с плавающей точкой.\n",
    "<p>4)Удалили столбцы не нужные, не имеют для нас существенного интереса ['RowNumber','CustomerId', 'Surname']\n",
    "<p>5) Техникой ОНЕ категориальные признаки перевели в численные \n",
    "<p>6) Выеделили целевой признак и признаки. Разделили на 3 модели (Обучаящая, валидационная, тестовая ) в соотношении 3:1:1\n",
    "<p>7) Провели масштабирование выборок\n",
    "<p>8) Accuracy лучшей модели оказался \"Случаный лес\"\n",
    "<p>9)Разобрали несколько вариантов борьбы с дисбалансом : взвешивание классов upsampling и downsampling\n",
    "<p>10)Далее, наилучшая модель была протестирована на тестовой выборке.\n",
    "Значения ключевых метрик получились следующие:\n",
    "\n",
    "   <p>F1-score = 0.61 (выше необходимого значения)\n",
    "   <p> AUC-ROC = 0.86 (достаточно близко к единице)\n"
   ]
  },
  {
   "cell_type": "markdown",
   "metadata": {},
   "source": [
    "## Чек-лист готовности проекта"
   ]
  },
  {
   "cell_type": "markdown",
   "metadata": {},
   "source": [
    "Поставьте 'x' в выполненных пунктах. Далее нажмите Shift+Enter."
   ]
  },
  {
   "cell_type": "markdown",
   "metadata": {},
   "source": [
    "- [x]  Jupyter Notebook открыт\n",
    "- [x]  Весь код выполняется без ошибок\n",
    "- [x]  Ячейки с кодом расположены в порядке исполнения\n",
    "- [x]  Выполнен шаг 1: данные подготовлены\n",
    "- [x]  Выполнен шаг 2: задача исследована\n",
    "    - [x]  Исследован баланс классов\n",
    "    - [x]  Изучены модели без учёта дисбаланса\n",
    "    - [x]  Написаны выводы по результатам исследования\n",
    "- [x]  Выполнен шаг 3: учтён дисбаланс\n",
    "    - [x]  Применено несколько способов борьбы с дисбалансом\n",
    "    - [x]  Написаны выводы по результатам исследования\n",
    "- [x]  Выполнен шаг 4: проведено тестирование\n",
    "- [x]  Удалось достичь *F1*-меры не менее 0.59\n",
    "- [x]  Исследована метрика *AUC-ROC*"
   ]
  },
  {
   "cell_type": "code",
   "execution_count": null,
   "metadata": {},
   "outputs": [],
   "source": []
  }
 ],
 "metadata": {
  "ExecuteTimeLog": [
   {
    "duration": 1319,
    "start_time": "2023-07-24T11:23:07.300Z"
   },
   {
    "duration": 3,
    "start_time": "2023-07-24T11:24:17.893Z"
   },
   {
    "duration": 75,
    "start_time": "2023-07-24T11:33:20.124Z"
   },
   {
    "duration": 12,
    "start_time": "2023-07-24T11:33:40.863Z"
   },
   {
    "duration": 105,
    "start_time": "2023-07-24T11:39:37.670Z"
   },
   {
    "duration": 15,
    "start_time": "2023-07-24T11:40:30.794Z"
   },
   {
    "duration": 7,
    "start_time": "2023-07-24T11:41:02.640Z"
   },
   {
    "duration": 4,
    "start_time": "2023-07-24T11:41:14.933Z"
   },
   {
    "duration": 8,
    "start_time": "2023-07-24T11:46:43.129Z"
   },
   {
    "duration": 3,
    "start_time": "2023-07-24T11:47:01.351Z"
   },
   {
    "duration": 5,
    "start_time": "2023-07-24T11:47:25.196Z"
   },
   {
    "duration": 5,
    "start_time": "2023-07-24T11:48:00.711Z"
   },
   {
    "duration": 5,
    "start_time": "2023-07-24T11:48:25.208Z"
   },
   {
    "duration": 6,
    "start_time": "2023-07-24T11:48:47.439Z"
   },
   {
    "duration": 1136,
    "start_time": "2023-07-24T11:49:28.045Z"
   },
   {
    "duration": 40,
    "start_time": "2023-07-24T11:49:29.182Z"
   },
   {
    "duration": 11,
    "start_time": "2023-07-24T11:49:29.224Z"
   },
   {
    "duration": 15,
    "start_time": "2023-07-24T11:49:29.236Z"
   },
   {
    "duration": 27,
    "start_time": "2023-07-24T11:49:29.253Z"
   },
   {
    "duration": 18,
    "start_time": "2023-07-24T11:49:29.282Z"
   },
   {
    "duration": 30,
    "start_time": "2023-07-24T11:49:29.302Z"
   },
   {
    "duration": 1123,
    "start_time": "2023-07-24T11:49:52.971Z"
   },
   {
    "duration": 39,
    "start_time": "2023-07-24T11:49:54.096Z"
   },
   {
    "duration": 48,
    "start_time": "2023-07-24T11:49:54.137Z"
   },
   {
    "duration": 32,
    "start_time": "2023-07-24T11:49:54.187Z"
   },
   {
    "duration": 41,
    "start_time": "2023-07-24T11:49:54.221Z"
   },
   {
    "duration": 44,
    "start_time": "2023-07-24T11:49:54.263Z"
   },
   {
    "duration": 34,
    "start_time": "2023-07-24T11:49:54.308Z"
   },
   {
    "duration": 1186,
    "start_time": "2023-07-24T11:50:14.890Z"
   },
   {
    "duration": 39,
    "start_time": "2023-07-24T11:50:16.078Z"
   },
   {
    "duration": 12,
    "start_time": "2023-07-24T11:50:17.521Z"
   },
   {
    "duration": 10,
    "start_time": "2023-07-24T11:50:24.521Z"
   },
   {
    "duration": 6,
    "start_time": "2023-07-24T11:50:32.275Z"
   },
   {
    "duration": 6,
    "start_time": "2023-07-24T11:50:51.491Z"
   },
   {
    "duration": 3,
    "start_time": "2023-07-24T11:51:03.441Z"
   },
   {
    "duration": 6,
    "start_time": "2023-07-24T11:51:05.451Z"
   },
   {
    "duration": 3,
    "start_time": "2023-07-24T11:51:46.618Z"
   },
   {
    "duration": 11,
    "start_time": "2023-07-24T11:52:05.112Z"
   },
   {
    "duration": 3,
    "start_time": "2023-07-24T11:54:44.739Z"
   },
   {
    "duration": 38,
    "start_time": "2023-07-24T11:55:35.585Z"
   },
   {
    "duration": 35,
    "start_time": "2023-07-24T12:05:55.822Z"
   },
   {
    "duration": 120,
    "start_time": "2023-07-24T12:07:42.628Z"
   },
   {
    "duration": 45,
    "start_time": "2023-07-24T12:13:11.819Z"
   },
   {
    "duration": 39,
    "start_time": "2023-07-24T12:14:02.657Z"
   },
   {
    "duration": 1392,
    "start_time": "2023-07-24T12:14:41.853Z"
   },
   {
    "duration": 39,
    "start_time": "2023-07-24T12:14:43.246Z"
   },
   {
    "duration": 11,
    "start_time": "2023-07-24T12:14:43.287Z"
   },
   {
    "duration": 10,
    "start_time": "2023-07-24T12:14:43.300Z"
   },
   {
    "duration": 4,
    "start_time": "2023-07-24T12:14:43.311Z"
   },
   {
    "duration": 10,
    "start_time": "2023-07-24T12:14:43.316Z"
   },
   {
    "duration": 4,
    "start_time": "2023-07-24T12:14:43.328Z"
   },
   {
    "duration": 6,
    "start_time": "2023-07-24T12:14:43.334Z"
   },
   {
    "duration": 8,
    "start_time": "2023-07-24T12:14:43.341Z"
   },
   {
    "duration": 16,
    "start_time": "2023-07-24T12:14:43.351Z"
   },
   {
    "duration": 52,
    "start_time": "2023-07-24T12:14:43.369Z"
   },
   {
    "duration": 1119,
    "start_time": "2023-07-24T12:14:57.726Z"
   },
   {
    "duration": 39,
    "start_time": "2023-07-24T12:14:58.846Z"
   },
   {
    "duration": 31,
    "start_time": "2023-07-24T12:14:58.887Z"
   },
   {
    "duration": 87,
    "start_time": "2023-07-24T12:14:58.921Z"
   },
   {
    "duration": 60,
    "start_time": "2023-07-24T12:14:59.010Z"
   },
   {
    "duration": 10,
    "start_time": "2023-07-24T12:14:59.072Z"
   },
   {
    "duration": 15,
    "start_time": "2023-07-24T12:14:59.084Z"
   },
   {
    "duration": 16,
    "start_time": "2023-07-24T12:14:59.101Z"
   },
   {
    "duration": 25,
    "start_time": "2023-07-24T12:14:59.119Z"
   },
   {
    "duration": 22,
    "start_time": "2023-07-24T12:14:59.146Z"
   },
   {
    "duration": 81,
    "start_time": "2023-07-24T12:14:59.169Z"
   },
   {
    "duration": 6,
    "start_time": "2023-07-24T12:21:42.953Z"
   },
   {
    "duration": 4,
    "start_time": "2023-07-24T12:21:58.488Z"
   },
   {
    "duration": 127,
    "start_time": "2023-07-24T12:22:57.683Z"
   },
   {
    "duration": 9,
    "start_time": "2023-07-24T12:31:14.014Z"
   },
   {
    "duration": 4,
    "start_time": "2023-07-24T12:32:55.243Z"
   },
   {
    "duration": 37,
    "start_time": "2023-07-24T12:32:55.896Z"
   },
   {
    "duration": 11,
    "start_time": "2023-07-24T12:32:56.034Z"
   },
   {
    "duration": 6,
    "start_time": "2023-07-24T12:32:56.211Z"
   },
   {
    "duration": 4,
    "start_time": "2023-07-24T12:32:56.355Z"
   },
   {
    "duration": 5,
    "start_time": "2023-07-24T12:32:56.522Z"
   },
   {
    "duration": 3,
    "start_time": "2023-07-24T12:32:56.675Z"
   },
   {
    "duration": 6,
    "start_time": "2023-07-24T12:32:56.876Z"
   },
   {
    "duration": 4,
    "start_time": "2023-07-24T12:32:57.015Z"
   },
   {
    "duration": 16,
    "start_time": "2023-07-24T12:32:57.174Z"
   },
   {
    "duration": 40,
    "start_time": "2023-07-24T12:32:57.814Z"
   },
   {
    "duration": 8,
    "start_time": "2023-07-24T12:32:59.680Z"
   },
   {
    "duration": 4,
    "start_time": "2023-07-24T12:36:00.781Z"
   },
   {
    "duration": 108,
    "start_time": "2023-07-24T12:39:44.991Z"
   },
   {
    "duration": 5,
    "start_time": "2023-07-24T12:41:30.410Z"
   },
   {
    "duration": 4,
    "start_time": "2023-07-24T12:41:50.571Z"
   },
   {
    "duration": 1101,
    "start_time": "2023-07-24T12:46:32.064Z"
   },
   {
    "duration": 44,
    "start_time": "2023-07-24T12:46:33.168Z"
   },
   {
    "duration": 11,
    "start_time": "2023-07-24T12:46:33.214Z"
   },
   {
    "duration": 19,
    "start_time": "2023-07-24T12:46:33.227Z"
   },
   {
    "duration": 4,
    "start_time": "2023-07-24T12:46:33.249Z"
   },
   {
    "duration": 10,
    "start_time": "2023-07-24T12:46:33.255Z"
   },
   {
    "duration": 6,
    "start_time": "2023-07-24T12:46:33.266Z"
   },
   {
    "duration": 11,
    "start_time": "2023-07-24T12:46:33.274Z"
   },
   {
    "duration": 6,
    "start_time": "2023-07-24T12:46:33.286Z"
   },
   {
    "duration": 27,
    "start_time": "2023-07-24T12:46:33.293Z"
   },
   {
    "duration": 43,
    "start_time": "2023-07-24T12:46:33.321Z"
   },
   {
    "duration": 10,
    "start_time": "2023-07-24T12:46:33.366Z"
   },
   {
    "duration": 4,
    "start_time": "2023-07-24T12:54:51.140Z"
   },
   {
    "duration": 39,
    "start_time": "2023-07-24T12:54:52.584Z"
   },
   {
    "duration": 10,
    "start_time": "2023-07-24T12:54:52.672Z"
   },
   {
    "duration": 7,
    "start_time": "2023-07-24T12:54:52.835Z"
   },
   {
    "duration": 5,
    "start_time": "2023-07-24T12:54:52.969Z"
   },
   {
    "duration": 5,
    "start_time": "2023-07-24T12:54:53.109Z"
   },
   {
    "duration": 3,
    "start_time": "2023-07-24T12:54:53.270Z"
   },
   {
    "duration": 6,
    "start_time": "2023-07-24T12:54:53.408Z"
   },
   {
    "duration": 4,
    "start_time": "2023-07-24T12:54:53.576Z"
   },
   {
    "duration": 12,
    "start_time": "2023-07-24T12:54:53.716Z"
   },
   {
    "duration": 38,
    "start_time": "2023-07-24T12:54:54.067Z"
   },
   {
    "duration": 11,
    "start_time": "2023-07-24T12:54:54.460Z"
   },
   {
    "duration": 5,
    "start_time": "2023-07-24T12:56:36.488Z"
   },
   {
    "duration": 99,
    "start_time": "2023-07-24T12:59:39.584Z"
   },
   {
    "duration": 5,
    "start_time": "2023-07-24T13:00:09.188Z"
   },
   {
    "duration": 21,
    "start_time": "2023-07-24T13:09:21.811Z"
   },
   {
    "duration": 9,
    "start_time": "2023-07-24T13:16:59.357Z"
   },
   {
    "duration": 7,
    "start_time": "2023-07-24T13:17:13.815Z"
   },
   {
    "duration": 14,
    "start_time": "2023-07-24T13:17:25.464Z"
   },
   {
    "duration": 68,
    "start_time": "2023-07-24T15:14:36.969Z"
   },
   {
    "duration": 1803,
    "start_time": "2023-07-24T15:16:40.920Z"
   },
   {
    "duration": 94,
    "start_time": "2023-07-24T15:16:42.736Z"
   },
   {
    "duration": 23,
    "start_time": "2023-07-24T15:16:42.833Z"
   },
   {
    "duration": 25,
    "start_time": "2023-07-24T15:16:42.859Z"
   },
   {
    "duration": 66,
    "start_time": "2023-07-24T15:16:42.886Z"
   },
   {
    "duration": 36,
    "start_time": "2023-07-24T15:16:42.955Z"
   },
   {
    "duration": 51,
    "start_time": "2023-07-24T15:16:42.994Z"
   },
   {
    "duration": 17,
    "start_time": "2023-07-24T15:16:43.050Z"
   },
   {
    "duration": 29,
    "start_time": "2023-07-24T15:16:43.070Z"
   },
   {
    "duration": 66,
    "start_time": "2023-07-24T15:16:43.102Z"
   },
   {
    "duration": 89,
    "start_time": "2023-07-24T15:16:43.170Z"
   },
   {
    "duration": 14,
    "start_time": "2023-07-24T15:16:43.262Z"
   },
   {
    "duration": 66,
    "start_time": "2023-07-24T15:16:43.278Z"
   },
   {
    "duration": 22,
    "start_time": "2023-07-24T15:16:43.348Z"
   },
   {
    "duration": 14,
    "start_time": "2023-07-24T15:16:43.373Z"
   },
   {
    "duration": 26,
    "start_time": "2023-07-24T15:16:43.390Z"
   },
   {
    "duration": 21,
    "start_time": "2023-07-24T15:16:43.419Z"
   },
   {
    "duration": 15,
    "start_time": "2023-07-24T15:16:43.442Z"
   },
   {
    "duration": 10,
    "start_time": "2023-07-24T15:16:43.459Z"
   },
   {
    "duration": 148,
    "start_time": "2023-07-24T15:16:43.471Z"
   },
   {
    "duration": 1614,
    "start_time": "2023-07-24T15:17:02.239Z"
   },
   {
    "duration": 58,
    "start_time": "2023-07-24T15:17:03.856Z"
   },
   {
    "duration": 21,
    "start_time": "2023-07-24T15:17:03.924Z"
   },
   {
    "duration": 116,
    "start_time": "2023-07-24T15:17:03.947Z"
   },
   {
    "duration": 18,
    "start_time": "2023-07-24T15:17:04.066Z"
   },
   {
    "duration": 54,
    "start_time": "2023-07-24T15:17:04.086Z"
   },
   {
    "duration": 29,
    "start_time": "2023-07-24T15:17:04.143Z"
   },
   {
    "duration": 22,
    "start_time": "2023-07-24T15:17:04.175Z"
   },
   {
    "duration": 41,
    "start_time": "2023-07-24T15:17:04.200Z"
   },
   {
    "duration": 72,
    "start_time": "2023-07-24T15:17:04.243Z"
   },
   {
    "duration": 114,
    "start_time": "2023-07-24T15:17:04.320Z"
   },
   {
    "duration": 16,
    "start_time": "2023-07-24T15:17:04.436Z"
   },
   {
    "duration": 65,
    "start_time": "2023-07-24T15:17:04.455Z"
   },
   {
    "duration": 56,
    "start_time": "2023-07-24T15:17:04.524Z"
   },
   {
    "duration": 68,
    "start_time": "2023-07-24T15:17:04.583Z"
   },
   {
    "duration": 43,
    "start_time": "2023-07-24T15:17:04.654Z"
   },
   {
    "duration": 41,
    "start_time": "2023-07-24T15:17:04.700Z"
   },
   {
    "duration": 29,
    "start_time": "2023-07-24T15:17:04.744Z"
   },
   {
    "duration": 58,
    "start_time": "2023-07-24T15:17:04.775Z"
   },
   {
    "duration": 215,
    "start_time": "2023-07-24T15:17:04.836Z"
   },
   {
    "duration": 5,
    "start_time": "2023-07-24T15:23:01.640Z"
   },
   {
    "duration": 44,
    "start_time": "2023-07-24T15:23:02.328Z"
   },
   {
    "duration": 21,
    "start_time": "2023-07-24T15:23:02.443Z"
   },
   {
    "duration": 21,
    "start_time": "2023-07-24T15:23:02.617Z"
   },
   {
    "duration": 11,
    "start_time": "2023-07-24T15:23:02.775Z"
   },
   {
    "duration": 10,
    "start_time": "2023-07-24T15:23:02.921Z"
   },
   {
    "duration": 6,
    "start_time": "2023-07-24T15:23:03.053Z"
   },
   {
    "duration": 10,
    "start_time": "2023-07-24T15:23:03.174Z"
   },
   {
    "duration": 6,
    "start_time": "2023-07-24T15:23:03.357Z"
   },
   {
    "duration": 21,
    "start_time": "2023-07-24T15:23:03.557Z"
   },
   {
    "duration": 80,
    "start_time": "2023-07-24T15:23:03.874Z"
   },
   {
    "duration": 22,
    "start_time": "2023-07-24T15:23:04.159Z"
   },
   {
    "duration": 15,
    "start_time": "2023-07-24T15:23:05.637Z"
   },
   {
    "duration": 24,
    "start_time": "2023-07-24T15:23:06.036Z"
   },
   {
    "duration": 8,
    "start_time": "2023-07-24T15:23:07.144Z"
   },
   {
    "duration": 12,
    "start_time": "2023-07-24T15:23:09.397Z"
   },
   {
    "duration": 4,
    "start_time": "2023-07-24T15:23:10.790Z"
   },
   {
    "duration": 9,
    "start_time": "2023-07-24T15:23:11.998Z"
   },
   {
    "duration": 4,
    "start_time": "2023-07-24T15:23:12.631Z"
   },
   {
    "duration": 5,
    "start_time": "2023-07-24T15:32:56.736Z"
   },
   {
    "duration": 2880,
    "start_time": "2023-07-24T15:34:23.392Z"
   },
   {
    "duration": 1944,
    "start_time": "2023-07-24T15:37:19.738Z"
   },
   {
    "duration": 4,
    "start_time": "2023-07-24T15:39:02.637Z"
   },
   {
    "duration": 12,
    "start_time": "2023-07-24T15:39:56.986Z"
   },
   {
    "duration": 3535,
    "start_time": "2023-07-24T15:40:01.991Z"
   },
   {
    "duration": 31,
    "start_time": "2023-07-24T15:41:07.127Z"
   },
   {
    "duration": 21,
    "start_time": "2023-07-24T15:41:52.238Z"
   },
   {
    "duration": 5,
    "start_time": "2023-07-24T15:42:48.338Z"
   },
   {
    "duration": 42,
    "start_time": "2023-07-24T15:42:48.768Z"
   },
   {
    "duration": 13,
    "start_time": "2023-07-24T15:42:48.970Z"
   },
   {
    "duration": 9,
    "start_time": "2023-07-24T15:42:49.139Z"
   },
   {
    "duration": 8,
    "start_time": "2023-07-24T15:42:49.338Z"
   },
   {
    "duration": 9,
    "start_time": "2023-07-24T15:42:49.434Z"
   },
   {
    "duration": 7,
    "start_time": "2023-07-24T15:42:49.635Z"
   },
   {
    "duration": 8,
    "start_time": "2023-07-24T15:42:49.832Z"
   },
   {
    "duration": 5,
    "start_time": "2023-07-24T15:42:49.949Z"
   },
   {
    "duration": 14,
    "start_time": "2023-07-24T15:42:50.146Z"
   },
   {
    "duration": 57,
    "start_time": "2023-07-24T15:42:50.523Z"
   },
   {
    "duration": 14,
    "start_time": "2023-07-24T15:42:50.938Z"
   },
   {
    "duration": 14,
    "start_time": "2023-07-24T15:42:52.797Z"
   },
   {
    "duration": 17,
    "start_time": "2023-07-24T15:42:54.457Z"
   },
   {
    "duration": 17,
    "start_time": "2023-07-24T15:42:54.728Z"
   },
   {
    "duration": 9,
    "start_time": "2023-07-24T15:42:56.066Z"
   },
   {
    "duration": 4,
    "start_time": "2023-07-24T15:42:56.455Z"
   },
   {
    "duration": 9,
    "start_time": "2023-07-24T15:42:57.457Z"
   },
   {
    "duration": 6,
    "start_time": "2023-07-24T15:42:58.132Z"
   },
   {
    "duration": 4,
    "start_time": "2023-07-24T15:43:01.534Z"
   },
   {
    "duration": 20,
    "start_time": "2023-07-24T15:43:02.205Z"
   },
   {
    "duration": 21,
    "start_time": "2023-07-24T15:43:16.467Z"
   },
   {
    "duration": 41,
    "start_time": "2023-07-24T15:43:45.091Z"
   },
   {
    "duration": 16,
    "start_time": "2023-07-24T15:45:12.742Z"
   },
   {
    "duration": 45,
    "start_time": "2023-07-24T15:45:32.391Z"
   },
   {
    "duration": 210,
    "start_time": "2023-07-24T15:46:03.396Z"
   },
   {
    "duration": 41,
    "start_time": "2023-07-24T15:47:08.286Z"
   },
   {
    "duration": 40,
    "start_time": "2023-07-24T15:49:41.095Z"
   },
   {
    "duration": 9,
    "start_time": "2023-07-24T15:59:58.825Z"
   },
   {
    "duration": 38,
    "start_time": "2023-07-24T16:00:00.585Z"
   },
   {
    "duration": 5,
    "start_time": "2023-07-24T16:00:53.192Z"
   },
   {
    "duration": 26,
    "start_time": "2023-07-24T16:00:53.662Z"
   },
   {
    "duration": 5,
    "start_time": "2023-07-24T16:04:32.371Z"
   },
   {
    "duration": 14,
    "start_time": "2023-07-24T16:04:33.937Z"
   },
   {
    "duration": 32,
    "start_time": "2023-07-24T16:15:43.044Z"
   },
   {
    "duration": 40,
    "start_time": "2023-07-24T16:16:43.294Z"
   },
   {
    "duration": 38,
    "start_time": "2023-07-24T16:18:44.386Z"
   },
   {
    "duration": 30,
    "start_time": "2023-07-24T16:19:32.669Z"
   },
   {
    "duration": 313,
    "start_time": "2023-07-24T16:26:10.155Z"
   },
   {
    "duration": 15,
    "start_time": "2023-07-24T16:26:22.768Z"
   },
   {
    "duration": 24,
    "start_time": "2023-07-24T16:26:51.033Z"
   },
   {
    "duration": 12,
    "start_time": "2023-07-24T16:26:51.462Z"
   },
   {
    "duration": 1350,
    "start_time": "2023-07-24T16:27:26.257Z"
   },
   {
    "duration": 56,
    "start_time": "2023-07-24T16:27:27.618Z"
   },
   {
    "duration": 15,
    "start_time": "2023-07-24T16:27:27.676Z"
   },
   {
    "duration": 37,
    "start_time": "2023-07-24T16:27:27.693Z"
   },
   {
    "duration": 27,
    "start_time": "2023-07-24T16:27:27.732Z"
   },
   {
    "duration": 16,
    "start_time": "2023-07-24T16:27:27.761Z"
   },
   {
    "duration": 16,
    "start_time": "2023-07-24T16:27:27.778Z"
   },
   {
    "duration": 66,
    "start_time": "2023-07-24T16:27:27.796Z"
   },
   {
    "duration": 11,
    "start_time": "2023-07-24T16:27:27.864Z"
   },
   {
    "duration": 34,
    "start_time": "2023-07-24T16:27:27.878Z"
   },
   {
    "duration": 60,
    "start_time": "2023-07-24T16:27:27.914Z"
   },
   {
    "duration": 14,
    "start_time": "2023-07-24T16:27:27.976Z"
   },
   {
    "duration": 72,
    "start_time": "2023-07-24T16:27:27.992Z"
   },
   {
    "duration": 21,
    "start_time": "2023-07-24T16:27:28.066Z"
   },
   {
    "duration": 29,
    "start_time": "2023-07-24T16:27:28.089Z"
   },
   {
    "duration": 29,
    "start_time": "2023-07-24T16:27:28.122Z"
   },
   {
    "duration": 10,
    "start_time": "2023-07-24T16:27:28.154Z"
   },
   {
    "duration": 13,
    "start_time": "2023-07-24T16:27:28.166Z"
   },
   {
    "duration": 9,
    "start_time": "2023-07-24T16:27:28.181Z"
   },
   {
    "duration": 5,
    "start_time": "2023-07-24T16:27:28.192Z"
   },
   {
    "duration": 48,
    "start_time": "2023-07-24T16:27:28.199Z"
   },
   {
    "duration": 25,
    "start_time": "2023-07-24T16:27:28.249Z"
   },
   {
    "duration": 59,
    "start_time": "2023-07-24T16:27:28.277Z"
   },
   {
    "duration": 21,
    "start_time": "2023-07-24T16:27:28.338Z"
   },
   {
    "duration": 22,
    "start_time": "2023-07-24T16:27:28.361Z"
   },
   {
    "duration": 1174,
    "start_time": "2023-07-24T16:27:28.384Z"
   },
   {
    "duration": 0,
    "start_time": "2023-07-24T16:27:29.561Z"
   },
   {
    "duration": 0,
    "start_time": "2023-07-24T16:27:29.562Z"
   },
   {
    "duration": 0,
    "start_time": "2023-07-24T16:27:29.564Z"
   },
   {
    "duration": 1029,
    "start_time": "2023-07-24T16:28:23.134Z"
   },
   {
    "duration": 539,
    "start_time": "2023-07-24T16:31:41.029Z"
   },
   {
    "duration": 508,
    "start_time": "2023-07-24T16:31:53.239Z"
   },
   {
    "duration": 544,
    "start_time": "2023-07-24T16:32:49.030Z"
   },
   {
    "duration": 682,
    "start_time": "2023-07-24T16:34:16.465Z"
   },
   {
    "duration": 1509,
    "start_time": "2023-07-24T16:36:24.838Z"
   },
   {
    "duration": 54,
    "start_time": "2023-07-24T16:36:26.351Z"
   },
   {
    "duration": 62,
    "start_time": "2023-07-24T16:36:26.409Z"
   },
   {
    "duration": 96,
    "start_time": "2023-07-24T16:36:26.475Z"
   },
   {
    "duration": 16,
    "start_time": "2023-07-24T16:36:26.574Z"
   },
   {
    "duration": 102,
    "start_time": "2023-07-24T16:36:26.592Z"
   },
   {
    "duration": 61,
    "start_time": "2023-07-24T16:36:26.696Z"
   },
   {
    "duration": 43,
    "start_time": "2023-07-24T16:36:26.760Z"
   },
   {
    "duration": 53,
    "start_time": "2023-07-24T16:36:26.804Z"
   },
   {
    "duration": 46,
    "start_time": "2023-07-24T16:36:26.859Z"
   },
   {
    "duration": 98,
    "start_time": "2023-07-24T16:36:26.907Z"
   },
   {
    "duration": 26,
    "start_time": "2023-07-24T16:36:27.007Z"
   },
   {
    "duration": 121,
    "start_time": "2023-07-24T16:36:27.042Z"
   },
   {
    "duration": 83,
    "start_time": "2023-07-24T16:36:27.166Z"
   },
   {
    "duration": 21,
    "start_time": "2023-07-24T16:36:27.252Z"
   },
   {
    "duration": 42,
    "start_time": "2023-07-24T16:36:27.276Z"
   },
   {
    "duration": 40,
    "start_time": "2023-07-24T16:36:27.322Z"
   },
   {
    "duration": 13,
    "start_time": "2023-07-24T16:36:27.363Z"
   },
   {
    "duration": 11,
    "start_time": "2023-07-24T16:36:27.379Z"
   },
   {
    "duration": 4,
    "start_time": "2023-07-24T16:36:27.393Z"
   },
   {
    "duration": 47,
    "start_time": "2023-07-24T16:36:27.399Z"
   },
   {
    "duration": 37,
    "start_time": "2023-07-24T16:36:27.447Z"
   },
   {
    "duration": 51,
    "start_time": "2023-07-24T16:36:27.486Z"
   },
   {
    "duration": 71,
    "start_time": "2023-07-24T16:36:27.539Z"
   },
   {
    "duration": 50,
    "start_time": "2023-07-24T16:36:27.612Z"
   },
   {
    "duration": 137,
    "start_time": "2023-07-24T16:36:27.664Z"
   },
   {
    "duration": 0,
    "start_time": "2023-07-24T16:36:27.803Z"
   },
   {
    "duration": 29,
    "start_time": "2023-07-24T16:39:16.151Z"
   },
   {
    "duration": 6,
    "start_time": "2023-07-24T16:39:16.343Z"
   },
   {
    "duration": 9,
    "start_time": "2023-07-24T16:39:34.117Z"
   },
   {
    "duration": 52,
    "start_time": "2023-07-24T16:39:35.573Z"
   },
   {
    "duration": 17,
    "start_time": "2023-07-24T16:39:35.871Z"
   },
   {
    "duration": 7,
    "start_time": "2023-07-24T16:39:36.650Z"
   },
   {
    "duration": 6,
    "start_time": "2023-07-24T16:39:36.659Z"
   },
   {
    "duration": 11,
    "start_time": "2023-07-24T16:39:36.671Z"
   },
   {
    "duration": 4,
    "start_time": "2023-07-24T16:39:36.845Z"
   },
   {
    "duration": 9,
    "start_time": "2023-07-24T16:39:37.156Z"
   },
   {
    "duration": 4,
    "start_time": "2023-07-24T16:39:37.371Z"
   },
   {
    "duration": 23,
    "start_time": "2023-07-24T16:39:37.633Z"
   },
   {
    "duration": 50,
    "start_time": "2023-07-24T16:39:38.246Z"
   },
   {
    "duration": 14,
    "start_time": "2023-07-24T16:39:38.960Z"
   },
   {
    "duration": 23,
    "start_time": "2023-07-24T16:39:40.143Z"
   },
   {
    "duration": 11,
    "start_time": "2023-07-24T16:39:40.690Z"
   },
   {
    "duration": 25,
    "start_time": "2023-07-24T16:39:40.912Z"
   },
   {
    "duration": 12,
    "start_time": "2023-07-24T16:39:41.201Z"
   },
   {
    "duration": 6,
    "start_time": "2023-07-24T16:39:41.675Z"
   },
   {
    "duration": 4,
    "start_time": "2023-07-24T16:39:41.959Z"
   },
   {
    "duration": 6,
    "start_time": "2023-07-24T16:39:42.664Z"
   },
   {
    "duration": 4,
    "start_time": "2023-07-24T16:39:43.041Z"
   },
   {
    "duration": 3,
    "start_time": "2023-07-24T16:39:43.860Z"
   },
   {
    "duration": 9,
    "start_time": "2023-07-24T16:39:44.247Z"
   },
   {
    "duration": 25,
    "start_time": "2023-07-24T16:39:47.042Z"
   },
   {
    "duration": 21,
    "start_time": "2023-07-24T16:39:47.761Z"
   },
   {
    "duration": 32,
    "start_time": "2023-07-24T16:39:49.798Z"
   },
   {
    "duration": 25,
    "start_time": "2023-07-24T16:39:53.071Z"
   },
   {
    "duration": 31,
    "start_time": "2023-07-24T16:41:45.908Z"
   },
   {
    "duration": 42,
    "start_time": "2023-07-24T16:41:46.435Z"
   },
   {
    "duration": 19,
    "start_time": "2023-07-24T16:41:46.555Z"
   },
   {
    "duration": 9,
    "start_time": "2023-07-24T16:41:46.690Z"
   },
   {
    "duration": 7,
    "start_time": "2023-07-24T16:41:46.850Z"
   },
   {
    "duration": 3,
    "start_time": "2023-07-24T16:42:47.138Z"
   },
   {
    "duration": 42,
    "start_time": "2023-07-24T16:42:47.647Z"
   },
   {
    "duration": 13,
    "start_time": "2023-07-24T16:42:47.784Z"
   },
   {
    "duration": 8,
    "start_time": "2023-07-24T16:42:47.935Z"
   },
   {
    "duration": 6,
    "start_time": "2023-07-24T16:42:48.176Z"
   },
   {
    "duration": 6,
    "start_time": "2023-07-24T16:42:48.335Z"
   },
   {
    "duration": 4,
    "start_time": "2023-07-24T16:42:48.573Z"
   },
   {
    "duration": 8,
    "start_time": "2023-07-24T16:42:48.728Z"
   },
   {
    "duration": 4,
    "start_time": "2023-07-24T16:42:48.874Z"
   },
   {
    "duration": 12,
    "start_time": "2023-07-24T16:42:49.082Z"
   },
   {
    "duration": 76,
    "start_time": "2023-07-24T16:42:49.402Z"
   },
   {
    "duration": 14,
    "start_time": "2023-07-24T16:42:49.751Z"
   },
   {
    "duration": 20,
    "start_time": "2023-07-24T16:42:50.426Z"
   },
   {
    "duration": 10,
    "start_time": "2023-07-24T16:42:50.566Z"
   },
   {
    "duration": 12,
    "start_time": "2023-07-24T16:42:50.795Z"
   },
   {
    "duration": 6,
    "start_time": "2023-07-24T16:42:50.996Z"
   },
   {
    "duration": 7,
    "start_time": "2023-07-24T16:42:51.731Z"
   },
   {
    "duration": 7,
    "start_time": "2023-07-24T16:42:52.026Z"
   },
   {
    "duration": 5,
    "start_time": "2023-07-24T16:42:52.757Z"
   },
   {
    "duration": 4,
    "start_time": "2023-07-24T16:42:53.137Z"
   },
   {
    "duration": 3,
    "start_time": "2023-07-24T16:42:53.876Z"
   },
   {
    "duration": 11,
    "start_time": "2023-07-24T16:42:54.232Z"
   },
   {
    "duration": 24,
    "start_time": "2023-07-24T16:42:54.474Z"
   },
   {
    "duration": 26,
    "start_time": "2023-07-24T16:42:54.698Z"
   },
   {
    "duration": 25,
    "start_time": "2023-07-24T16:42:55.190Z"
   },
   {
    "duration": 1339,
    "start_time": "2023-07-24T16:42:56.132Z"
   },
   {
    "duration": 5,
    "start_time": "2023-07-24T16:42:57.473Z"
   },
   {
    "duration": 5,
    "start_time": "2023-07-24T16:43:58.028Z"
   },
   {
    "duration": 42,
    "start_time": "2023-07-24T16:43:58.448Z"
   },
   {
    "duration": 20,
    "start_time": "2023-07-24T16:43:58.975Z"
   },
   {
    "duration": 40,
    "start_time": "2023-07-24T16:43:59.001Z"
   },
   {
    "duration": 6,
    "start_time": "2023-07-24T16:43:59.071Z"
   },
   {
    "duration": 7,
    "start_time": "2023-07-24T16:43:59.152Z"
   },
   {
    "duration": 4,
    "start_time": "2023-07-24T16:43:59.236Z"
   },
   {
    "duration": 8,
    "start_time": "2023-07-24T16:43:59.331Z"
   },
   {
    "duration": 9,
    "start_time": "2023-07-24T16:43:59.427Z"
   },
   {
    "duration": 18,
    "start_time": "2023-07-24T16:43:59.459Z"
   },
   {
    "duration": 54,
    "start_time": "2023-07-24T16:43:59.590Z"
   },
   {
    "duration": 13,
    "start_time": "2023-07-24T16:43:59.740Z"
   },
   {
    "duration": 28,
    "start_time": "2023-07-24T16:44:00.008Z"
   },
   {
    "duration": 10,
    "start_time": "2023-07-24T16:44:00.093Z"
   },
   {
    "duration": 12,
    "start_time": "2023-07-24T16:44:00.174Z"
   },
   {
    "duration": 7,
    "start_time": "2023-07-24T16:44:00.247Z"
   },
   {
    "duration": 7,
    "start_time": "2023-07-24T16:44:00.382Z"
   },
   {
    "duration": 3,
    "start_time": "2023-07-24T16:44:00.492Z"
   },
   {
    "duration": 6,
    "start_time": "2023-07-24T16:44:00.582Z"
   },
   {
    "duration": 21,
    "start_time": "2023-07-24T16:44:00.670Z"
   },
   {
    "duration": 3,
    "start_time": "2023-07-24T16:44:00.791Z"
   },
   {
    "duration": 11,
    "start_time": "2023-07-24T16:44:00.885Z"
   },
   {
    "duration": 24,
    "start_time": "2023-07-24T16:44:00.978Z"
   },
   {
    "duration": 19,
    "start_time": "2023-07-24T16:44:01.067Z"
   },
   {
    "duration": 21,
    "start_time": "2023-07-24T16:44:01.160Z"
   },
   {
    "duration": 1262,
    "start_time": "2023-07-24T16:44:01.273Z"
   },
   {
    "duration": 5,
    "start_time": "2023-07-24T16:44:02.537Z"
   },
   {
    "duration": 178,
    "start_time": "2023-07-24T16:44:02.544Z"
   },
   {
    "duration": 4,
    "start_time": "2023-07-24T16:45:02.086Z"
   },
   {
    "duration": 11,
    "start_time": "2023-07-24T16:45:52.609Z"
   },
   {
    "duration": 4,
    "start_time": "2023-07-24T16:46:27.323Z"
   },
   {
    "duration": 42,
    "start_time": "2023-07-24T16:46:28.132Z"
   },
   {
    "duration": 14,
    "start_time": "2023-07-24T16:46:28.259Z"
   },
   {
    "duration": 9,
    "start_time": "2023-07-24T16:46:28.780Z"
   },
   {
    "duration": 5,
    "start_time": "2023-07-24T16:46:28.846Z"
   },
   {
    "duration": 7,
    "start_time": "2023-07-24T16:46:28.926Z"
   },
   {
    "duration": 4,
    "start_time": "2023-07-24T16:46:29.013Z"
   },
   {
    "duration": 7,
    "start_time": "2023-07-24T16:46:29.090Z"
   },
   {
    "duration": 4,
    "start_time": "2023-07-24T16:46:29.202Z"
   },
   {
    "duration": 14,
    "start_time": "2023-07-24T16:46:29.321Z"
   },
   {
    "duration": 55,
    "start_time": "2023-07-24T16:46:29.381Z"
   },
   {
    "duration": 14,
    "start_time": "2023-07-24T16:46:29.652Z"
   },
   {
    "duration": 19,
    "start_time": "2023-07-24T16:46:30.015Z"
   },
   {
    "duration": 10,
    "start_time": "2023-07-24T16:46:30.265Z"
   },
   {
    "duration": 36,
    "start_time": "2023-07-24T16:46:30.277Z"
   },
   {
    "duration": 25,
    "start_time": "2023-07-24T16:46:30.316Z"
   },
   {
    "duration": 7,
    "start_time": "2023-07-24T16:46:30.454Z"
   },
   {
    "duration": 4,
    "start_time": "2023-07-24T16:46:30.502Z"
   },
   {
    "duration": 7,
    "start_time": "2023-07-24T16:46:30.660Z"
   },
   {
    "duration": 3,
    "start_time": "2023-07-24T16:46:30.766Z"
   },
   {
    "duration": 3,
    "start_time": "2023-07-24T16:46:30.919Z"
   },
   {
    "duration": 9,
    "start_time": "2023-07-24T16:46:31.076Z"
   },
   {
    "duration": 61,
    "start_time": "2023-07-24T16:46:31.100Z"
   },
   {
    "duration": 51,
    "start_time": "2023-07-24T16:46:31.180Z"
   },
   {
    "duration": 21,
    "start_time": "2023-07-24T16:46:31.356Z"
   },
   {
    "duration": 1249,
    "start_time": "2023-07-24T16:46:31.965Z"
   },
   {
    "duration": 4,
    "start_time": "2023-07-24T16:46:33.216Z"
   },
   {
    "duration": 60,
    "start_time": "2023-07-24T16:46:33.222Z"
   },
   {
    "duration": 4,
    "start_time": "2023-07-24T16:46:33.285Z"
   },
   {
    "duration": 200,
    "start_time": "2023-07-24T16:46:33.309Z"
   },
   {
    "duration": 4,
    "start_time": "2023-07-24T16:46:33.511Z"
   },
   {
    "duration": 5,
    "start_time": "2023-07-24T16:50:20.067Z"
   },
   {
    "duration": 7,
    "start_time": "2023-07-24T16:51:00.628Z"
   },
   {
    "duration": 582,
    "start_time": "2023-07-24T16:57:10.434Z"
   },
   {
    "duration": 116,
    "start_time": "2023-07-24T16:57:45.200Z"
   },
   {
    "duration": 116,
    "start_time": "2023-07-24T16:59:40.092Z"
   },
   {
    "duration": 24,
    "start_time": "2023-07-24T18:06:56.718Z"
   },
   {
    "duration": 6,
    "start_time": "2023-07-24T18:07:09.586Z"
   },
   {
    "duration": 95,
    "start_time": "2023-07-24T18:23:17.407Z"
   },
   {
    "duration": 1283,
    "start_time": "2023-07-24T18:23:46.420Z"
   },
   {
    "duration": 4,
    "start_time": "2023-07-24T18:23:47.758Z"
   },
   {
    "duration": 69,
    "start_time": "2023-07-24T18:23:47.944Z"
   },
   {
    "duration": 4,
    "start_time": "2023-07-24T18:23:48.141Z"
   },
   {
    "duration": 154,
    "start_time": "2023-07-24T18:23:48.559Z"
   },
   {
    "duration": 7,
    "start_time": "2023-07-24T18:23:48.810Z"
   },
   {
    "duration": 117,
    "start_time": "2023-07-24T18:23:49.151Z"
   },
   {
    "duration": 7,
    "start_time": "2023-07-24T18:23:49.351Z"
   },
   {
    "duration": 5,
    "start_time": "2023-07-24T18:27:52.338Z"
   },
   {
    "duration": 36,
    "start_time": "2023-07-24T18:34:47.354Z"
   },
   {
    "duration": 21,
    "start_time": "2023-07-24T18:37:23.645Z"
   },
   {
    "duration": 379,
    "start_time": "2023-07-24T18:39:20.341Z"
   },
   {
    "duration": 11,
    "start_time": "2023-07-24T18:41:44.594Z"
   },
   {
    "duration": 386,
    "start_time": "2023-07-24T18:43:20.032Z"
   },
   {
    "duration": 248,
    "start_time": "2023-07-24T18:43:44.862Z"
   },
   {
    "duration": 3,
    "start_time": "2023-07-24T18:44:42.524Z"
   },
   {
    "duration": 344,
    "start_time": "2023-07-24T18:44:42.966Z"
   },
   {
    "duration": 10,
    "start_time": "2023-07-24T18:45:36.274Z"
   },
   {
    "duration": 1185,
    "start_time": "2023-07-25T15:38:17.156Z"
   },
   {
    "duration": 466,
    "start_time": "2023-07-25T15:38:18.343Z"
   },
   {
    "duration": 12,
    "start_time": "2023-07-25T15:38:18.811Z"
   },
   {
    "duration": 23,
    "start_time": "2023-07-25T15:38:18.825Z"
   },
   {
    "duration": 40,
    "start_time": "2023-07-25T15:38:18.850Z"
   },
   {
    "duration": 9,
    "start_time": "2023-07-25T15:38:18.892Z"
   },
   {
    "duration": 5,
    "start_time": "2023-07-25T15:38:18.903Z"
   },
   {
    "duration": 24,
    "start_time": "2023-07-25T15:38:18.909Z"
   },
   {
    "duration": 21,
    "start_time": "2023-07-25T15:38:18.935Z"
   },
   {
    "duration": 46,
    "start_time": "2023-07-25T15:38:18.957Z"
   },
   {
    "duration": 47,
    "start_time": "2023-07-25T15:38:19.004Z"
   },
   {
    "duration": 13,
    "start_time": "2023-07-25T15:38:19.053Z"
   },
   {
    "duration": 42,
    "start_time": "2023-07-25T15:38:19.067Z"
   },
   {
    "duration": 18,
    "start_time": "2023-07-25T15:38:19.112Z"
   },
   {
    "duration": 38,
    "start_time": "2023-07-25T15:38:19.131Z"
   },
   {
    "duration": 24,
    "start_time": "2023-07-25T15:38:19.170Z"
   },
   {
    "duration": 10,
    "start_time": "2023-07-25T15:38:19.196Z"
   },
   {
    "duration": 3,
    "start_time": "2023-07-25T15:38:19.208Z"
   },
   {
    "duration": 14,
    "start_time": "2023-07-25T15:38:19.212Z"
   },
   {
    "duration": 15,
    "start_time": "2023-07-25T15:38:19.228Z"
   },
   {
    "duration": 24,
    "start_time": "2023-07-25T15:38:19.244Z"
   },
   {
    "duration": 19,
    "start_time": "2023-07-25T15:38:19.269Z"
   },
   {
    "duration": 29,
    "start_time": "2023-07-25T15:38:19.290Z"
   },
   {
    "duration": 16,
    "start_time": "2023-07-25T15:38:19.320Z"
   },
   {
    "duration": 19,
    "start_time": "2023-07-25T15:38:19.338Z"
   },
   {
    "duration": 1094,
    "start_time": "2023-07-25T15:38:19.359Z"
   },
   {
    "duration": 5,
    "start_time": "2023-07-25T15:38:20.455Z"
   },
   {
    "duration": 106,
    "start_time": "2023-07-25T15:38:20.461Z"
   },
   {
    "duration": 17,
    "start_time": "2023-07-25T15:38:20.569Z"
   },
   {
    "duration": 209,
    "start_time": "2023-07-25T15:38:20.588Z"
   },
   {
    "duration": 13,
    "start_time": "2023-07-25T15:38:20.876Z"
   },
   {
    "duration": 666,
    "start_time": "2023-07-25T15:38:20.895Z"
   },
   {
    "duration": 6,
    "start_time": "2023-07-25T15:38:21.563Z"
   },
   {
    "duration": 20,
    "start_time": "2023-07-25T15:38:21.581Z"
   },
   {
    "duration": 145,
    "start_time": "2023-07-25T15:38:21.603Z"
   },
   {
    "duration": 0,
    "start_time": "2023-07-25T15:38:21.749Z"
   },
   {
    "duration": 44,
    "start_time": "2023-07-25T15:39:38.802Z"
   },
   {
    "duration": 4,
    "start_time": "2023-07-25T15:40:46.262Z"
   },
   {
    "duration": 4,
    "start_time": "2023-07-25T15:43:10.758Z"
   },
   {
    "duration": 51,
    "start_time": "2023-07-25T15:43:11.351Z"
   },
   {
    "duration": 11,
    "start_time": "2023-07-25T15:43:11.501Z"
   },
   {
    "duration": 7,
    "start_time": "2023-07-25T15:43:11.638Z"
   },
   {
    "duration": 5,
    "start_time": "2023-07-25T15:43:11.817Z"
   },
   {
    "duration": 8,
    "start_time": "2023-07-25T15:43:11.969Z"
   },
   {
    "duration": 4,
    "start_time": "2023-07-25T15:43:12.119Z"
   },
   {
    "duration": 8,
    "start_time": "2023-07-25T15:43:12.315Z"
   },
   {
    "duration": 4,
    "start_time": "2023-07-25T15:43:12.461Z"
   },
   {
    "duration": 20,
    "start_time": "2023-07-25T15:43:12.666Z"
   },
   {
    "duration": 44,
    "start_time": "2023-07-25T15:43:13.067Z"
   },
   {
    "duration": 12,
    "start_time": "2023-07-25T15:43:13.399Z"
   },
   {
    "duration": 12,
    "start_time": "2023-07-25T15:43:14.104Z"
   },
   {
    "duration": 8,
    "start_time": "2023-07-25T15:43:14.254Z"
   },
   {
    "duration": 10,
    "start_time": "2023-07-25T15:43:14.431Z"
   },
   {
    "duration": 6,
    "start_time": "2023-07-25T15:43:14.610Z"
   },
   {
    "duration": 5,
    "start_time": "2023-07-25T15:43:14.958Z"
   },
   {
    "duration": 3,
    "start_time": "2023-07-25T15:43:15.149Z"
   },
   {
    "duration": 5,
    "start_time": "2023-07-25T15:43:15.505Z"
   },
   {
    "duration": 3,
    "start_time": "2023-07-25T15:43:15.703Z"
   },
   {
    "duration": 2,
    "start_time": "2023-07-25T15:43:16.067Z"
   },
   {
    "duration": 8,
    "start_time": "2023-07-25T15:43:16.265Z"
   },
   {
    "duration": 24,
    "start_time": "2023-07-25T15:43:16.464Z"
   },
   {
    "duration": 16,
    "start_time": "2023-07-25T15:43:16.649Z"
   },
   {
    "duration": 16,
    "start_time": "2023-07-25T15:43:16.829Z"
   },
   {
    "duration": 1004,
    "start_time": "2023-07-25T15:43:17.067Z"
   },
   {
    "duration": 6,
    "start_time": "2023-07-25T15:43:18.073Z"
   },
   {
    "duration": 84,
    "start_time": "2023-07-25T15:43:18.082Z"
   },
   {
    "duration": 3,
    "start_time": "2023-07-25T15:43:18.168Z"
   },
   {
    "duration": 421,
    "start_time": "2023-07-25T15:43:18.173Z"
   },
   {
    "duration": 16,
    "start_time": "2023-07-25T15:43:18.677Z"
   },
   {
    "duration": 194,
    "start_time": "2023-07-25T15:43:18.695Z"
   },
   {
    "duration": 4,
    "start_time": "2023-07-25T15:43:19.669Z"
   },
   {
    "duration": 36,
    "start_time": "2023-07-25T15:43:20.699Z"
   },
   {
    "duration": 42,
    "start_time": "2023-07-25T15:45:20.521Z"
   },
   {
    "duration": 911,
    "start_time": "2023-07-25T15:46:38.764Z"
   },
   {
    "duration": 360,
    "start_time": "2023-07-25T15:48:10.823Z"
   },
   {
    "duration": 463,
    "start_time": "2023-07-25T15:56:30.315Z"
   },
   {
    "duration": 858,
    "start_time": "2023-07-25T17:09:58.040Z"
   },
   {
    "duration": 3,
    "start_time": "2023-07-25T17:55:42.741Z"
   },
   {
    "duration": 11,
    "start_time": "2023-07-25T17:58:00.705Z"
   },
   {
    "duration": 12,
    "start_time": "2023-07-25T17:58:01.232Z"
   },
   {
    "duration": 9,
    "start_time": "2023-07-25T17:59:58.436Z"
   },
   {
    "duration": 3,
    "start_time": "2023-07-25T18:01:14.139Z"
   },
   {
    "duration": 80,
    "start_time": "2023-07-25T18:01:14.145Z"
   },
   {
    "duration": 12,
    "start_time": "2023-07-25T18:01:14.226Z"
   },
   {
    "duration": 8,
    "start_time": "2023-07-25T18:01:14.240Z"
   },
   {
    "duration": 23,
    "start_time": "2023-07-25T18:01:14.250Z"
   },
   {
    "duration": 16,
    "start_time": "2023-07-25T18:01:14.275Z"
   },
   {
    "duration": 22,
    "start_time": "2023-07-25T18:01:14.292Z"
   },
   {
    "duration": 28,
    "start_time": "2023-07-25T18:01:14.315Z"
   },
   {
    "duration": 25,
    "start_time": "2023-07-25T18:01:14.345Z"
   },
   {
    "duration": 32,
    "start_time": "2023-07-25T18:01:14.372Z"
   },
   {
    "duration": 65,
    "start_time": "2023-07-25T18:01:14.406Z"
   },
   {
    "duration": 17,
    "start_time": "2023-07-25T18:01:14.474Z"
   },
   {
    "duration": 24,
    "start_time": "2023-07-25T18:01:14.493Z"
   },
   {
    "duration": 21,
    "start_time": "2023-07-25T18:01:14.520Z"
   },
   {
    "duration": 22,
    "start_time": "2023-07-25T18:01:14.542Z"
   },
   {
    "duration": 19,
    "start_time": "2023-07-25T18:01:14.566Z"
   },
   {
    "duration": 9,
    "start_time": "2023-07-25T18:01:14.587Z"
   },
   {
    "duration": 4,
    "start_time": "2023-07-25T18:01:14.600Z"
   },
   {
    "duration": 16,
    "start_time": "2023-07-25T18:01:14.606Z"
   },
   {
    "duration": 18,
    "start_time": "2023-07-25T18:01:14.624Z"
   },
   {
    "duration": 17,
    "start_time": "2023-07-25T18:01:14.644Z"
   },
   {
    "duration": 31,
    "start_time": "2023-07-25T18:01:14.663Z"
   },
   {
    "duration": 50,
    "start_time": "2023-07-25T18:01:14.696Z"
   },
   {
    "duration": 18,
    "start_time": "2023-07-25T18:01:14.748Z"
   },
   {
    "duration": 21,
    "start_time": "2023-07-25T18:01:14.767Z"
   },
   {
    "duration": 1112,
    "start_time": "2023-07-25T18:01:14.791Z"
   },
   {
    "duration": 4,
    "start_time": "2023-07-25T18:01:15.904Z"
   },
   {
    "duration": 83,
    "start_time": "2023-07-25T18:01:15.910Z"
   },
   {
    "duration": 4,
    "start_time": "2023-07-25T18:01:15.995Z"
   },
   {
    "duration": 490,
    "start_time": "2023-07-25T18:01:16.001Z"
   },
   {
    "duration": 90,
    "start_time": "2023-07-25T18:01:16.499Z"
   },
   {
    "duration": 165,
    "start_time": "2023-07-25T18:01:16.595Z"
   },
   {
    "duration": 13,
    "start_time": "2023-07-25T18:01:16.762Z"
   },
   {
    "duration": 1003,
    "start_time": "2023-07-25T18:01:16.778Z"
   },
   {
    "duration": 4,
    "start_time": "2023-07-25T18:01:17.784Z"
   },
   {
    "duration": 234,
    "start_time": "2023-07-25T18:01:17.790Z"
   },
   {
    "duration": 0,
    "start_time": "2023-07-25T18:01:18.026Z"
   },
   {
    "duration": 0,
    "start_time": "2023-07-25T18:01:18.028Z"
   },
   {
    "duration": 172,
    "start_time": "2023-07-25T18:02:33.136Z"
   },
   {
    "duration": 119,
    "start_time": "2023-07-25T18:04:27.042Z"
   },
   {
    "duration": 132,
    "start_time": "2023-07-25T18:05:04.355Z"
   },
   {
    "duration": 178,
    "start_time": "2023-07-25T18:06:03.976Z"
   },
   {
    "duration": 158,
    "start_time": "2023-07-25T18:07:26.760Z"
   },
   {
    "duration": 208,
    "start_time": "2023-07-25T18:07:38.121Z"
   },
   {
    "duration": 308,
    "start_time": "2023-07-25T18:08:16.805Z"
   },
   {
    "duration": 300,
    "start_time": "2023-07-25T18:08:29.634Z"
   },
   {
    "duration": 281,
    "start_time": "2023-07-25T18:08:45.445Z"
   },
   {
    "duration": 296,
    "start_time": "2023-07-25T18:08:56.214Z"
   },
   {
    "duration": 304,
    "start_time": "2023-07-25T18:09:02.301Z"
   },
   {
    "duration": 3,
    "start_time": "2023-07-25T18:10:42.273Z"
   },
   {
    "duration": 125,
    "start_time": "2023-07-25T19:50:13.097Z"
   },
   {
    "duration": 1093,
    "start_time": "2023-07-25T19:50:20.698Z"
   },
   {
    "duration": 78,
    "start_time": "2023-07-25T19:50:21.793Z"
   },
   {
    "duration": 11,
    "start_time": "2023-07-25T19:50:21.872Z"
   },
   {
    "duration": 10,
    "start_time": "2023-07-25T19:50:21.884Z"
   },
   {
    "duration": 5,
    "start_time": "2023-07-25T19:50:21.896Z"
   },
   {
    "duration": 6,
    "start_time": "2023-07-25T19:50:21.902Z"
   },
   {
    "duration": 3,
    "start_time": "2023-07-25T19:50:21.909Z"
   },
   {
    "duration": 6,
    "start_time": "2023-07-25T19:50:21.913Z"
   },
   {
    "duration": 4,
    "start_time": "2023-07-25T19:50:21.920Z"
   },
   {
    "duration": 11,
    "start_time": "2023-07-25T19:50:21.926Z"
   },
   {
    "duration": 38,
    "start_time": "2023-07-25T19:50:21.938Z"
   },
   {
    "duration": 11,
    "start_time": "2023-07-25T19:50:22.000Z"
   },
   {
    "duration": 11,
    "start_time": "2023-07-25T19:50:22.012Z"
   },
   {
    "duration": 8,
    "start_time": "2023-07-25T19:50:22.026Z"
   },
   {
    "duration": 9,
    "start_time": "2023-07-25T19:50:22.035Z"
   },
   {
    "duration": 6,
    "start_time": "2023-07-25T19:50:22.045Z"
   },
   {
    "duration": 6,
    "start_time": "2023-07-25T19:50:22.053Z"
   },
   {
    "duration": 3,
    "start_time": "2023-07-25T19:50:22.060Z"
   },
   {
    "duration": 6,
    "start_time": "2023-07-25T19:50:22.065Z"
   },
   {
    "duration": 7,
    "start_time": "2023-07-25T19:50:22.100Z"
   },
   {
    "duration": 8,
    "start_time": "2023-07-25T19:50:22.108Z"
   },
   {
    "duration": 9,
    "start_time": "2023-07-25T19:50:22.117Z"
   },
   {
    "duration": 21,
    "start_time": "2023-07-25T19:50:22.128Z"
   },
   {
    "duration": 15,
    "start_time": "2023-07-25T19:50:22.151Z"
   },
   {
    "duration": 33,
    "start_time": "2023-07-25T19:50:22.167Z"
   },
   {
    "duration": 945,
    "start_time": "2023-07-25T19:50:22.201Z"
   },
   {
    "duration": 4,
    "start_time": "2023-07-25T19:50:23.148Z"
   },
   {
    "duration": 61,
    "start_time": "2023-07-25T19:50:23.154Z"
   },
   {
    "duration": 3,
    "start_time": "2023-07-25T19:50:23.217Z"
   },
   {
    "duration": 87,
    "start_time": "2023-07-25T19:50:23.221Z"
   },
   {
    "duration": 194,
    "start_time": "2023-07-25T19:50:23.310Z"
   },
   {
    "duration": 482,
    "start_time": "2023-07-25T19:50:23.506Z"
   },
   {
    "duration": 11,
    "start_time": "2023-07-25T19:50:23.990Z"
   },
   {
    "duration": 307,
    "start_time": "2023-07-25T19:50:24.002Z"
   },
   {
    "duration": 2,
    "start_time": "2023-07-25T19:50:24.400Z"
   },
   {
    "duration": 120,
    "start_time": "2023-07-25T19:50:24.403Z"
   },
   {
    "duration": 112,
    "start_time": "2023-07-25T19:50:24.524Z"
   },
   {
    "duration": 242,
    "start_time": "2023-07-25T19:50:24.637Z"
   },
   {
    "duration": 2,
    "start_time": "2023-07-25T19:50:24.881Z"
   },
   {
    "duration": 2,
    "start_time": "2023-07-25T20:00:49.463Z"
   },
   {
    "duration": 1278,
    "start_time": "2023-07-25T20:01:12.016Z"
   },
   {
    "duration": 40,
    "start_time": "2023-07-25T20:01:13.296Z"
   },
   {
    "duration": 12,
    "start_time": "2023-07-25T20:01:13.337Z"
   },
   {
    "duration": 13,
    "start_time": "2023-07-25T20:01:13.350Z"
   },
   {
    "duration": 6,
    "start_time": "2023-07-25T20:01:13.364Z"
   },
   {
    "duration": 8,
    "start_time": "2023-07-25T20:01:13.371Z"
   },
   {
    "duration": 3,
    "start_time": "2023-07-25T20:01:13.381Z"
   },
   {
    "duration": 6,
    "start_time": "2023-07-25T20:01:13.386Z"
   },
   {
    "duration": 4,
    "start_time": "2023-07-25T20:01:13.393Z"
   },
   {
    "duration": 11,
    "start_time": "2023-07-25T20:01:13.398Z"
   },
   {
    "duration": 36,
    "start_time": "2023-07-25T20:01:13.410Z"
   },
   {
    "duration": 10,
    "start_time": "2023-07-25T20:01:13.447Z"
   },
   {
    "duration": 12,
    "start_time": "2023-07-25T20:01:13.458Z"
   },
   {
    "duration": 34,
    "start_time": "2023-07-25T20:01:13.472Z"
   },
   {
    "duration": 9,
    "start_time": "2023-07-25T20:01:13.507Z"
   },
   {
    "duration": 11,
    "start_time": "2023-07-25T20:01:13.517Z"
   },
   {
    "duration": 5,
    "start_time": "2023-07-25T20:01:13.529Z"
   },
   {
    "duration": 3,
    "start_time": "2023-07-25T20:01:13.535Z"
   },
   {
    "duration": 8,
    "start_time": "2023-07-25T20:01:13.539Z"
   },
   {
    "duration": 6,
    "start_time": "2023-07-25T20:01:13.548Z"
   },
   {
    "duration": 8,
    "start_time": "2023-07-25T20:01:13.555Z"
   },
   {
    "duration": 17,
    "start_time": "2023-07-25T20:01:13.564Z"
   },
   {
    "duration": 26,
    "start_time": "2023-07-25T20:01:13.582Z"
   },
   {
    "duration": 15,
    "start_time": "2023-07-25T20:01:13.609Z"
   },
   {
    "duration": 15,
    "start_time": "2023-07-25T20:01:13.625Z"
   },
   {
    "duration": 995,
    "start_time": "2023-07-25T20:01:13.642Z"
   },
   {
    "duration": 3,
    "start_time": "2023-07-25T20:01:14.639Z"
   },
   {
    "duration": 64,
    "start_time": "2023-07-25T20:01:14.643Z"
   },
   {
    "duration": 3,
    "start_time": "2023-07-25T20:01:14.708Z"
   },
   {
    "duration": 97,
    "start_time": "2023-07-25T20:01:14.712Z"
   },
   {
    "duration": 101,
    "start_time": "2023-07-25T20:01:14.901Z"
   },
   {
    "duration": 439,
    "start_time": "2023-07-25T20:01:15.003Z"
   },
   {
    "duration": 5,
    "start_time": "2023-07-25T20:01:15.443Z"
   },
   {
    "duration": 261,
    "start_time": "2023-07-25T20:01:15.450Z"
   },
   {
    "duration": 3,
    "start_time": "2023-07-25T20:01:15.800Z"
   },
   {
    "duration": 127,
    "start_time": "2023-07-25T20:01:15.804Z"
   },
   {
    "duration": 153,
    "start_time": "2023-07-25T20:01:15.933Z"
   },
   {
    "duration": 295,
    "start_time": "2023-07-25T20:01:16.087Z"
   },
   {
    "duration": 3,
    "start_time": "2023-07-25T20:01:16.383Z"
   },
   {
    "duration": 14,
    "start_time": "2023-07-25T20:01:16.387Z"
   },
   {
    "duration": 1131,
    "start_time": "2023-07-25T20:04:38.802Z"
   },
   {
    "duration": 41,
    "start_time": "2023-07-25T20:04:39.935Z"
   },
   {
    "duration": 11,
    "start_time": "2023-07-25T20:04:39.978Z"
   },
   {
    "duration": 23,
    "start_time": "2023-07-25T20:04:39.991Z"
   },
   {
    "duration": 21,
    "start_time": "2023-07-25T20:04:40.016Z"
   },
   {
    "duration": 15,
    "start_time": "2023-07-25T20:04:40.038Z"
   },
   {
    "duration": 28,
    "start_time": "2023-07-25T20:04:40.055Z"
   },
   {
    "duration": 23,
    "start_time": "2023-07-25T20:04:40.084Z"
   },
   {
    "duration": 38,
    "start_time": "2023-07-25T20:04:40.108Z"
   },
   {
    "duration": 40,
    "start_time": "2023-07-25T20:04:40.148Z"
   },
   {
    "duration": 47,
    "start_time": "2023-07-25T20:04:40.189Z"
   },
   {
    "duration": 10,
    "start_time": "2023-07-25T20:04:40.238Z"
   },
   {
    "duration": 21,
    "start_time": "2023-07-25T20:04:40.250Z"
   },
   {
    "duration": 28,
    "start_time": "2023-07-25T20:04:40.274Z"
   },
   {
    "duration": 11,
    "start_time": "2023-07-25T20:04:40.304Z"
   },
   {
    "duration": 6,
    "start_time": "2023-07-25T20:04:40.317Z"
   },
   {
    "duration": 13,
    "start_time": "2023-07-25T20:04:40.324Z"
   },
   {
    "duration": 31,
    "start_time": "2023-07-25T20:04:40.338Z"
   },
   {
    "duration": 6,
    "start_time": "2023-07-25T20:04:40.370Z"
   },
   {
    "duration": 17,
    "start_time": "2023-07-25T20:04:40.378Z"
   },
   {
    "duration": 15,
    "start_time": "2023-07-25T20:04:40.397Z"
   },
   {
    "duration": 11,
    "start_time": "2023-07-25T20:04:40.413Z"
   },
   {
    "duration": 27,
    "start_time": "2023-07-25T20:04:40.425Z"
   },
   {
    "duration": 23,
    "start_time": "2023-07-25T20:04:40.453Z"
   },
   {
    "duration": 15,
    "start_time": "2023-07-25T20:04:40.478Z"
   },
   {
    "duration": 1036,
    "start_time": "2023-07-25T20:04:40.494Z"
   },
   {
    "duration": 4,
    "start_time": "2023-07-25T20:04:41.531Z"
   },
   {
    "duration": 77,
    "start_time": "2023-07-25T20:04:41.536Z"
   },
   {
    "duration": 3,
    "start_time": "2023-07-25T20:04:41.615Z"
   },
   {
    "duration": 181,
    "start_time": "2023-07-25T20:04:41.619Z"
   },
   {
    "duration": 6,
    "start_time": "2023-07-25T20:04:41.802Z"
   },
   {
    "duration": 472,
    "start_time": "2023-07-25T20:04:41.900Z"
   },
   {
    "duration": 5,
    "start_time": "2023-07-25T20:04:42.373Z"
   },
   {
    "duration": 328,
    "start_time": "2023-07-25T20:04:42.379Z"
   },
   {
    "duration": 2,
    "start_time": "2023-07-25T20:04:42.799Z"
   },
   {
    "duration": 132,
    "start_time": "2023-07-25T20:04:42.803Z"
   },
   {
    "duration": 131,
    "start_time": "2023-07-25T20:04:42.937Z"
   },
   {
    "duration": 252,
    "start_time": "2023-07-25T20:04:43.069Z"
   },
   {
    "duration": 2,
    "start_time": "2023-07-25T20:04:43.323Z"
   },
   {
    "duration": 26,
    "start_time": "2023-07-25T20:04:43.326Z"
   },
   {
    "duration": 181365,
    "start_time": "2023-07-25T20:04:43.355Z"
   },
   {
    "duration": 4,
    "start_time": "2023-07-25T20:10:02.449Z"
   },
   {
    "duration": 1035,
    "start_time": "2023-07-25T20:15:49.234Z"
   },
   {
    "duration": 40,
    "start_time": "2023-07-25T20:15:50.271Z"
   },
   {
    "duration": 12,
    "start_time": "2023-07-25T20:15:50.312Z"
   },
   {
    "duration": 14,
    "start_time": "2023-07-25T20:15:50.325Z"
   },
   {
    "duration": 11,
    "start_time": "2023-07-25T20:15:50.342Z"
   },
   {
    "duration": 17,
    "start_time": "2023-07-25T20:15:50.355Z"
   },
   {
    "duration": 15,
    "start_time": "2023-07-25T20:15:50.374Z"
   },
   {
    "duration": 17,
    "start_time": "2023-07-25T20:15:50.390Z"
   },
   {
    "duration": 14,
    "start_time": "2023-07-25T20:15:50.409Z"
   },
   {
    "duration": 16,
    "start_time": "2023-07-25T20:15:50.424Z"
   },
   {
    "duration": 38,
    "start_time": "2023-07-25T20:15:50.441Z"
   },
   {
    "duration": 9,
    "start_time": "2023-07-25T20:15:50.481Z"
   },
   {
    "duration": 16,
    "start_time": "2023-07-25T20:15:50.492Z"
   },
   {
    "duration": 16,
    "start_time": "2023-07-25T20:15:50.510Z"
   },
   {
    "duration": 19,
    "start_time": "2023-07-25T20:15:50.527Z"
   },
   {
    "duration": 19,
    "start_time": "2023-07-25T20:15:50.547Z"
   },
   {
    "duration": 13,
    "start_time": "2023-07-25T20:15:50.567Z"
   },
   {
    "duration": 22,
    "start_time": "2023-07-25T20:15:50.581Z"
   },
   {
    "duration": 20,
    "start_time": "2023-07-25T20:15:50.605Z"
   },
   {
    "duration": 21,
    "start_time": "2023-07-25T20:15:50.626Z"
   },
   {
    "duration": 24,
    "start_time": "2023-07-25T20:15:50.648Z"
   },
   {
    "duration": 42,
    "start_time": "2023-07-25T20:15:50.673Z"
   },
   {
    "duration": 17,
    "start_time": "2023-07-25T20:15:50.718Z"
   },
   {
    "duration": 15,
    "start_time": "2023-07-25T20:15:50.736Z"
   },
   {
    "duration": 14,
    "start_time": "2023-07-25T20:15:50.753Z"
   },
   {
    "duration": 944,
    "start_time": "2023-07-25T20:15:50.768Z"
   },
   {
    "duration": 4,
    "start_time": "2023-07-25T20:15:51.714Z"
   },
   {
    "duration": 62,
    "start_time": "2023-07-25T20:15:51.719Z"
   },
   {
    "duration": 3,
    "start_time": "2023-07-25T20:15:51.783Z"
   },
   {
    "duration": 116,
    "start_time": "2023-07-25T20:15:51.787Z"
   },
   {
    "duration": 197,
    "start_time": "2023-07-25T20:15:51.905Z"
   },
   {
    "duration": 372,
    "start_time": "2023-07-25T20:15:52.103Z"
   },
   {
    "duration": 4,
    "start_time": "2023-07-25T20:15:52.477Z"
   },
   {
    "duration": 218,
    "start_time": "2023-07-25T20:15:52.483Z"
   },
   {
    "duration": 2,
    "start_time": "2023-07-25T20:15:52.703Z"
   },
   {
    "duration": 205,
    "start_time": "2023-07-25T20:15:52.706Z"
   },
   {
    "duration": 113,
    "start_time": "2023-07-25T20:15:52.913Z"
   },
   {
    "duration": 273,
    "start_time": "2023-07-25T20:15:53.028Z"
   },
   {
    "duration": 2,
    "start_time": "2023-07-25T20:15:53.303Z"
   },
   {
    "duration": 13,
    "start_time": "2023-07-25T20:15:53.307Z"
   },
   {
    "duration": 65789,
    "start_time": "2023-07-25T20:15:53.323Z"
   },
   {
    "duration": 427,
    "start_time": "2023-07-25T20:16:59.114Z"
   },
   {
    "duration": 66343,
    "start_time": "2023-07-25T20:17:36.230Z"
   },
   {
    "duration": 5238,
    "start_time": "2023-07-25T20:19:03.348Z"
   },
   {
    "duration": 429,
    "start_time": "2023-07-25T20:19:39.833Z"
   },
   {
    "duration": 422,
    "start_time": "2023-07-25T20:20:50.568Z"
   },
   {
    "duration": 430,
    "start_time": "2023-07-25T20:20:59.153Z"
   },
   {
    "duration": 145,
    "start_time": "2023-07-25T20:21:08.444Z"
   },
   {
    "duration": 5,
    "start_time": "2023-07-25T20:28:48.406Z"
   },
   {
    "duration": 259,
    "start_time": "2023-07-25T20:29:08.509Z"
   },
   {
    "duration": 286,
    "start_time": "2023-07-25T20:29:49.640Z"
   },
   {
    "duration": 3,
    "start_time": "2023-07-25T20:31:04.002Z"
   },
   {
    "duration": 64,
    "start_time": "2023-07-25T20:31:04.007Z"
   },
   {
    "duration": 11,
    "start_time": "2023-07-25T20:31:04.073Z"
   },
   {
    "duration": 20,
    "start_time": "2023-07-25T20:31:04.086Z"
   },
   {
    "duration": 16,
    "start_time": "2023-07-25T20:31:04.108Z"
   },
   {
    "duration": 18,
    "start_time": "2023-07-25T20:31:04.125Z"
   },
   {
    "duration": 13,
    "start_time": "2023-07-25T20:31:04.144Z"
   },
   {
    "duration": 10,
    "start_time": "2023-07-25T20:31:04.159Z"
   },
   {
    "duration": 5,
    "start_time": "2023-07-25T20:31:04.170Z"
   },
   {
    "duration": 21,
    "start_time": "2023-07-25T20:31:04.176Z"
   },
   {
    "duration": 37,
    "start_time": "2023-07-25T20:31:04.198Z"
   },
   {
    "duration": 11,
    "start_time": "2023-07-25T20:31:04.236Z"
   },
   {
    "duration": 38,
    "start_time": "2023-07-25T20:31:04.248Z"
   },
   {
    "duration": 22,
    "start_time": "2023-07-25T20:31:04.289Z"
   },
   {
    "duration": 16,
    "start_time": "2023-07-25T20:31:04.313Z"
   },
   {
    "duration": 20,
    "start_time": "2023-07-25T20:31:04.330Z"
   },
   {
    "duration": 18,
    "start_time": "2023-07-25T20:31:04.351Z"
   },
   {
    "duration": 16,
    "start_time": "2023-07-25T20:31:04.370Z"
   },
   {
    "duration": 25,
    "start_time": "2023-07-25T20:31:04.387Z"
   },
   {
    "duration": 8,
    "start_time": "2023-07-25T20:31:04.413Z"
   },
   {
    "duration": 40,
    "start_time": "2023-07-25T20:31:04.422Z"
   },
   {
    "duration": 22,
    "start_time": "2023-07-25T20:31:04.463Z"
   },
   {
    "duration": 38,
    "start_time": "2023-07-25T20:31:04.486Z"
   },
   {
    "duration": 14,
    "start_time": "2023-07-25T20:31:04.525Z"
   },
   {
    "duration": 13,
    "start_time": "2023-07-25T20:31:04.540Z"
   },
   {
    "duration": 984,
    "start_time": "2023-07-25T20:31:04.554Z"
   },
   {
    "duration": 4,
    "start_time": "2023-07-25T20:31:05.539Z"
   },
   {
    "duration": 64,
    "start_time": "2023-07-25T20:31:05.544Z"
   },
   {
    "duration": 3,
    "start_time": "2023-07-25T20:31:05.610Z"
   },
   {
    "duration": 95,
    "start_time": "2023-07-25T20:31:05.614Z"
   },
   {
    "duration": 100,
    "start_time": "2023-07-25T20:31:05.800Z"
   },
   {
    "duration": 118,
    "start_time": "2023-07-25T20:31:05.902Z"
   },
   {
    "duration": 6,
    "start_time": "2023-07-25T20:31:06.022Z"
   },
   {
    "duration": 277,
    "start_time": "2023-07-25T20:31:06.030Z"
   },
   {
    "duration": 90,
    "start_time": "2023-07-25T20:31:06.309Z"
   },
   {
    "duration": 142,
    "start_time": "2023-07-25T20:31:06.401Z"
   },
   {
    "duration": 116,
    "start_time": "2023-07-25T20:31:06.544Z"
   },
   {
    "duration": 228,
    "start_time": "2023-07-25T20:31:06.661Z"
   },
   {
    "duration": 10,
    "start_time": "2023-07-25T20:31:06.890Z"
   },
   {
    "duration": 13,
    "start_time": "2023-07-25T20:31:06.903Z"
   },
   {
    "duration": 4993,
    "start_time": "2023-07-25T20:31:06.920Z"
   },
   {
    "duration": 278,
    "start_time": "2023-07-25T20:31:11.915Z"
   },
   {
    "duration": 151,
    "start_time": "2023-07-25T20:31:12.195Z"
   },
   {
    "duration": 63,
    "start_time": "2023-07-25T20:31:12.347Z"
   },
   {
    "duration": 21529,
    "start_time": "2023-07-25T20:32:50.621Z"
   },
   {
    "duration": 595,
    "start_time": "2023-07-25T20:33:21.530Z"
   },
   {
    "duration": 35,
    "start_time": "2023-07-25T20:36:07.194Z"
   },
   {
    "duration": 182,
    "start_time": "2023-07-25T20:39:32.718Z"
   },
   {
    "duration": 92,
    "start_time": "2023-07-25T20:51:12.745Z"
   },
   {
    "duration": 4,
    "start_time": "2023-07-25T20:52:30.046Z"
   },
   {
    "duration": 4,
    "start_time": "2023-07-25T20:52:38.154Z"
   },
   {
    "duration": 53,
    "start_time": "2023-07-25T20:52:38.160Z"
   },
   {
    "duration": 11,
    "start_time": "2023-07-25T20:52:38.214Z"
   },
   {
    "duration": 13,
    "start_time": "2023-07-25T20:52:38.226Z"
   },
   {
    "duration": 4,
    "start_time": "2023-07-25T20:52:38.241Z"
   },
   {
    "duration": 7,
    "start_time": "2023-07-25T20:52:38.247Z"
   },
   {
    "duration": 7,
    "start_time": "2023-07-25T20:52:38.255Z"
   },
   {
    "duration": 11,
    "start_time": "2023-07-25T20:52:38.263Z"
   },
   {
    "duration": 42,
    "start_time": "2023-07-25T20:52:38.275Z"
   },
   {
    "duration": 20,
    "start_time": "2023-07-25T20:52:38.319Z"
   },
   {
    "duration": 39,
    "start_time": "2023-07-25T20:52:38.341Z"
   },
   {
    "duration": 10,
    "start_time": "2023-07-25T20:52:38.381Z"
   },
   {
    "duration": 20,
    "start_time": "2023-07-25T20:52:38.393Z"
   },
   {
    "duration": 14,
    "start_time": "2023-07-25T20:52:38.414Z"
   },
   {
    "duration": 12,
    "start_time": "2023-07-25T20:52:38.430Z"
   },
   {
    "duration": 6,
    "start_time": "2023-07-25T20:52:38.444Z"
   },
   {
    "duration": 8,
    "start_time": "2023-07-25T20:52:38.452Z"
   },
   {
    "duration": 11,
    "start_time": "2023-07-25T20:52:38.461Z"
   },
   {
    "duration": 11,
    "start_time": "2023-07-25T20:52:38.474Z"
   },
   {
    "duration": 25,
    "start_time": "2023-07-25T20:52:38.486Z"
   },
   {
    "duration": 3,
    "start_time": "2023-07-25T20:52:38.512Z"
   },
   {
    "duration": 8,
    "start_time": "2023-07-25T20:52:38.517Z"
   },
   {
    "duration": 20,
    "start_time": "2023-07-25T20:52:38.527Z"
   },
   {
    "duration": 17,
    "start_time": "2023-07-25T20:52:38.551Z"
   },
   {
    "duration": 34,
    "start_time": "2023-07-25T20:52:38.569Z"
   },
   {
    "duration": 1091,
    "start_time": "2023-07-25T20:52:38.605Z"
   },
   {
    "duration": 4,
    "start_time": "2023-07-25T20:52:39.698Z"
   },
   {
    "duration": 60,
    "start_time": "2023-07-25T20:52:39.704Z"
   },
   {
    "duration": 3,
    "start_time": "2023-07-25T20:52:39.766Z"
   },
   {
    "duration": 133,
    "start_time": "2023-07-25T20:52:39.771Z"
   },
   {
    "duration": 96,
    "start_time": "2023-07-25T20:52:39.906Z"
   },
   {
    "duration": 200,
    "start_time": "2023-07-25T20:52:40.004Z"
   },
   {
    "duration": 6,
    "start_time": "2023-07-25T20:52:40.205Z"
   },
   {
    "duration": 387,
    "start_time": "2023-07-25T20:52:40.212Z"
   },
   {
    "duration": 3,
    "start_time": "2023-07-25T20:52:40.601Z"
   },
   {
    "duration": 139,
    "start_time": "2023-07-25T20:52:40.605Z"
   },
   {
    "duration": 125,
    "start_time": "2023-07-25T20:52:40.746Z"
   },
   {
    "duration": 385,
    "start_time": "2023-07-25T20:52:40.873Z"
   },
   {
    "duration": 2,
    "start_time": "2023-07-25T20:52:41.259Z"
   },
   {
    "duration": 12,
    "start_time": "2023-07-25T20:52:41.263Z"
   },
   {
    "duration": 22463,
    "start_time": "2023-07-25T20:52:41.276Z"
   },
   {
    "duration": 660,
    "start_time": "2023-07-25T20:53:03.740Z"
   },
   {
    "duration": 166,
    "start_time": "2023-07-25T20:53:04.402Z"
   },
   {
    "duration": 43,
    "start_time": "2023-07-25T20:53:04.570Z"
   },
   {
    "duration": 190,
    "start_time": "2023-07-25T20:53:04.614Z"
   },
   {
    "duration": 201,
    "start_time": "2023-07-25T20:53:04.806Z"
   },
   {
    "duration": 13,
    "start_time": "2023-07-25T20:56:44.110Z"
   },
   {
    "duration": 12,
    "start_time": "2023-07-25T20:58:51.398Z"
   },
   {
    "duration": 13,
    "start_time": "2023-07-25T20:58:57.010Z"
   },
   {
    "duration": 13,
    "start_time": "2023-07-25T20:59:47.453Z"
   },
   {
    "duration": 1071,
    "start_time": "2023-07-25T21:00:03.704Z"
   },
   {
    "duration": 42,
    "start_time": "2023-07-25T21:00:04.777Z"
   },
   {
    "duration": 22,
    "start_time": "2023-07-25T21:00:04.820Z"
   },
   {
    "duration": 36,
    "start_time": "2023-07-25T21:00:04.844Z"
   },
   {
    "duration": 42,
    "start_time": "2023-07-25T21:00:04.882Z"
   },
   {
    "duration": 10,
    "start_time": "2023-07-25T21:00:04.926Z"
   },
   {
    "duration": 14,
    "start_time": "2023-07-25T21:00:04.937Z"
   },
   {
    "duration": 32,
    "start_time": "2023-07-25T21:00:04.953Z"
   },
   {
    "duration": 13,
    "start_time": "2023-07-25T21:00:04.986Z"
   },
   {
    "duration": 40,
    "start_time": "2023-07-25T21:00:05.001Z"
   },
   {
    "duration": 77,
    "start_time": "2023-07-25T21:00:05.042Z"
   },
   {
    "duration": 10,
    "start_time": "2023-07-25T21:00:05.121Z"
   },
   {
    "duration": 19,
    "start_time": "2023-07-25T21:00:05.132Z"
   },
   {
    "duration": 22,
    "start_time": "2023-07-25T21:00:05.153Z"
   },
   {
    "duration": 14,
    "start_time": "2023-07-25T21:00:05.177Z"
   },
   {
    "duration": 21,
    "start_time": "2023-07-25T21:00:05.192Z"
   },
   {
    "duration": 25,
    "start_time": "2023-07-25T21:00:05.215Z"
   },
   {
    "duration": 7,
    "start_time": "2023-07-25T21:00:05.242Z"
   },
   {
    "duration": 23,
    "start_time": "2023-07-25T21:00:05.251Z"
   },
   {
    "duration": 32,
    "start_time": "2023-07-25T21:00:05.275Z"
   },
   {
    "duration": 11,
    "start_time": "2023-07-25T21:00:05.308Z"
   },
   {
    "duration": 38,
    "start_time": "2023-07-25T21:00:05.320Z"
   },
   {
    "duration": 33,
    "start_time": "2023-07-25T21:00:05.359Z"
   },
   {
    "duration": 21,
    "start_time": "2023-07-25T21:00:05.393Z"
   },
   {
    "duration": 38,
    "start_time": "2023-07-25T21:00:05.415Z"
   },
   {
    "duration": 1033,
    "start_time": "2023-07-25T21:00:05.454Z"
   },
   {
    "duration": 4,
    "start_time": "2023-07-25T21:00:06.489Z"
   },
   {
    "duration": 60,
    "start_time": "2023-07-25T21:00:06.499Z"
   },
   {
    "duration": 3,
    "start_time": "2023-07-25T21:00:06.561Z"
   },
   {
    "duration": 138,
    "start_time": "2023-07-25T21:00:06.565Z"
   },
   {
    "duration": 197,
    "start_time": "2023-07-25T21:00:06.705Z"
   },
   {
    "duration": 5626,
    "start_time": "2023-07-25T21:00:06.903Z"
   },
   {
    "duration": 4,
    "start_time": "2023-07-25T21:00:12.530Z"
   },
   {
    "duration": 266,
    "start_time": "2023-07-25T21:00:12.535Z"
   },
   {
    "duration": 5,
    "start_time": "2023-07-25T21:00:12.802Z"
   },
   {
    "duration": 216,
    "start_time": "2023-07-25T21:00:12.808Z"
   },
   {
    "duration": 111,
    "start_time": "2023-07-25T21:00:13.026Z"
   },
   {
    "duration": 269,
    "start_time": "2023-07-25T21:00:13.138Z"
   },
   {
    "duration": 2,
    "start_time": "2023-07-25T21:00:13.409Z"
   },
   {
    "duration": 18,
    "start_time": "2023-07-25T21:00:13.412Z"
   },
   {
    "duration": 22234,
    "start_time": "2023-07-25T21:00:13.433Z"
   },
   {
    "duration": 704,
    "start_time": "2023-07-25T21:00:35.669Z"
   },
   {
    "duration": 167,
    "start_time": "2023-07-25T21:00:36.375Z"
   },
   {
    "duration": 40,
    "start_time": "2023-07-25T21:00:36.543Z"
   },
   {
    "duration": 316,
    "start_time": "2023-07-25T21:00:36.584Z"
   },
   {
    "duration": 120,
    "start_time": "2023-07-25T21:00:36.904Z"
   },
   {
    "duration": 35632,
    "start_time": "2023-07-25T21:01:38.846Z"
   },
   {
    "duration": 1036,
    "start_time": "2023-07-25T21:02:37.518Z"
   },
   {
    "duration": 244,
    "start_time": "2023-07-25T21:03:49.251Z"
   },
   {
    "duration": 47,
    "start_time": "2023-07-25T21:04:15.272Z"
   },
   {
    "duration": 118,
    "start_time": "2023-07-25T21:04:54.182Z"
   },
   {
    "duration": 126,
    "start_time": "2023-07-25T21:10:04.873Z"
   },
   {
    "duration": 2,
    "start_time": "2023-07-25T21:13:23.663Z"
   },
   {
    "duration": 2,
    "start_time": "2023-07-25T21:14:20.506Z"
   },
   {
    "duration": 107,
    "start_time": "2023-07-25T21:19:48.453Z"
   },
   {
    "duration": 10,
    "start_time": "2023-07-25T21:21:46.656Z"
   },
   {
    "duration": 10,
    "start_time": "2023-07-25T21:23:12.506Z"
   },
   {
    "duration": 84,
    "start_time": "2023-07-25T21:24:27.934Z"
   },
   {
    "duration": 11,
    "start_time": "2023-07-25T21:25:06.051Z"
   },
   {
    "duration": 4,
    "start_time": "2023-07-25T21:25:57.731Z"
   },
   {
    "duration": 66,
    "start_time": "2023-07-25T21:25:57.736Z"
   },
   {
    "duration": 12,
    "start_time": "2023-07-25T21:25:57.804Z"
   },
   {
    "duration": 14,
    "start_time": "2023-07-25T21:25:57.817Z"
   },
   {
    "duration": 15,
    "start_time": "2023-07-25T21:25:57.832Z"
   },
   {
    "duration": 15,
    "start_time": "2023-07-25T21:25:57.848Z"
   },
   {
    "duration": 7,
    "start_time": "2023-07-25T21:25:57.864Z"
   },
   {
    "duration": 9,
    "start_time": "2023-07-25T21:25:57.872Z"
   },
   {
    "duration": 11,
    "start_time": "2023-07-25T21:25:57.883Z"
   },
   {
    "duration": 21,
    "start_time": "2023-07-25T21:25:57.895Z"
   },
   {
    "duration": 37,
    "start_time": "2023-07-25T21:25:57.919Z"
   },
   {
    "duration": 10,
    "start_time": "2023-07-25T21:25:57.958Z"
   },
   {
    "duration": 22,
    "start_time": "2023-07-25T21:25:57.969Z"
   },
   {
    "duration": 13,
    "start_time": "2023-07-25T21:25:57.992Z"
   },
   {
    "duration": 8,
    "start_time": "2023-07-25T21:25:58.006Z"
   },
   {
    "duration": 6,
    "start_time": "2023-07-25T21:25:58.016Z"
   },
   {
    "duration": 6,
    "start_time": "2023-07-25T21:25:58.023Z"
   },
   {
    "duration": 12,
    "start_time": "2023-07-25T21:25:58.030Z"
   },
   {
    "duration": 10,
    "start_time": "2023-07-25T21:25:58.043Z"
   },
   {
    "duration": 7,
    "start_time": "2023-07-25T21:25:58.054Z"
   },
   {
    "duration": 16,
    "start_time": "2023-07-25T21:25:58.063Z"
   },
   {
    "duration": 10,
    "start_time": "2023-07-25T21:25:58.080Z"
   },
   {
    "duration": 17,
    "start_time": "2023-07-25T21:25:58.091Z"
   },
   {
    "duration": 19,
    "start_time": "2023-07-25T21:25:58.109Z"
   },
   {
    "duration": 16,
    "start_time": "2023-07-25T21:25:58.129Z"
   },
   {
    "duration": 987,
    "start_time": "2023-07-25T21:25:58.147Z"
   },
   {
    "duration": 4,
    "start_time": "2023-07-25T21:25:59.136Z"
   },
   {
    "duration": 71,
    "start_time": "2023-07-25T21:25:59.141Z"
   },
   {
    "duration": 3,
    "start_time": "2023-07-25T21:25:59.215Z"
   },
   {
    "duration": 181,
    "start_time": "2023-07-25T21:25:59.219Z"
   },
   {
    "duration": 102,
    "start_time": "2023-07-25T21:25:59.401Z"
   },
   {
    "duration": 125,
    "start_time": "2023-07-25T21:25:59.505Z"
   },
   {
    "duration": 5,
    "start_time": "2023-07-25T21:25:59.631Z"
   },
   {
    "duration": 268,
    "start_time": "2023-07-25T21:25:59.637Z"
   },
   {
    "duration": 93,
    "start_time": "2023-07-25T21:25:59.908Z"
   },
   {
    "duration": 144,
    "start_time": "2023-07-25T21:26:00.002Z"
   },
   {
    "duration": 112,
    "start_time": "2023-07-25T21:26:00.147Z"
   },
   {
    "duration": 227,
    "start_time": "2023-07-25T21:26:00.260Z"
   },
   {
    "duration": 12,
    "start_time": "2023-07-25T21:26:00.488Z"
   },
   {
    "duration": 41,
    "start_time": "2023-07-25T21:26:00.502Z"
   },
   {
    "duration": 21940,
    "start_time": "2023-07-25T21:26:00.545Z"
   },
   {
    "duration": 603,
    "start_time": "2023-07-25T21:26:22.486Z"
   },
   {
    "duration": 149,
    "start_time": "2023-07-25T21:26:23.091Z"
   },
   {
    "duration": 34,
    "start_time": "2023-07-25T21:26:23.241Z"
   },
   {
    "duration": 4,
    "start_time": "2023-07-25T21:26:23.276Z"
   },
   {
    "duration": 0,
    "start_time": "2023-07-25T21:26:23.281Z"
   },
   {
    "duration": 0,
    "start_time": "2023-07-25T21:26:23.300Z"
   },
   {
    "duration": 0,
    "start_time": "2023-07-25T21:26:23.300Z"
   },
   {
    "duration": 1,
    "start_time": "2023-07-25T21:26:23.301Z"
   },
   {
    "duration": 0,
    "start_time": "2023-07-25T21:26:23.302Z"
   },
   {
    "duration": 0,
    "start_time": "2023-07-25T21:26:23.303Z"
   },
   {
    "duration": 0,
    "start_time": "2023-07-25T21:26:23.304Z"
   },
   {
    "duration": 4,
    "start_time": "2023-07-25T21:26:39.815Z"
   },
   {
    "duration": 41,
    "start_time": "2023-07-25T21:26:39.821Z"
   },
   {
    "duration": 10,
    "start_time": "2023-07-25T21:26:39.863Z"
   },
   {
    "duration": 5,
    "start_time": "2023-07-25T21:26:39.875Z"
   },
   {
    "duration": 12,
    "start_time": "2023-07-25T21:26:39.882Z"
   },
   {
    "duration": 5,
    "start_time": "2023-07-25T21:26:39.895Z"
   },
   {
    "duration": 3,
    "start_time": "2023-07-25T21:26:39.902Z"
   },
   {
    "duration": 7,
    "start_time": "2023-07-25T21:26:39.906Z"
   },
   {
    "duration": 3,
    "start_time": "2023-07-25T21:26:39.915Z"
   },
   {
    "duration": 11,
    "start_time": "2023-07-25T21:26:39.919Z"
   },
   {
    "duration": 37,
    "start_time": "2023-07-25T21:26:39.931Z"
   },
   {
    "duration": 32,
    "start_time": "2023-07-25T21:26:39.969Z"
   },
   {
    "duration": 16,
    "start_time": "2023-07-25T21:26:40.003Z"
   },
   {
    "duration": 20,
    "start_time": "2023-07-25T21:26:40.020Z"
   },
   {
    "duration": 21,
    "start_time": "2023-07-25T21:26:40.041Z"
   },
   {
    "duration": 21,
    "start_time": "2023-07-25T21:26:40.063Z"
   },
   {
    "duration": 9,
    "start_time": "2023-07-25T21:26:40.086Z"
   },
   {
    "duration": 3,
    "start_time": "2023-07-25T21:26:40.097Z"
   },
   {
    "duration": 27,
    "start_time": "2023-07-25T21:26:40.101Z"
   },
   {
    "duration": 23,
    "start_time": "2023-07-25T21:26:40.130Z"
   },
   {
    "duration": 9,
    "start_time": "2023-07-25T21:26:40.154Z"
   },
   {
    "duration": 17,
    "start_time": "2023-07-25T21:26:40.164Z"
   },
   {
    "duration": 26,
    "start_time": "2023-07-25T21:26:40.182Z"
   },
   {
    "duration": 15,
    "start_time": "2023-07-25T21:26:40.209Z"
   },
   {
    "duration": 20,
    "start_time": "2023-07-25T21:26:40.225Z"
   },
   {
    "duration": 955,
    "start_time": "2023-07-25T21:26:40.247Z"
   },
   {
    "duration": 3,
    "start_time": "2023-07-25T21:26:41.203Z"
   },
   {
    "duration": 69,
    "start_time": "2023-07-25T21:26:41.207Z"
   },
   {
    "duration": 3,
    "start_time": "2023-07-25T21:26:41.277Z"
   },
   {
    "duration": 121,
    "start_time": "2023-07-25T21:26:41.282Z"
   },
   {
    "duration": 97,
    "start_time": "2023-07-25T21:26:41.407Z"
   },
   {
    "duration": 195,
    "start_time": "2023-07-25T21:26:41.506Z"
   },
   {
    "duration": 4,
    "start_time": "2023-07-25T21:26:41.703Z"
   },
   {
    "duration": 396,
    "start_time": "2023-07-25T21:26:41.708Z"
   },
   {
    "duration": 94,
    "start_time": "2023-07-25T21:26:42.106Z"
   },
   {
    "duration": 154,
    "start_time": "2023-07-25T21:26:42.201Z"
   },
   {
    "duration": 116,
    "start_time": "2023-07-25T21:26:42.357Z"
   },
   {
    "duration": 269,
    "start_time": "2023-07-25T21:26:42.475Z"
   },
   {
    "duration": 3,
    "start_time": "2023-07-25T21:26:42.746Z"
   },
   {
    "duration": 13,
    "start_time": "2023-07-25T21:26:42.750Z"
   },
   {
    "duration": 21671,
    "start_time": "2023-07-25T21:26:42.764Z"
   },
   {
    "duration": 591,
    "start_time": "2023-07-25T21:27:04.436Z"
   },
   {
    "duration": 152,
    "start_time": "2023-07-25T21:27:05.029Z"
   },
   {
    "duration": 41,
    "start_time": "2023-07-25T21:27:05.182Z"
   },
   {
    "duration": 6,
    "start_time": "2023-07-25T21:27:05.225Z"
   },
   {
    "duration": 0,
    "start_time": "2023-07-25T21:27:05.232Z"
   },
   {
    "duration": 0,
    "start_time": "2023-07-25T21:27:05.234Z"
   },
   {
    "duration": 0,
    "start_time": "2023-07-25T21:27:05.235Z"
   },
   {
    "duration": 0,
    "start_time": "2023-07-25T21:27:05.236Z"
   },
   {
    "duration": 0,
    "start_time": "2023-07-25T21:27:05.237Z"
   },
   {
    "duration": 0,
    "start_time": "2023-07-25T21:27:05.239Z"
   },
   {
    "duration": 0,
    "start_time": "2023-07-25T21:27:05.240Z"
   },
   {
    "duration": 10,
    "start_time": "2023-07-25T21:28:10.067Z"
   },
   {
    "duration": 12,
    "start_time": "2023-07-25T21:28:58.202Z"
   },
   {
    "duration": 13,
    "start_time": "2023-07-25T21:29:59.873Z"
   },
   {
    "duration": 4,
    "start_time": "2023-07-25T21:30:07.611Z"
   },
   {
    "duration": 240,
    "start_time": "2023-07-25T21:30:07.617Z"
   },
   {
    "duration": 56,
    "start_time": "2023-07-25T21:30:07.858Z"
   },
   {
    "duration": 63,
    "start_time": "2023-07-25T21:30:07.915Z"
   },
   {
    "duration": 9,
    "start_time": "2023-07-25T21:30:07.980Z"
   },
   {
    "duration": 13,
    "start_time": "2023-07-25T21:30:07.991Z"
   },
   {
    "duration": 8,
    "start_time": "2023-07-25T21:30:08.005Z"
   },
   {
    "duration": 19,
    "start_time": "2023-07-25T21:30:08.014Z"
   },
   {
    "duration": 44,
    "start_time": "2023-07-25T21:30:08.034Z"
   },
   {
    "duration": 21,
    "start_time": "2023-07-25T21:30:08.079Z"
   },
   {
    "duration": 54,
    "start_time": "2023-07-25T21:30:08.102Z"
   },
   {
    "duration": 10,
    "start_time": "2023-07-25T21:30:08.157Z"
   },
   {
    "duration": 14,
    "start_time": "2023-07-25T21:30:08.168Z"
   },
   {
    "duration": 17,
    "start_time": "2023-07-25T21:30:08.185Z"
   },
   {
    "duration": 11,
    "start_time": "2023-07-25T21:30:08.205Z"
   },
   {
    "duration": 9,
    "start_time": "2023-07-25T21:30:08.217Z"
   },
   {
    "duration": 21,
    "start_time": "2023-07-25T21:30:08.227Z"
   },
   {
    "duration": 17,
    "start_time": "2023-07-25T21:30:08.249Z"
   },
   {
    "duration": 21,
    "start_time": "2023-07-25T21:30:08.267Z"
   },
   {
    "duration": 9,
    "start_time": "2023-07-25T21:30:08.289Z"
   },
   {
    "duration": 22,
    "start_time": "2023-07-25T21:30:08.299Z"
   },
   {
    "duration": 38,
    "start_time": "2023-07-25T21:30:08.322Z"
   },
   {
    "duration": 32,
    "start_time": "2023-07-25T21:30:08.361Z"
   },
   {
    "duration": 45,
    "start_time": "2023-07-25T21:30:08.394Z"
   },
   {
    "duration": 21,
    "start_time": "2023-07-25T21:30:08.441Z"
   },
   {
    "duration": 973,
    "start_time": "2023-07-25T21:30:08.464Z"
   },
   {
    "duration": 3,
    "start_time": "2023-07-25T21:30:09.439Z"
   },
   {
    "duration": 67,
    "start_time": "2023-07-25T21:30:09.444Z"
   },
   {
    "duration": 3,
    "start_time": "2023-07-25T21:30:09.513Z"
   },
   {
    "duration": 182,
    "start_time": "2023-07-25T21:30:09.517Z"
   },
   {
    "duration": 101,
    "start_time": "2023-07-25T21:30:09.701Z"
   },
   {
    "duration": 98,
    "start_time": "2023-07-25T21:30:09.804Z"
   },
   {
    "duration": 4,
    "start_time": "2023-07-25T21:30:09.903Z"
   },
   {
    "duration": 393,
    "start_time": "2023-07-25T21:30:09.908Z"
   },
   {
    "duration": 4,
    "start_time": "2023-07-25T21:30:10.302Z"
   },
   {
    "duration": 215,
    "start_time": "2023-07-25T21:30:10.308Z"
   },
   {
    "duration": 116,
    "start_time": "2023-07-25T21:30:10.524Z"
   },
   {
    "duration": 245,
    "start_time": "2023-07-25T21:30:10.642Z"
   },
   {
    "duration": 3,
    "start_time": "2023-07-25T21:30:10.898Z"
   },
   {
    "duration": 10,
    "start_time": "2023-07-25T21:30:10.902Z"
   },
   {
    "duration": 21724,
    "start_time": "2023-07-25T21:30:10.915Z"
   },
   {
    "duration": 673,
    "start_time": "2023-07-25T21:30:32.641Z"
   },
   {
    "duration": 173,
    "start_time": "2023-07-25T21:30:33.316Z"
   },
   {
    "duration": 47,
    "start_time": "2023-07-25T21:30:33.490Z"
   },
   {
    "duration": 6,
    "start_time": "2023-07-25T21:30:33.538Z"
   },
   {
    "duration": 0,
    "start_time": "2023-07-25T21:30:33.545Z"
   },
   {
    "duration": 0,
    "start_time": "2023-07-25T21:30:33.546Z"
   },
   {
    "duration": 0,
    "start_time": "2023-07-25T21:30:33.548Z"
   },
   {
    "duration": 0,
    "start_time": "2023-07-25T21:30:33.549Z"
   },
   {
    "duration": 0,
    "start_time": "2023-07-25T21:30:33.550Z"
   },
   {
    "duration": 0,
    "start_time": "2023-07-25T21:30:33.551Z"
   },
   {
    "duration": 0,
    "start_time": "2023-07-25T21:30:33.552Z"
   },
   {
    "duration": 46,
    "start_time": "2023-07-25T21:31:10.466Z"
   },
   {
    "duration": 15,
    "start_time": "2023-07-25T21:31:15.514Z"
   },
   {
    "duration": 33897,
    "start_time": "2023-07-25T21:31:16.013Z"
   },
   {
    "duration": 997,
    "start_time": "2023-07-25T21:31:49.911Z"
   },
   {
    "duration": 244,
    "start_time": "2023-07-25T21:31:50.910Z"
   },
   {
    "duration": 48,
    "start_time": "2023-07-25T21:31:51.156Z"
   },
   {
    "duration": 96,
    "start_time": "2023-07-25T21:31:51.206Z"
   },
   {
    "duration": 102,
    "start_time": "2023-07-25T21:31:51.307Z"
   },
   {
    "duration": 11,
    "start_time": "2023-07-25T21:32:18.650Z"
   },
   {
    "duration": 12,
    "start_time": "2023-07-26T09:17:28.014Z"
   },
   {
    "duration": 7,
    "start_time": "2023-07-26T09:17:33.566Z"
   },
   {
    "duration": 52,
    "start_time": "2023-07-26T09:17:44.735Z"
   },
   {
    "duration": 1197,
    "start_time": "2023-07-26T09:17:54.843Z"
   },
   {
    "duration": 170,
    "start_time": "2023-07-26T09:17:56.042Z"
   },
   {
    "duration": 14,
    "start_time": "2023-07-26T09:17:56.214Z"
   },
   {
    "duration": 43,
    "start_time": "2023-07-26T09:17:56.231Z"
   },
   {
    "duration": 43,
    "start_time": "2023-07-26T09:17:56.276Z"
   },
   {
    "duration": 34,
    "start_time": "2023-07-26T09:17:56.321Z"
   },
   {
    "duration": 20,
    "start_time": "2023-07-26T09:17:56.357Z"
   },
   {
    "duration": 40,
    "start_time": "2023-07-26T09:17:56.379Z"
   },
   {
    "duration": 24,
    "start_time": "2023-07-26T09:17:56.422Z"
   },
   {
    "duration": 37,
    "start_time": "2023-07-26T09:17:56.450Z"
   },
   {
    "duration": 75,
    "start_time": "2023-07-26T09:17:56.489Z"
   },
   {
    "duration": 13,
    "start_time": "2023-07-26T09:17:56.565Z"
   },
   {
    "duration": 85,
    "start_time": "2023-07-26T09:17:56.580Z"
   },
   {
    "duration": 24,
    "start_time": "2023-07-26T09:17:56.667Z"
   },
   {
    "duration": 77,
    "start_time": "2023-07-26T09:17:56.694Z"
   },
   {
    "duration": 56,
    "start_time": "2023-07-26T09:17:56.772Z"
   },
   {
    "duration": 65,
    "start_time": "2023-07-26T09:17:56.829Z"
   },
   {
    "duration": 27,
    "start_time": "2023-07-26T09:17:56.896Z"
   },
   {
    "duration": 12,
    "start_time": "2023-07-26T09:17:56.925Z"
   },
   {
    "duration": 22,
    "start_time": "2023-07-26T09:17:56.939Z"
   },
   {
    "duration": 12,
    "start_time": "2023-07-26T09:17:56.963Z"
   },
   {
    "duration": 35,
    "start_time": "2023-07-26T09:17:56.977Z"
   },
   {
    "duration": 52,
    "start_time": "2023-07-26T09:17:57.016Z"
   },
   {
    "duration": 19,
    "start_time": "2023-07-26T09:17:57.070Z"
   },
   {
    "duration": 20,
    "start_time": "2023-07-26T09:17:57.090Z"
   },
   {
    "duration": 1141,
    "start_time": "2023-07-26T09:17:57.112Z"
   },
   {
    "duration": 4,
    "start_time": "2023-07-26T09:17:58.255Z"
   },
   {
    "duration": 75,
    "start_time": "2023-07-26T09:17:58.269Z"
   },
   {
    "duration": 4,
    "start_time": "2023-07-26T09:17:58.346Z"
   },
   {
    "duration": 215,
    "start_time": "2023-07-26T09:17:58.352Z"
   },
   {
    "duration": 98,
    "start_time": "2023-07-26T09:17:58.569Z"
   },
   {
    "duration": 610,
    "start_time": "2023-07-26T09:17:58.669Z"
   },
   {
    "duration": 6,
    "start_time": "2023-07-26T09:17:59.281Z"
   },
   {
    "duration": 379,
    "start_time": "2023-07-26T09:17:59.289Z"
   },
   {
    "duration": 3,
    "start_time": "2023-07-26T09:17:59.669Z"
   },
   {
    "duration": 153,
    "start_time": "2023-07-26T09:17:59.673Z"
   },
   {
    "duration": 142,
    "start_time": "2023-07-26T09:17:59.828Z"
   },
   {
    "duration": 314,
    "start_time": "2023-07-26T09:17:59.972Z"
   },
   {
    "duration": 2,
    "start_time": "2023-07-26T09:18:00.288Z"
   },
   {
    "duration": 27,
    "start_time": "2023-07-26T09:18:00.292Z"
   },
   {
    "duration": 24196,
    "start_time": "2023-07-26T09:18:00.321Z"
   },
   {
    "duration": 676,
    "start_time": "2023-07-26T09:18:24.518Z"
   },
   {
    "duration": 169,
    "start_time": "2023-07-26T09:18:25.196Z"
   },
   {
    "duration": 37,
    "start_time": "2023-07-26T09:18:25.367Z"
   },
   {
    "duration": 265,
    "start_time": "2023-07-26T09:18:25.406Z"
   },
   {
    "duration": 104,
    "start_time": "2023-07-26T09:18:25.673Z"
   },
   {
    "duration": 27300,
    "start_time": "2023-07-26T09:18:25.779Z"
   },
   {
    "duration": 854,
    "start_time": "2023-07-26T09:18:53.081Z"
   },
   {
    "duration": 239,
    "start_time": "2023-07-26T09:18:53.937Z"
   },
   {
    "duration": 42,
    "start_time": "2023-07-26T09:18:54.178Z"
   },
   {
    "duration": 146,
    "start_time": "2023-07-26T09:18:54.222Z"
   },
   {
    "duration": 102,
    "start_time": "2023-07-26T09:18:54.370Z"
   },
   {
    "duration": 13273,
    "start_time": "2023-07-26T09:18:54.474Z"
   },
   {
    "duration": 402,
    "start_time": "2023-07-26T09:21:38.311Z"
   },
   {
    "duration": 95,
    "start_time": "2023-07-26T09:25:23.261Z"
   },
   {
    "duration": 32,
    "start_time": "2023-07-26T09:25:40.264Z"
   },
   {
    "duration": 55,
    "start_time": "2023-07-26T09:26:56.426Z"
   },
   {
    "duration": 3,
    "start_time": "2023-07-26T09:34:20.498Z"
   },
   {
    "duration": 21000,
    "start_time": "2023-07-26T09:51:21.536Z"
   },
   {
    "duration": 597,
    "start_time": "2023-07-26T09:52:26.973Z"
   },
   {
    "duration": 64,
    "start_time": "2023-07-26T09:53:39.274Z"
   },
   {
    "duration": 668,
    "start_time": "2023-07-26T09:54:50.822Z"
   },
   {
    "duration": 1229,
    "start_time": "2023-07-26T09:55:48.505Z"
   },
   {
    "duration": 59,
    "start_time": "2023-07-26T09:55:49.736Z"
   },
   {
    "duration": 14,
    "start_time": "2023-07-26T09:55:49.797Z"
   },
   {
    "duration": 21,
    "start_time": "2023-07-26T09:55:49.813Z"
   },
   {
    "duration": 6,
    "start_time": "2023-07-26T09:55:49.837Z"
   },
   {
    "duration": 20,
    "start_time": "2023-07-26T09:55:49.845Z"
   },
   {
    "duration": 7,
    "start_time": "2023-07-26T09:55:49.868Z"
   },
   {
    "duration": 18,
    "start_time": "2023-07-26T09:55:49.877Z"
   },
   {
    "duration": 5,
    "start_time": "2023-07-26T09:55:49.897Z"
   },
   {
    "duration": 19,
    "start_time": "2023-07-26T09:55:49.904Z"
   },
   {
    "duration": 87,
    "start_time": "2023-07-26T09:55:49.925Z"
   },
   {
    "duration": 15,
    "start_time": "2023-07-26T09:55:50.013Z"
   },
   {
    "duration": 43,
    "start_time": "2023-07-26T09:55:50.030Z"
   },
   {
    "duration": 20,
    "start_time": "2023-07-26T09:55:50.076Z"
   },
   {
    "duration": 21,
    "start_time": "2023-07-26T09:55:50.098Z"
   },
   {
    "duration": 16,
    "start_time": "2023-07-26T09:55:50.121Z"
   },
   {
    "duration": 11,
    "start_time": "2023-07-26T09:55:50.139Z"
   },
   {
    "duration": 9,
    "start_time": "2023-07-26T09:55:50.152Z"
   },
   {
    "duration": 19,
    "start_time": "2023-07-26T09:55:50.163Z"
   },
   {
    "duration": 19,
    "start_time": "2023-07-26T09:55:50.184Z"
   },
   {
    "duration": 12,
    "start_time": "2023-07-26T09:55:50.205Z"
   },
   {
    "duration": 17,
    "start_time": "2023-07-26T09:55:50.218Z"
   },
   {
    "duration": 28,
    "start_time": "2023-07-26T09:55:50.237Z"
   },
   {
    "duration": 25,
    "start_time": "2023-07-26T09:55:50.267Z"
   },
   {
    "duration": 19,
    "start_time": "2023-07-26T09:55:50.294Z"
   },
   {
    "duration": 1138,
    "start_time": "2023-07-26T09:55:50.315Z"
   },
   {
    "duration": 4,
    "start_time": "2023-07-26T09:55:51.455Z"
   },
   {
    "duration": 59,
    "start_time": "2023-07-26T09:55:51.467Z"
   },
   {
    "duration": 3,
    "start_time": "2023-07-26T09:55:51.528Z"
   },
   {
    "duration": 336,
    "start_time": "2023-07-26T09:55:51.533Z"
   },
   {
    "duration": 7,
    "start_time": "2023-07-26T09:55:51.870Z"
   },
   {
    "duration": 544,
    "start_time": "2023-07-26T09:55:51.969Z"
   },
   {
    "duration": 5,
    "start_time": "2023-07-26T09:55:52.515Z"
   },
   {
    "duration": 355,
    "start_time": "2023-07-26T09:55:52.522Z"
   },
   {
    "duration": 87,
    "start_time": "2023-07-26T09:55:52.879Z"
   },
   {
    "duration": 160,
    "start_time": "2023-07-26T09:55:52.968Z"
   },
   {
    "duration": 160,
    "start_time": "2023-07-26T09:55:53.130Z"
   },
   {
    "duration": 302,
    "start_time": "2023-07-26T09:55:53.292Z"
   },
   {
    "duration": 3,
    "start_time": "2023-07-26T09:55:53.595Z"
   },
   {
    "duration": 16,
    "start_time": "2023-07-26T09:55:53.600Z"
   },
   {
    "duration": 25473,
    "start_time": "2023-07-26T09:55:53.620Z"
   },
   {
    "duration": 747,
    "start_time": "2023-07-26T09:56:19.096Z"
   },
   {
    "duration": 215,
    "start_time": "2023-07-26T09:56:19.846Z"
   },
   {
    "duration": 41,
    "start_time": "2023-07-26T09:56:20.063Z"
   },
   {
    "duration": 565,
    "start_time": "2023-07-26T09:56:20.106Z"
   },
   {
    "duration": 104,
    "start_time": "2023-07-26T09:56:20.675Z"
   },
   {
    "duration": 27591,
    "start_time": "2023-07-26T09:56:20.782Z"
   },
   {
    "duration": 857,
    "start_time": "2023-07-26T09:56:48.375Z"
   },
   {
    "duration": 203,
    "start_time": "2023-07-26T09:56:49.234Z"
   },
   {
    "duration": 62,
    "start_time": "2023-07-26T09:56:49.439Z"
   },
   {
    "duration": 173,
    "start_time": "2023-07-26T09:56:49.504Z"
   },
   {
    "duration": 103,
    "start_time": "2023-07-26T09:56:49.679Z"
   },
   {
    "duration": 13301,
    "start_time": "2023-07-26T09:56:49.868Z"
   },
   {
    "duration": 411,
    "start_time": "2023-07-26T09:57:03.172Z"
   },
   {
    "duration": 100,
    "start_time": "2023-07-26T09:57:03.585Z"
   },
   {
    "duration": 24,
    "start_time": "2023-07-26T09:57:03.687Z"
   },
   {
    "duration": 64,
    "start_time": "2023-07-26T09:57:03.712Z"
   },
   {
    "duration": 193,
    "start_time": "2023-07-26T09:57:03.777Z"
   },
   {
    "duration": 24915,
    "start_time": "2023-07-26T10:07:36.392Z"
   },
   {
    "duration": 675,
    "start_time": "2023-07-26T10:09:10.510Z"
   },
   {
    "duration": 59,
    "start_time": "2023-07-26T10:10:29.568Z"
   },
   {
    "duration": 120,
    "start_time": "2023-07-26T10:22:33.975Z"
   },
   {
    "duration": 2,
    "start_time": "2023-07-26T10:23:26.360Z"
   },
   {
    "duration": 169,
    "start_time": "2023-07-26T10:25:51.907Z"
   },
   {
    "duration": 29,
    "start_time": "2023-07-26T10:27:40.680Z"
   },
   {
    "duration": 17,
    "start_time": "2023-07-26T10:30:20.113Z"
   },
   {
    "duration": 30,
    "start_time": "2023-07-26T10:36:10.081Z"
   },
   {
    "duration": 16,
    "start_time": "2023-07-26T10:36:56.273Z"
   },
   {
    "duration": 115,
    "start_time": "2023-07-26T10:38:40.072Z"
   },
   {
    "duration": 49,
    "start_time": "2023-07-26T12:09:38.135Z"
   },
   {
    "duration": 1897,
    "start_time": "2023-07-26T12:09:47.037Z"
   },
   {
    "duration": 82,
    "start_time": "2023-07-26T12:09:48.936Z"
   },
   {
    "duration": 15,
    "start_time": "2023-07-26T12:09:49.019Z"
   },
   {
    "duration": 22,
    "start_time": "2023-07-26T12:09:49.035Z"
   },
   {
    "duration": 13,
    "start_time": "2023-07-26T12:09:49.059Z"
   },
   {
    "duration": 14,
    "start_time": "2023-07-26T12:09:49.074Z"
   },
   {
    "duration": 18,
    "start_time": "2023-07-26T12:09:49.090Z"
   },
   {
    "duration": 14,
    "start_time": "2023-07-26T12:09:49.110Z"
   },
   {
    "duration": 8,
    "start_time": "2023-07-26T12:09:49.125Z"
   },
   {
    "duration": 19,
    "start_time": "2023-07-26T12:09:49.134Z"
   },
   {
    "duration": 63,
    "start_time": "2023-07-26T12:09:49.155Z"
   },
   {
    "duration": 12,
    "start_time": "2023-07-26T12:09:49.220Z"
   },
   {
    "duration": 26,
    "start_time": "2023-07-26T12:09:49.234Z"
   },
   {
    "duration": 31,
    "start_time": "2023-07-26T12:09:49.270Z"
   },
   {
    "duration": 20,
    "start_time": "2023-07-26T12:09:49.303Z"
   },
   {
    "duration": 14,
    "start_time": "2023-07-26T12:09:49.325Z"
   },
   {
    "duration": 12,
    "start_time": "2023-07-26T12:09:49.341Z"
   },
   {
    "duration": 10,
    "start_time": "2023-07-26T12:09:49.354Z"
   },
   {
    "duration": 9,
    "start_time": "2023-07-26T12:09:49.365Z"
   },
   {
    "duration": 26,
    "start_time": "2023-07-26T12:09:49.375Z"
   },
   {
    "duration": 12,
    "start_time": "2023-07-26T12:09:49.403Z"
   },
   {
    "duration": 18,
    "start_time": "2023-07-26T12:09:49.417Z"
   },
   {
    "duration": 32,
    "start_time": "2023-07-26T12:09:49.436Z"
   },
   {
    "duration": 18,
    "start_time": "2023-07-26T12:09:49.470Z"
   },
   {
    "duration": 17,
    "start_time": "2023-07-26T12:09:49.490Z"
   },
   {
    "duration": 1122,
    "start_time": "2023-07-26T12:09:49.509Z"
   },
   {
    "duration": 4,
    "start_time": "2023-07-26T12:09:50.632Z"
   },
   {
    "duration": 71,
    "start_time": "2023-07-26T12:09:50.638Z"
   },
   {
    "duration": 4,
    "start_time": "2023-07-26T12:09:50.710Z"
   },
   {
    "duration": 165,
    "start_time": "2023-07-26T12:09:50.716Z"
   },
   {
    "duration": 109,
    "start_time": "2023-07-26T12:09:50.973Z"
   },
   {
    "duration": 606,
    "start_time": "2023-07-26T12:09:51.084Z"
   },
   {
    "duration": 6,
    "start_time": "2023-07-26T12:09:51.692Z"
   },
   {
    "duration": 477,
    "start_time": "2023-07-26T12:09:51.700Z"
   },
   {
    "duration": 91,
    "start_time": "2023-07-26T12:09:52.180Z"
   },
   {
    "duration": 171,
    "start_time": "2023-07-26T12:09:52.274Z"
   },
   {
    "duration": 156,
    "start_time": "2023-07-26T12:09:52.447Z"
   },
   {
    "duration": 288,
    "start_time": "2023-07-26T12:09:52.605Z"
   },
   {
    "duration": 3,
    "start_time": "2023-07-26T12:09:52.894Z"
   },
   {
    "duration": 22,
    "start_time": "2023-07-26T12:09:52.898Z"
   },
   {
    "duration": 299,
    "start_time": "2023-07-26T12:09:52.924Z"
   },
   {
    "duration": 722,
    "start_time": "2023-07-26T12:09:53.225Z"
   },
   {
    "duration": 61,
    "start_time": "2023-07-26T12:09:53.948Z"
   },
   {
    "duration": 2,
    "start_time": "2023-07-26T12:09:54.011Z"
   },
   {
    "duration": 184,
    "start_time": "2023-07-26T12:09:54.015Z"
   },
   {
    "duration": 28,
    "start_time": "2023-07-26T12:09:54.200Z"
   },
   {
    "duration": 105,
    "start_time": "2023-07-26T12:09:54.230Z"
   },
   {
    "duration": 57,
    "start_time": "2023-07-26T12:09:54.337Z"
   },
   {
    "duration": 192,
    "start_time": "2023-07-26T12:09:54.395Z"
   },
   {
    "duration": 187,
    "start_time": "2023-07-26T12:09:54.589Z"
   },
   {
    "duration": 32772,
    "start_time": "2023-07-26T12:09:54.779Z"
   },
   {
    "duration": 772,
    "start_time": "2023-07-26T12:10:27.552Z"
   },
   {
    "duration": 57,
    "start_time": "2023-07-26T12:10:28.326Z"
   },
   {
    "duration": 203,
    "start_time": "2023-07-26T12:10:28.385Z"
   },
   {
    "duration": 41,
    "start_time": "2023-07-26T12:10:28.590Z"
   },
   {
    "duration": 250,
    "start_time": "2023-07-26T12:10:28.632Z"
   },
   {
    "duration": 113,
    "start_time": "2023-07-26T12:10:28.884Z"
   },
   {
    "duration": 12963,
    "start_time": "2023-07-26T12:10:29.071Z"
   },
   {
    "duration": 380,
    "start_time": "2023-07-26T12:10:42.036Z"
   },
   {
    "duration": 98,
    "start_time": "2023-07-26T12:10:42.418Z"
   },
   {
    "duration": 21,
    "start_time": "2023-07-26T12:10:42.518Z"
   },
   {
    "duration": 138,
    "start_time": "2023-07-26T12:10:42.541Z"
   },
   {
    "duration": 371,
    "start_time": "2023-07-26T12:10:42.682Z"
   },
   {
    "duration": 831,
    "start_time": "2023-07-26T12:11:17.495Z"
   },
   {
    "duration": 58,
    "start_time": "2023-07-26T12:12:06.304Z"
   },
   {
    "duration": 25168,
    "start_time": "2023-07-26T12:16:01.453Z"
   },
   {
    "duration": 674,
    "start_time": "2023-07-26T12:16:34.855Z"
   },
   {
    "duration": 63,
    "start_time": "2023-07-26T12:16:36.718Z"
   },
   {
    "duration": 2,
    "start_time": "2023-07-26T12:20:20.195Z"
   },
   {
    "duration": 182,
    "start_time": "2023-07-26T12:20:21.365Z"
   },
   {
    "duration": 37,
    "start_time": "2023-07-26T12:20:25.391Z"
   },
   {
    "duration": 13,
    "start_time": "2023-07-26T12:20:26.532Z"
   },
   {
    "duration": 106,
    "start_time": "2023-07-26T12:21:19.765Z"
   },
   {
    "duration": 18,
    "start_time": "2023-07-26T12:21:20.711Z"
   },
   {
    "duration": 19,
    "start_time": "2023-07-26T12:22:06.302Z"
   },
   {
    "duration": 32825,
    "start_time": "2023-07-26T12:23:25.498Z"
   },
   {
    "duration": 894,
    "start_time": "2023-07-26T12:23:58.325Z"
   },
   {
    "duration": 61,
    "start_time": "2023-07-26T12:24:05.603Z"
   },
   {
    "duration": 1488,
    "start_time": "2023-07-26T12:25:25.653Z"
   },
   {
    "duration": 46,
    "start_time": "2023-07-26T12:25:27.144Z"
   },
   {
    "duration": 18,
    "start_time": "2023-07-26T12:25:27.192Z"
   },
   {
    "duration": 13,
    "start_time": "2023-07-26T12:25:27.212Z"
   },
   {
    "duration": 11,
    "start_time": "2023-07-26T12:25:27.227Z"
   },
   {
    "duration": 37,
    "start_time": "2023-07-26T12:25:27.239Z"
   },
   {
    "duration": 24,
    "start_time": "2023-07-26T12:25:27.278Z"
   },
   {
    "duration": 44,
    "start_time": "2023-07-26T12:25:27.304Z"
   },
   {
    "duration": 25,
    "start_time": "2023-07-26T12:25:27.351Z"
   },
   {
    "duration": 49,
    "start_time": "2023-07-26T12:25:27.378Z"
   },
   {
    "duration": 49,
    "start_time": "2023-07-26T12:25:27.429Z"
   },
   {
    "duration": 18,
    "start_time": "2023-07-26T12:25:27.480Z"
   },
   {
    "duration": 25,
    "start_time": "2023-07-26T12:25:27.501Z"
   },
   {
    "duration": 25,
    "start_time": "2023-07-26T12:25:27.530Z"
   },
   {
    "duration": 17,
    "start_time": "2023-07-26T12:25:27.557Z"
   },
   {
    "duration": 14,
    "start_time": "2023-07-26T12:25:27.576Z"
   },
   {
    "duration": 14,
    "start_time": "2023-07-26T12:25:27.593Z"
   },
   {
    "duration": 15,
    "start_time": "2023-07-26T12:25:27.610Z"
   },
   {
    "duration": 11,
    "start_time": "2023-07-26T12:25:27.628Z"
   },
   {
    "duration": 18,
    "start_time": "2023-07-26T12:25:27.641Z"
   },
   {
    "duration": 10,
    "start_time": "2023-07-26T12:25:27.661Z"
   },
   {
    "duration": 14,
    "start_time": "2023-07-26T12:25:27.673Z"
   },
   {
    "duration": 98,
    "start_time": "2023-07-26T12:25:27.690Z"
   },
   {
    "duration": 22,
    "start_time": "2023-07-26T12:25:27.790Z"
   },
   {
    "duration": 28,
    "start_time": "2023-07-26T12:25:27.814Z"
   },
   {
    "duration": 1160,
    "start_time": "2023-07-26T12:25:27.844Z"
   },
   {
    "duration": 4,
    "start_time": "2023-07-26T12:25:29.006Z"
   },
   {
    "duration": 91,
    "start_time": "2023-07-26T12:25:29.011Z"
   },
   {
    "duration": 4,
    "start_time": "2023-07-26T12:25:29.104Z"
   },
   {
    "duration": 569,
    "start_time": "2023-07-26T12:25:29.109Z"
   },
   {
    "duration": 95,
    "start_time": "2023-07-26T12:25:29.681Z"
   },
   {
    "duration": 538,
    "start_time": "2023-07-26T12:25:29.780Z"
   },
   {
    "duration": 6,
    "start_time": "2023-07-26T12:25:30.320Z"
   },
   {
    "duration": 748,
    "start_time": "2023-07-26T12:25:30.328Z"
   },
   {
    "duration": 3,
    "start_time": "2023-07-26T12:25:31.078Z"
   },
   {
    "duration": 214,
    "start_time": "2023-07-26T12:25:31.082Z"
   },
   {
    "duration": 147,
    "start_time": "2023-07-26T12:25:31.297Z"
   },
   {
    "duration": 311,
    "start_time": "2023-07-26T12:25:31.447Z"
   },
   {
    "duration": 3,
    "start_time": "2023-07-26T12:25:31.759Z"
   },
   {
    "duration": 39,
    "start_time": "2023-07-26T12:25:31.771Z"
   },
   {
    "duration": 25360,
    "start_time": "2023-07-26T12:25:31.814Z"
   },
   {
    "duration": 729,
    "start_time": "2023-07-26T12:25:57.176Z"
   },
   {
    "duration": 64,
    "start_time": "2023-07-26T12:25:57.907Z"
   },
   {
    "duration": 2,
    "start_time": "2023-07-26T12:25:57.973Z"
   },
   {
    "duration": 196,
    "start_time": "2023-07-26T12:25:57.977Z"
   },
   {
    "duration": 29,
    "start_time": "2023-07-26T12:25:58.176Z"
   },
   {
    "duration": 30,
    "start_time": "2023-07-26T12:25:58.206Z"
   },
   {
    "duration": 50,
    "start_time": "2023-07-26T12:25:58.238Z"
   },
   {
    "duration": 188,
    "start_time": "2023-07-26T12:25:58.291Z"
   },
   {
    "duration": 232,
    "start_time": "2023-07-26T12:25:58.481Z"
   },
   {
    "duration": 14012,
    "start_time": "2023-07-26T12:28:28.924Z"
   },
   {
    "duration": 535,
    "start_time": "2023-07-26T12:29:01.029Z"
   },
   {
    "duration": 41,
    "start_time": "2023-07-26T12:29:16.010Z"
   },
   {
    "duration": 193,
    "start_time": "2023-07-26T12:32:14.581Z"
   },
   {
    "duration": 46,
    "start_time": "2023-07-26T12:34:52.781Z"
   },
   {
    "duration": 18,
    "start_time": "2023-07-26T12:35:10.978Z"
   },
   {
    "duration": 26,
    "start_time": "2023-07-26T12:38:32.956Z"
   },
   {
    "duration": 16,
    "start_time": "2023-07-26T12:38:57.049Z"
   },
   {
    "duration": 672,
    "start_time": "2023-07-26T12:40:08.088Z"
   },
   {
    "duration": 13,
    "start_time": "2023-07-26T12:41:39.263Z"
   },
   {
    "duration": 14832,
    "start_time": "2023-07-26T12:42:48.340Z"
   },
   {
    "duration": 58,
    "start_time": "2023-07-26T12:44:55.284Z"
   },
   {
    "duration": 89,
    "start_time": "2023-07-26T12:48:16.581Z"
   },
   {
    "duration": 13,
    "start_time": "2023-07-26T12:48:45.442Z"
   },
   {
    "duration": 15,
    "start_time": "2023-07-26T12:49:04.849Z"
   },
   {
    "duration": 17,
    "start_time": "2023-07-26T12:51:41.062Z"
   },
   {
    "duration": 364,
    "start_time": "2023-07-26T12:59:51.979Z"
   },
   {
    "duration": 985,
    "start_time": "2023-07-26T13:34:48.524Z"
   },
   {
    "duration": 903,
    "start_time": "2023-07-26T13:37:03.678Z"
   },
   {
    "duration": 13,
    "start_time": "2023-07-26T13:38:51.467Z"
   },
   {
    "duration": 10,
    "start_time": "2023-07-26T13:39:18.545Z"
   },
   {
    "duration": 56,
    "start_time": "2023-07-26T13:47:54.617Z"
   },
   {
    "duration": 48,
    "start_time": "2023-07-26T14:27:59.610Z"
   },
   {
    "duration": 4,
    "start_time": "2023-07-26T14:40:43.624Z"
   },
   {
    "duration": 42,
    "start_time": "2023-07-26T14:40:46.725Z"
   },
   {
    "duration": 17,
    "start_time": "2023-07-26T14:40:46.770Z"
   },
   {
    "duration": 10,
    "start_time": "2023-07-26T14:40:46.910Z"
   },
   {
    "duration": 6,
    "start_time": "2023-07-26T14:40:47.405Z"
   },
   {
    "duration": 6,
    "start_time": "2023-07-26T14:40:47.459Z"
   },
   {
    "duration": 3,
    "start_time": "2023-07-26T14:40:47.535Z"
   },
   {
    "duration": 6,
    "start_time": "2023-07-26T14:40:47.615Z"
   },
   {
    "duration": 4,
    "start_time": "2023-07-26T14:40:47.707Z"
   },
   {
    "duration": 55,
    "start_time": "2023-07-26T14:40:47.797Z"
   },
   {
    "duration": 44,
    "start_time": "2023-07-26T14:40:47.995Z"
   },
   {
    "duration": 13,
    "start_time": "2023-07-26T14:40:48.135Z"
   },
   {
    "duration": 12,
    "start_time": "2023-07-26T14:40:48.504Z"
   },
   {
    "duration": 9,
    "start_time": "2023-07-26T14:40:48.583Z"
   },
   {
    "duration": 10,
    "start_time": "2023-07-26T14:40:48.665Z"
   },
   {
    "duration": 5,
    "start_time": "2023-07-26T14:40:48.784Z"
   },
   {
    "duration": 6,
    "start_time": "2023-07-26T14:40:48.961Z"
   },
   {
    "duration": 3,
    "start_time": "2023-07-26T14:40:49.017Z"
   },
   {
    "duration": 5,
    "start_time": "2023-07-26T14:40:49.145Z"
   },
   {
    "duration": 4,
    "start_time": "2023-07-26T14:40:49.241Z"
   },
   {
    "duration": 2,
    "start_time": "2023-07-26T14:40:49.426Z"
   },
   {
    "duration": 8,
    "start_time": "2023-07-26T14:40:49.505Z"
   },
   {
    "duration": 20,
    "start_time": "2023-07-26T14:40:49.587Z"
   },
   {
    "duration": 19,
    "start_time": "2023-07-26T14:40:49.689Z"
   },
   {
    "duration": 20,
    "start_time": "2023-07-26T14:40:49.784Z"
   },
   {
    "duration": 1073,
    "start_time": "2023-07-26T14:40:49.890Z"
   },
   {
    "duration": 7,
    "start_time": "2023-07-26T14:40:50.965Z"
   },
   {
    "duration": 66,
    "start_time": "2023-07-26T14:40:50.974Z"
   },
   {
    "duration": 4,
    "start_time": "2023-07-26T14:40:51.042Z"
   },
   {
    "duration": 230,
    "start_time": "2023-07-26T14:40:51.047Z"
   },
   {
    "duration": 97,
    "start_time": "2023-07-26T14:40:51.279Z"
   },
   {
    "duration": 216,
    "start_time": "2023-07-26T14:40:51.378Z"
   },
   {
    "duration": 5,
    "start_time": "2023-07-26T14:40:51.596Z"
   },
   {
    "duration": 469,
    "start_time": "2023-07-26T14:40:51.603Z"
   },
   {
    "duration": 2,
    "start_time": "2023-07-26T14:40:52.075Z"
   },
   {
    "duration": 146,
    "start_time": "2023-07-26T14:40:52.079Z"
   },
   {
    "duration": 138,
    "start_time": "2023-07-26T14:40:52.227Z"
   },
   {
    "duration": 322,
    "start_time": "2023-07-26T14:40:52.371Z"
   },
   {
    "duration": 2,
    "start_time": "2023-07-26T14:40:52.695Z"
   },
   {
    "duration": 55,
    "start_time": "2023-07-26T14:40:52.699Z"
   },
   {
    "duration": 23144,
    "start_time": "2023-07-26T14:40:52.756Z"
   },
   {
    "duration": 607,
    "start_time": "2023-07-26T14:41:15.902Z"
   },
   {
    "duration": 51,
    "start_time": "2023-07-26T14:41:16.511Z"
   },
   {
    "duration": 2,
    "start_time": "2023-07-26T14:41:16.571Z"
   },
   {
    "duration": 165,
    "start_time": "2023-07-26T14:41:16.575Z"
   },
   {
    "duration": 36,
    "start_time": "2023-07-26T14:41:16.742Z"
   },
   {
    "duration": 13,
    "start_time": "2023-07-26T14:41:16.780Z"
   },
   {
    "duration": 25,
    "start_time": "2023-07-26T14:41:16.794Z"
   },
   {
    "duration": 154,
    "start_time": "2023-07-26T14:41:16.824Z"
   },
   {
    "duration": 105,
    "start_time": "2023-07-26T14:41:16.980Z"
   },
   {
    "duration": 13139,
    "start_time": "2023-07-26T14:41:17.171Z"
   },
   {
    "duration": 528,
    "start_time": "2023-07-26T14:41:30.312Z"
   },
   {
    "duration": 47,
    "start_time": "2023-07-26T14:41:30.841Z"
   },
   {
    "duration": 269,
    "start_time": "2023-07-26T14:41:30.890Z"
   },
   {
    "duration": 116,
    "start_time": "2023-07-26T14:41:31.161Z"
   },
   {
    "duration": 146,
    "start_time": "2023-07-26T14:41:31.279Z"
   },
   {
    "duration": 77,
    "start_time": "2023-07-26T14:41:31.427Z"
   },
   {
    "duration": 178,
    "start_time": "2023-07-26T14:41:31.506Z"
   },
   {
    "duration": 216,
    "start_time": "2023-07-26T14:41:31.686Z"
   },
   {
    "duration": 14896,
    "start_time": "2023-07-26T14:41:31.904Z"
   },
   {
    "duration": 348,
    "start_time": "2023-07-26T14:41:46.801Z"
   },
   {
    "duration": 61,
    "start_time": "2023-07-26T14:41:47.151Z"
   },
   {
    "duration": 95,
    "start_time": "2023-07-26T14:41:47.214Z"
   },
   {
    "duration": 11,
    "start_time": "2023-07-26T14:41:47.311Z"
   },
   {
    "duration": 12,
    "start_time": "2023-07-26T14:41:47.325Z"
   },
   {
    "duration": 33,
    "start_time": "2023-07-26T14:41:47.338Z"
   },
   {
    "duration": 207,
    "start_time": "2023-07-26T14:41:47.373Z"
   },
   {
    "duration": 971,
    "start_time": "2023-07-26T14:41:47.582Z"
   },
   {
    "duration": 8,
    "start_time": "2023-07-26T14:41:48.555Z"
   },
   {
    "duration": 48,
    "start_time": "2023-07-26T14:41:48.570Z"
   },
   {
    "duration": 10,
    "start_time": "2023-07-26T14:44:01.019Z"
   },
   {
    "duration": 5,
    "start_time": "2023-07-26T14:44:44.265Z"
   },
   {
    "duration": 5,
    "start_time": "2023-07-26T14:44:47.604Z"
   },
   {
    "duration": 71,
    "start_time": "2023-07-26T14:44:47.611Z"
   },
   {
    "duration": 13,
    "start_time": "2023-07-26T14:44:47.683Z"
   },
   {
    "duration": 35,
    "start_time": "2023-07-26T14:44:47.698Z"
   },
   {
    "duration": 17,
    "start_time": "2023-07-26T14:44:47.736Z"
   },
   {
    "duration": 27,
    "start_time": "2023-07-26T14:44:47.755Z"
   },
   {
    "duration": 14,
    "start_time": "2023-07-26T14:44:47.783Z"
   },
   {
    "duration": 24,
    "start_time": "2023-07-26T14:44:47.798Z"
   },
   {
    "duration": 14,
    "start_time": "2023-07-26T14:44:47.824Z"
   },
   {
    "duration": 30,
    "start_time": "2023-07-26T14:44:47.840Z"
   },
   {
    "duration": 46,
    "start_time": "2023-07-26T14:44:47.872Z"
   },
   {
    "duration": 12,
    "start_time": "2023-07-26T14:44:47.920Z"
   },
   {
    "duration": 29,
    "start_time": "2023-07-26T14:44:47.934Z"
   },
   {
    "duration": 10,
    "start_time": "2023-07-26T14:44:47.972Z"
   },
   {
    "duration": 15,
    "start_time": "2023-07-26T14:44:47.983Z"
   },
   {
    "duration": 12,
    "start_time": "2023-07-26T14:44:48.000Z"
   },
   {
    "duration": 6,
    "start_time": "2023-07-26T14:44:48.014Z"
   },
   {
    "duration": 9,
    "start_time": "2023-07-26T14:44:48.022Z"
   },
   {
    "duration": 24,
    "start_time": "2023-07-26T14:44:48.033Z"
   },
   {
    "duration": 16,
    "start_time": "2023-07-26T14:44:48.059Z"
   },
   {
    "duration": 13,
    "start_time": "2023-07-26T14:44:48.077Z"
   },
   {
    "duration": 18,
    "start_time": "2023-07-26T14:44:48.093Z"
   },
   {
    "duration": 25,
    "start_time": "2023-07-26T14:44:48.113Z"
   },
   {
    "duration": 18,
    "start_time": "2023-07-26T14:44:48.139Z"
   },
   {
    "duration": 20,
    "start_time": "2023-07-26T14:44:48.171Z"
   },
   {
    "duration": 1120,
    "start_time": "2023-07-26T14:44:48.193Z"
   },
   {
    "duration": 4,
    "start_time": "2023-07-26T14:44:49.315Z"
   },
   {
    "duration": 66,
    "start_time": "2023-07-26T14:44:49.321Z"
   },
   {
    "duration": 5,
    "start_time": "2023-07-26T14:44:49.388Z"
   },
   {
    "duration": 279,
    "start_time": "2023-07-26T14:44:49.394Z"
   },
   {
    "duration": 96,
    "start_time": "2023-07-26T14:44:49.676Z"
   },
   {
    "duration": 216,
    "start_time": "2023-07-26T14:44:49.779Z"
   },
   {
    "duration": 5,
    "start_time": "2023-07-26T14:44:49.997Z"
   },
   {
    "duration": 773,
    "start_time": "2023-07-26T14:44:50.003Z"
   },
   {
    "duration": 2,
    "start_time": "2023-07-26T14:44:50.778Z"
   },
   {
    "duration": 162,
    "start_time": "2023-07-26T14:44:50.782Z"
   },
   {
    "duration": 142,
    "start_time": "2023-07-26T14:44:50.945Z"
   },
   {
    "duration": 316,
    "start_time": "2023-07-26T14:44:51.088Z"
   },
   {
    "duration": 2,
    "start_time": "2023-07-26T14:44:51.406Z"
   },
   {
    "duration": 45,
    "start_time": "2023-07-26T14:44:51.410Z"
   },
   {
    "duration": 23952,
    "start_time": "2023-07-26T14:44:51.459Z"
   },
   {
    "duration": 633,
    "start_time": "2023-07-26T14:45:15.413Z"
   },
   {
    "duration": 64,
    "start_time": "2023-07-26T14:45:16.049Z"
   },
   {
    "duration": 2,
    "start_time": "2023-07-26T14:45:16.115Z"
   },
   {
    "duration": 204,
    "start_time": "2023-07-26T14:45:16.119Z"
   },
   {
    "duration": 33,
    "start_time": "2023-07-26T14:45:16.326Z"
   },
   {
    "duration": 18,
    "start_time": "2023-07-26T14:45:16.371Z"
   },
   {
    "duration": 53,
    "start_time": "2023-07-26T14:45:16.391Z"
   },
   {
    "duration": 137,
    "start_time": "2023-07-26T14:45:16.447Z"
   },
   {
    "duration": 190,
    "start_time": "2023-07-26T14:45:16.586Z"
   },
   {
    "duration": 13508,
    "start_time": "2023-07-26T14:45:16.778Z"
   },
   {
    "duration": 530,
    "start_time": "2023-07-26T14:45:30.288Z"
   },
   {
    "duration": 40,
    "start_time": "2023-07-26T14:45:30.820Z"
   },
   {
    "duration": 195,
    "start_time": "2023-07-26T14:45:30.870Z"
   },
   {
    "duration": 34,
    "start_time": "2023-07-26T14:45:31.067Z"
   },
   {
    "duration": 55,
    "start_time": "2023-07-26T14:45:31.103Z"
   },
   {
    "duration": 83,
    "start_time": "2023-07-26T14:45:31.160Z"
   },
   {
    "duration": 167,
    "start_time": "2023-07-26T14:45:31.245Z"
   },
   {
    "duration": 158,
    "start_time": "2023-07-26T14:45:31.416Z"
   },
   {
    "duration": 14837,
    "start_time": "2023-07-26T14:45:31.575Z"
   },
   {
    "duration": 380,
    "start_time": "2023-07-26T14:45:46.414Z"
   },
   {
    "duration": 73,
    "start_time": "2023-07-26T14:45:46.798Z"
   },
   {
    "duration": 114,
    "start_time": "2023-07-26T14:45:46.873Z"
   },
   {
    "duration": 12,
    "start_time": "2023-07-26T14:45:46.989Z"
   },
   {
    "duration": 22,
    "start_time": "2023-07-26T14:45:47.003Z"
   },
   {
    "duration": 48,
    "start_time": "2023-07-26T14:45:47.027Z"
   },
   {
    "duration": 114,
    "start_time": "2023-07-26T14:45:47.077Z"
   },
   {
    "duration": 926,
    "start_time": "2023-07-26T14:45:47.271Z"
   },
   {
    "duration": 10,
    "start_time": "2023-07-26T14:45:48.199Z"
   },
   {
    "duration": 64,
    "start_time": "2023-07-26T14:45:48.211Z"
   },
   {
    "duration": 135,
    "start_time": "2023-07-26T14:45:48.276Z"
   },
   {
    "duration": 158,
    "start_time": "2023-07-26T14:57:51.742Z"
   },
   {
    "duration": 7,
    "start_time": "2023-07-26T15:20:01.884Z"
   },
   {
    "duration": 111,
    "start_time": "2023-07-26T15:20:01.895Z"
   },
   {
    "duration": 15,
    "start_time": "2023-07-26T15:20:02.008Z"
   },
   {
    "duration": 34,
    "start_time": "2023-07-26T15:20:02.025Z"
   },
   {
    "duration": 53,
    "start_time": "2023-07-26T15:20:02.062Z"
   },
   {
    "duration": 43,
    "start_time": "2023-07-26T15:20:02.117Z"
   },
   {
    "duration": 41,
    "start_time": "2023-07-26T15:20:02.163Z"
   },
   {
    "duration": 58,
    "start_time": "2023-07-26T15:20:02.207Z"
   },
   {
    "duration": 83,
    "start_time": "2023-07-26T15:20:02.267Z"
   },
   {
    "duration": 52,
    "start_time": "2023-07-26T15:20:02.352Z"
   },
   {
    "duration": 84,
    "start_time": "2023-07-26T15:20:02.406Z"
   },
   {
    "duration": 30,
    "start_time": "2023-07-26T15:20:02.492Z"
   },
   {
    "duration": 53,
    "start_time": "2023-07-26T15:20:02.524Z"
   },
   {
    "duration": 65,
    "start_time": "2023-07-26T15:20:02.580Z"
   },
   {
    "duration": 63,
    "start_time": "2023-07-26T15:20:02.647Z"
   },
   {
    "duration": 19,
    "start_time": "2023-07-26T15:20:02.711Z"
   },
   {
    "duration": 18,
    "start_time": "2023-07-26T15:20:02.731Z"
   },
   {
    "duration": 17,
    "start_time": "2023-07-26T15:20:02.750Z"
   },
   {
    "duration": 9,
    "start_time": "2023-07-26T15:20:02.768Z"
   },
   {
    "duration": 29,
    "start_time": "2023-07-26T15:20:02.779Z"
   },
   {
    "duration": 38,
    "start_time": "2023-07-26T15:20:02.810Z"
   },
   {
    "duration": 28,
    "start_time": "2023-07-26T15:20:02.851Z"
   },
   {
    "duration": 61,
    "start_time": "2023-07-26T15:20:02.882Z"
   },
   {
    "duration": 50,
    "start_time": "2023-07-26T15:20:02.945Z"
   },
   {
    "duration": 18,
    "start_time": "2023-07-26T15:20:02.997Z"
   },
   {
    "duration": 1119,
    "start_time": "2023-07-26T15:20:03.017Z"
   },
   {
    "duration": 5,
    "start_time": "2023-07-26T15:20:04.138Z"
   },
   {
    "duration": 70,
    "start_time": "2023-07-26T15:20:04.144Z"
   },
   {
    "duration": 4,
    "start_time": "2023-07-26T15:20:04.215Z"
   },
   {
    "duration": 164,
    "start_time": "2023-07-26T15:20:04.221Z"
   },
   {
    "duration": 98,
    "start_time": "2023-07-26T15:20:04.473Z"
   },
   {
    "duration": 130,
    "start_time": "2023-07-26T15:20:04.573Z"
   },
   {
    "duration": 5,
    "start_time": "2023-07-26T15:20:04.705Z"
   },
   {
    "duration": 559,
    "start_time": "2023-07-26T15:20:04.712Z"
   },
   {
    "duration": 2,
    "start_time": "2023-07-26T15:20:05.274Z"
   },
   {
    "duration": 153,
    "start_time": "2023-07-26T15:20:05.278Z"
   },
   {
    "duration": 131,
    "start_time": "2023-07-26T15:20:05.433Z"
   },
   {
    "duration": 323,
    "start_time": "2023-07-26T15:20:05.570Z"
   },
   {
    "duration": 3,
    "start_time": "2023-07-26T15:20:05.895Z"
   },
   {
    "duration": 16,
    "start_time": "2023-07-26T15:20:05.900Z"
   },
   {
    "duration": 23882,
    "start_time": "2023-07-26T15:20:05.920Z"
   },
   {
    "duration": 593,
    "start_time": "2023-07-26T15:20:29.804Z"
   },
   {
    "duration": 56,
    "start_time": "2023-07-26T15:20:30.399Z"
   },
   {
    "duration": 13,
    "start_time": "2023-07-26T15:20:30.457Z"
   },
   {
    "duration": 191,
    "start_time": "2023-07-26T15:20:30.472Z"
   },
   {
    "duration": 30,
    "start_time": "2023-07-26T15:20:30.665Z"
   },
   {
    "duration": 54,
    "start_time": "2023-07-26T15:20:30.697Z"
   },
   {
    "duration": 46,
    "start_time": "2023-07-26T15:20:30.752Z"
   },
   {
    "duration": 178,
    "start_time": "2023-07-26T15:20:30.800Z"
   },
   {
    "duration": 171,
    "start_time": "2023-07-26T15:20:30.980Z"
   },
   {
    "duration": 13528,
    "start_time": "2023-07-26T15:20:31.152Z"
   },
   {
    "duration": 522,
    "start_time": "2023-07-26T15:20:44.682Z"
   },
   {
    "duration": 38,
    "start_time": "2023-07-26T15:20:45.205Z"
   },
   {
    "duration": 199,
    "start_time": "2023-07-26T15:20:45.245Z"
   },
   {
    "duration": 41,
    "start_time": "2023-07-26T15:20:45.446Z"
   },
   {
    "duration": 13,
    "start_time": "2023-07-26T15:20:45.489Z"
   },
   {
    "duration": 67,
    "start_time": "2023-07-26T15:20:45.504Z"
   },
   {
    "duration": 109,
    "start_time": "2023-07-26T15:20:45.574Z"
   },
   {
    "duration": 187,
    "start_time": "2023-07-26T15:20:45.686Z"
   },
   {
    "duration": 15013,
    "start_time": "2023-07-26T15:20:45.875Z"
   },
   {
    "duration": 344,
    "start_time": "2023-07-26T15:21:00.890Z"
   },
   {
    "duration": 58,
    "start_time": "2023-07-26T15:21:01.236Z"
   },
   {
    "duration": 98,
    "start_time": "2023-07-26T15:21:01.296Z"
   },
   {
    "duration": 12,
    "start_time": "2023-07-26T15:21:01.396Z"
   },
   {
    "duration": 42,
    "start_time": "2023-07-26T15:21:01.409Z"
   },
   {
    "duration": 95,
    "start_time": "2023-07-26T15:21:01.453Z"
   },
   {
    "duration": 136,
    "start_time": "2023-07-26T15:21:01.550Z"
   },
   {
    "duration": 931,
    "start_time": "2023-07-26T15:21:01.773Z"
   },
   {
    "duration": 9,
    "start_time": "2023-07-26T15:21:02.706Z"
   },
   {
    "duration": 57,
    "start_time": "2023-07-26T15:21:02.717Z"
   },
   {
    "duration": 136,
    "start_time": "2023-07-26T15:21:02.776Z"
   },
   {
    "duration": 11,
    "start_time": "2023-07-26T15:24:04.814Z"
   },
   {
    "duration": 53,
    "start_time": "2023-07-26T20:42:32.618Z"
   },
   {
    "duration": 79,
    "start_time": "2023-07-26T20:46:21.095Z"
   },
   {
    "duration": 87,
    "start_time": "2023-07-26T20:49:41.169Z"
   },
   {
    "duration": 2452,
    "start_time": "2023-08-13T11:28:56.530Z"
   },
   {
    "duration": 174,
    "start_time": "2023-08-13T11:28:58.985Z"
   },
   {
    "duration": 15,
    "start_time": "2023-08-13T11:28:59.161Z"
   },
   {
    "duration": 11,
    "start_time": "2023-08-13T11:28:59.178Z"
   },
   {
    "duration": 138,
    "start_time": "2023-08-13T11:28:59.191Z"
   },
   {
    "duration": 29,
    "start_time": "2023-08-13T11:28:59.331Z"
   },
   {
    "duration": 349,
    "start_time": "2023-08-13T11:28:59.362Z"
   },
   {
    "duration": 51,
    "start_time": "2023-08-13T11:28:59.713Z"
   },
   {
    "duration": 20,
    "start_time": "2023-08-13T11:28:59.766Z"
   },
   {
    "duration": 70,
    "start_time": "2023-08-13T11:28:59.789Z"
   },
   {
    "duration": 111,
    "start_time": "2023-08-13T11:28:59.861Z"
   },
   {
    "duration": 13,
    "start_time": "2023-08-13T11:28:59.974Z"
   },
   {
    "duration": 71,
    "start_time": "2023-08-13T11:28:59.989Z"
   },
   {
    "duration": 12,
    "start_time": "2023-08-13T11:29:00.062Z"
   },
   {
    "duration": 14,
    "start_time": "2023-08-13T11:29:00.076Z"
   },
   {
    "duration": 71,
    "start_time": "2023-08-13T11:29:00.091Z"
   },
   {
    "duration": 9,
    "start_time": "2023-08-13T11:29:00.165Z"
   },
   {
    "duration": 19,
    "start_time": "2023-08-13T11:29:00.176Z"
   },
   {
    "duration": 66,
    "start_time": "2023-08-13T11:29:00.197Z"
   },
   {
    "duration": 15,
    "start_time": "2023-08-13T11:29:00.265Z"
   },
   {
    "duration": 37,
    "start_time": "2023-08-13T11:29:00.282Z"
   },
   {
    "duration": 35,
    "start_time": "2023-08-13T11:29:00.359Z"
   },
   {
    "duration": 90,
    "start_time": "2023-08-13T11:29:00.397Z"
   },
   {
    "duration": 91,
    "start_time": "2023-08-13T11:29:00.490Z"
   },
   {
    "duration": 100,
    "start_time": "2023-08-13T11:29:00.583Z"
   },
   {
    "duration": 2304,
    "start_time": "2023-08-13T11:29:00.685Z"
   },
   {
    "duration": 4,
    "start_time": "2023-08-13T11:29:02.991Z"
   },
   {
    "duration": 173,
    "start_time": "2023-08-13T11:29:02.999Z"
   },
   {
    "duration": 4,
    "start_time": "2023-08-13T11:29:03.174Z"
   },
   {
    "duration": 282,
    "start_time": "2023-08-13T11:29:03.180Z"
   },
   {
    "duration": 96,
    "start_time": "2023-08-13T11:29:03.464Z"
   },
   {
    "duration": 330,
    "start_time": "2023-08-13T11:29:03.563Z"
   },
   {
    "duration": 64,
    "start_time": "2023-08-13T11:29:03.895Z"
   },
   {
    "duration": 600,
    "start_time": "2023-08-13T11:29:03.962Z"
   },
   {
    "duration": 3,
    "start_time": "2023-08-13T11:29:04.564Z"
   },
   {
    "duration": 326,
    "start_time": "2023-08-13T11:29:04.569Z"
   },
   {
    "duration": 297,
    "start_time": "2023-08-13T11:29:04.897Z"
   },
   {
    "duration": 474,
    "start_time": "2023-08-13T11:29:05.196Z"
   },
   {
    "duration": 2,
    "start_time": "2023-08-13T11:29:05.672Z"
   },
   {
    "duration": 16,
    "start_time": "2023-08-13T11:29:05.676Z"
   },
   {
    "duration": 47790,
    "start_time": "2023-08-13T11:29:05.694Z"
   },
   {
    "duration": 1492,
    "start_time": "2023-08-13T11:29:53.486Z"
   },
   {
    "duration": 112,
    "start_time": "2023-08-13T11:29:54.980Z"
   },
   {
    "duration": 3,
    "start_time": "2023-08-13T11:29:55.095Z"
   },
   {
    "duration": 459,
    "start_time": "2023-08-13T11:29:55.100Z"
   },
   {
    "duration": 34,
    "start_time": "2023-08-13T11:29:55.562Z"
   },
   {
    "duration": 72,
    "start_time": "2023-08-13T11:29:55.598Z"
   },
   {
    "duration": 105,
    "start_time": "2023-08-13T11:29:55.672Z"
   },
   {
    "duration": 105,
    "start_time": "2023-08-13T11:29:55.860Z"
   },
   {
    "duration": 192,
    "start_time": "2023-08-13T11:29:55.967Z"
   },
   {
    "duration": 28714,
    "start_time": "2023-08-13T11:29:56.161Z"
   },
   {
    "duration": 1114,
    "start_time": "2023-08-13T11:30:24.877Z"
   },
   {
    "duration": 102,
    "start_time": "2023-08-13T11:30:25.992Z"
   },
   {
    "duration": 393,
    "start_time": "2023-08-13T11:30:26.096Z"
   },
   {
    "duration": 92,
    "start_time": "2023-08-13T11:30:26.491Z"
   },
   {
    "duration": 16,
    "start_time": "2023-08-13T11:30:26.585Z"
   },
   {
    "duration": 200,
    "start_time": "2023-08-13T11:30:26.660Z"
   },
   {
    "duration": 104,
    "start_time": "2023-08-13T11:30:26.863Z"
   },
   {
    "duration": 99,
    "start_time": "2023-08-13T11:30:26.969Z"
   },
   {
    "duration": 15379,
    "start_time": "2023-08-13T11:30:27.069Z"
   },
   {
    "duration": 347,
    "start_time": "2023-08-13T11:30:42.450Z"
   },
   {
    "duration": 60,
    "start_time": "2023-08-13T11:30:42.799Z"
   },
   {
    "duration": 82,
    "start_time": "2023-08-13T11:30:42.861Z"
   },
   {
    "duration": 26,
    "start_time": "2023-08-13T11:30:42.945Z"
   },
   {
    "duration": 14,
    "start_time": "2023-08-13T11:30:42.973Z"
   },
   {
    "duration": 15,
    "start_time": "2023-08-13T11:30:42.989Z"
   },
   {
    "duration": 158,
    "start_time": "2023-08-13T11:30:43.005Z"
   },
   {
    "duration": 907,
    "start_time": "2023-08-13T11:30:43.165Z"
   },
   {
    "duration": 14,
    "start_time": "2023-08-13T11:30:44.076Z"
   },
   {
    "duration": 70,
    "start_time": "2023-08-13T11:30:44.092Z"
   },
   {
    "duration": 177,
    "start_time": "2023-08-13T11:30:44.164Z"
   },
   {
    "duration": 1625,
    "start_time": "2023-08-13T14:56:16.304Z"
   },
   {
    "duration": 192,
    "start_time": "2023-08-13T14:56:17.932Z"
   },
   {
    "duration": 17,
    "start_time": "2023-08-13T14:56:18.126Z"
   },
   {
    "duration": 12,
    "start_time": "2023-08-13T14:56:18.145Z"
   },
   {
    "duration": 23,
    "start_time": "2023-08-13T14:56:18.160Z"
   },
   {
    "duration": 14,
    "start_time": "2023-08-13T14:56:18.184Z"
   },
   {
    "duration": 17,
    "start_time": "2023-08-13T14:56:18.199Z"
   },
   {
    "duration": 6,
    "start_time": "2023-08-13T14:56:18.218Z"
   },
   {
    "duration": 5,
    "start_time": "2023-08-13T14:56:18.226Z"
   },
   {
    "duration": 15,
    "start_time": "2023-08-13T14:56:18.232Z"
   },
   {
    "duration": 85,
    "start_time": "2023-08-13T14:56:18.249Z"
   },
   {
    "duration": 16,
    "start_time": "2023-08-13T14:56:18.336Z"
   },
   {
    "duration": 31,
    "start_time": "2023-08-13T14:56:18.354Z"
   },
   {
    "duration": 14,
    "start_time": "2023-08-13T14:56:18.389Z"
   },
   {
    "duration": 16,
    "start_time": "2023-08-13T14:56:18.405Z"
   },
   {
    "duration": 14,
    "start_time": "2023-08-13T14:56:18.423Z"
   },
   {
    "duration": 18,
    "start_time": "2023-08-13T14:56:18.439Z"
   },
   {
    "duration": 16,
    "start_time": "2023-08-13T14:56:18.459Z"
   },
   {
    "duration": 19,
    "start_time": "2023-08-13T14:56:18.476Z"
   },
   {
    "duration": 4,
    "start_time": "2023-08-13T14:56:18.498Z"
   },
   {
    "duration": 3,
    "start_time": "2023-08-13T14:56:18.504Z"
   },
   {
    "duration": 11,
    "start_time": "2023-08-13T14:56:18.509Z"
   },
   {
    "duration": 23,
    "start_time": "2023-08-13T14:56:18.522Z"
   },
   {
    "duration": 61,
    "start_time": "2023-08-13T14:56:18.547Z"
   },
   {
    "duration": 24,
    "start_time": "2023-08-13T14:56:18.610Z"
   },
   {
    "duration": 1230,
    "start_time": "2023-08-13T14:56:18.636Z"
   },
   {
    "duration": 6,
    "start_time": "2023-08-13T14:56:19.868Z"
   },
   {
    "duration": 74,
    "start_time": "2023-08-13T14:56:19.876Z"
   },
   {
    "duration": 4,
    "start_time": "2023-08-13T14:56:19.952Z"
   },
   {
    "duration": 421,
    "start_time": "2023-08-13T14:56:19.958Z"
   },
   {
    "duration": 19,
    "start_time": "2023-08-13T14:56:20.384Z"
   },
   {
    "duration": 253,
    "start_time": "2023-08-13T14:56:20.413Z"
   },
   {
    "duration": 7,
    "start_time": "2023-08-13T14:56:20.668Z"
   },
   {
    "duration": 698,
    "start_time": "2023-08-13T14:56:20.685Z"
   },
   {
    "duration": 4,
    "start_time": "2023-08-13T14:56:21.386Z"
   },
   {
    "duration": 167,
    "start_time": "2023-08-13T14:56:21.393Z"
   },
   {
    "duration": 155,
    "start_time": "2023-08-13T14:56:21.563Z"
   },
   {
    "duration": 298,
    "start_time": "2023-08-13T14:56:21.720Z"
   },
   {
    "duration": 3,
    "start_time": "2023-08-13T14:56:22.021Z"
   },
   {
    "duration": 5,
    "start_time": "2023-08-13T14:56:22.025Z"
   },
   {
    "duration": 26501,
    "start_time": "2023-08-13T14:56:22.036Z"
   },
   {
    "duration": 663,
    "start_time": "2023-08-13T14:56:48.540Z"
   },
   {
    "duration": 71,
    "start_time": "2023-08-13T14:56:49.205Z"
   },
   {
    "duration": 3,
    "start_time": "2023-08-13T14:56:49.278Z"
   },
   {
    "duration": 179,
    "start_time": "2023-08-13T14:56:49.283Z"
   },
   {
    "duration": 44,
    "start_time": "2023-08-13T14:56:49.463Z"
   },
   {
    "duration": 14,
    "start_time": "2023-08-13T14:56:49.509Z"
   },
   {
    "duration": 57,
    "start_time": "2023-08-13T14:56:49.524Z"
   },
   {
    "duration": 119,
    "start_time": "2023-08-13T14:56:49.584Z"
   },
   {
    "duration": 101,
    "start_time": "2023-08-13T14:56:49.708Z"
   },
   {
    "duration": 15004,
    "start_time": "2023-08-13T14:56:49.812Z"
   },
   {
    "duration": 594,
    "start_time": "2023-08-13T14:57:04.818Z"
   },
   {
    "duration": 47,
    "start_time": "2023-08-13T14:57:05.416Z"
   },
   {
    "duration": 281,
    "start_time": "2023-08-13T14:57:05.466Z"
   },
   {
    "duration": 47,
    "start_time": "2023-08-13T14:57:05.750Z"
   },
   {
    "duration": 20,
    "start_time": "2023-08-13T14:57:05.800Z"
   },
   {
    "duration": 61,
    "start_time": "2023-08-13T14:57:05.822Z"
   },
   {
    "duration": 196,
    "start_time": "2023-08-13T14:57:05.886Z"
   },
   {
    "duration": 94,
    "start_time": "2023-08-13T14:57:06.087Z"
   },
   {
    "duration": 17265,
    "start_time": "2023-08-13T14:57:06.189Z"
   },
   {
    "duration": 424,
    "start_time": "2023-08-13T14:57:23.456Z"
   },
   {
    "duration": 67,
    "start_time": "2023-08-13T14:57:23.882Z"
   },
   {
    "duration": 140,
    "start_time": "2023-08-13T14:57:23.952Z"
   },
   {
    "duration": 17,
    "start_time": "2023-08-13T14:57:24.095Z"
   },
   {
    "duration": 26,
    "start_time": "2023-08-13T14:57:24.115Z"
   },
   {
    "duration": 55,
    "start_time": "2023-08-13T14:57:24.143Z"
   },
   {
    "duration": 179,
    "start_time": "2023-08-13T14:57:24.201Z"
   },
   {
    "duration": 999,
    "start_time": "2023-08-13T14:57:24.382Z"
   },
   {
    "duration": 15,
    "start_time": "2023-08-13T14:57:25.383Z"
   },
   {
    "duration": 56,
    "start_time": "2023-08-13T14:57:25.401Z"
   },
   {
    "duration": 166,
    "start_time": "2023-08-13T14:57:25.459Z"
   },
   {
    "duration": 19,
    "start_time": "2023-08-13T14:57:44.031Z"
   },
   {
    "duration": 31,
    "start_time": "2023-08-13T14:57:46.069Z"
   },
   {
    "duration": 17,
    "start_time": "2023-08-13T14:57:47.998Z"
   }
  ],
  "kernelspec": {
   "display_name": "Python 3 (ipykernel)",
   "language": "python",
   "name": "python3"
  },
  "language_info": {
   "codemirror_mode": {
    "name": "ipython",
    "version": 3
   },
   "file_extension": ".py",
   "mimetype": "text/x-python",
   "name": "python",
   "nbconvert_exporter": "python",
   "pygments_lexer": "ipython3",
   "version": "3.9.2"
  },
  "toc": {
   "base_numbering": 1,
   "nav_menu": {},
   "number_sections": true,
   "sideBar": true,
   "skip_h1_title": true,
   "title_cell": "Содержание",
   "title_sidebar": "Contents",
   "toc_cell": true,
   "toc_position": {},
   "toc_section_display": true,
   "toc_window_display": true
  }
 },
 "nbformat": 4,
 "nbformat_minor": 2
}
